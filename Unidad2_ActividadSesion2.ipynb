{
 "cells": [
  {
   "cell_type": "markdown",
   "metadata": {},
   "source": [
    "## <h1 align=\"center\">Actividad Sesión 2: Agrupar datos textuales con el Modelo de Tópicos y el algoritmo Latent Dirichlet Allocation (LDA)</h3>"
   ]
  },
  {
   "cell_type": "markdown",
   "metadata": {},
   "source": [
    "<div style=\"border: 2px solid #1c75c8; background-color: #c5ddf6;\">\n",
    "<h2> Preámbulo</h2>\n",
    "<p> Esta actividad se inspira de ejercicios disponibles en los recursos siguientes:<p>\n",
    "<ul>\n",
    "    <li>Biblioteca <a href=\"http://scikit-learn.org/stable/install.html/\">SciKit-learn</a> de Python</li>\n",
    "    <li>Código disponible en  <a href=\"https://github.com/lda-project/lda/\">lda-project</a></li>\n",
    "    <li>Basado en material preparado  por el Prof. Matthieu Vernier</li>\n",
    "</ul>\n",
    "<p> La actividad requiere el uso de Python 3.x y <a href=\"http://jupyter.org/install\">Jupyter Notebook</a>. El código entregado fue probado con Python 3.9.7. Para saber cuál versión de Python usted está utilizando, ejecutar la celda siguiente (está información es importante cuando se necesitará instalar nuevos paquetes.)\n",
    "</p>\n",
    "</div>"
   ]
  },
  {
   "cell_type": "code",
   "execution_count": 51,
   "metadata": {},
   "outputs": [
    {
     "name": "stdout",
     "output_type": "stream",
     "text": [
      "3.9.7 (default, Sep 16 2021, 13:09:58) \n",
      "[GCC 7.5.0]\n"
     ]
    }
   ],
   "source": [
    "import sys\n",
    "print(sys.version)"
   ]
  },
  {
   "cell_type": "markdown",
   "metadata": {},
   "source": [
    "\n",
    "<div style=\"border: 2px solid #D24747; background-color:#F8B4B4\">\n",
    "<h2>Objetivos de la actividad</h2>\n",
    "<p>El <b>objetivo general</b> de esta actividad consiste en  explorar la estructura oculta de un conjunto de datos textuales.</p>\n",
    "<p> Comenzaremos por utilizar un  algoritmo de clustering tradicional como Kmeans para explorar datos textuales, considerando la medida tf-idf por cada término presente en cada texto, para caracterizar los textos y construir distancias entre ellos.</p>\n",
    "<p>En una segunda fase utilizaremos el <a href=\"https://drive.google.com/open?id=1rSQPJvRVj0V_IChzspQMRPNwlDTkHYHp\"> Modelo Probabilista De Tópicos </a> para descubrir tópicos en los textos. Para ello se utilizará el algoritmo de asignación de tópicos latentes conocido como <a href= \"https://drive.google.com/open?id=1BobImO3192hifZPLXowd14gryVAUzBPW\">Latent Dirichlet Allocation (LDA)</a>. El enfoque es probabilista, por lo que el resultado del algoritmo es descubrir tópicos en los textos (el número de tópicos es definido por el analista) y asignar una distribución de probabilidad de tópicos en cada texto.</p>  Dependiendo del tamaño de los textos, es también posible agruparlos de acuerdo al tópico con mayor representación en cada uno, lo que permitirá comparar esta metodología con los algoritmos de clustering clásicos.</p> </div>\n",
    "    \n",
    "  "
   ]
  },
  {
   "cell_type": "markdown",
   "metadata": {},
   "source": [
    "<div style=\"border: 2px solid #D24747; background-color:#F8B4B4\">\n",
    "<p>Utilizaremos los mismos datos que en la sesión anterior.</p>   "
   ]
  },
  {
   "cell_type": "code",
   "execution_count": 2,
   "metadata": {},
   "outputs": [
    {
     "data": {
      "text/html": [
       "<div>\n",
       "<style scoped>\n",
       "    .dataframe tbody tr th:only-of-type {\n",
       "        vertical-align: middle;\n",
       "    }\n",
       "\n",
       "    .dataframe tbody tr th {\n",
       "        vertical-align: top;\n",
       "    }\n",
       "\n",
       "    .dataframe thead th {\n",
       "        text-align: right;\n",
       "    }\n",
       "</style>\n",
       "<table border=\"1\" class=\"dataframe\">\n",
       "  <thead>\n",
       "    <tr style=\"text-align: right;\">\n",
       "      <th></th>\n",
       "      <th>Unnamed: 0</th>\n",
       "      <th>id_news</th>\n",
       "      <th>country</th>\n",
       "      <th>media_outlet</th>\n",
       "      <th>url</th>\n",
       "      <th>title</th>\n",
       "      <th>text</th>\n",
       "      <th>date</th>\n",
       "      <th>search</th>\n",
       "    </tr>\n",
       "  </thead>\n",
       "  <tbody>\n",
       "    <tr>\n",
       "      <th>0</th>\n",
       "      <td>0</td>\n",
       "      <td>17785718.0</td>\n",
       "      <td>chile</td>\n",
       "      <td>emol</td>\n",
       "      <td>https://www.emol.com/noticias/Autos/2021/02/24...</td>\n",
       "      <td>Estudio advierte que la contaminación acústica...</td>\n",
       "      <td>La prestigiosa revista estadounidense  The Atl...</td>\n",
       "      <td>2021-02-25</td>\n",
       "      <td>contaminación acústica</td>\n",
       "    </tr>\n",
       "    <tr>\n",
       "      <th>1</th>\n",
       "      <td>1</td>\n",
       "      <td>22416427.0</td>\n",
       "      <td>chile</td>\n",
       "      <td>laestrelladechiloe</td>\n",
       "      <td>https://www.laestrellachiloe.cl/impresa/2021/0...</td>\n",
       "      <td>La contaminación acústica</td>\n",
       "      <td>La contaminación acústica, según la Organizaci...</td>\n",
       "      <td>2021-06-15</td>\n",
       "      <td>contaminación acústica</td>\n",
       "    </tr>\n",
       "    <tr>\n",
       "      <th>2</th>\n",
       "      <td>2</td>\n",
       "      <td>261700.0</td>\n",
       "      <td>chile</td>\n",
       "      <td>biobiochile</td>\n",
       "      <td>https://www.biobiochile.cl/noticias/nacional/r...</td>\n",
       "      <td>Justicia ordena al municipio de Concepción fis...</td>\n",
       "      <td>La Municipalidad de Concepción deberá fiscaliz...</td>\n",
       "      <td>2020-07-02</td>\n",
       "      <td>contaminación acústica</td>\n",
       "    </tr>\n",
       "    <tr>\n",
       "      <th>3</th>\n",
       "      <td>3</td>\n",
       "      <td>22330373.0</td>\n",
       "      <td>chile</td>\n",
       "      <td>elllanquihue</td>\n",
       "      <td>https://www.ellanquihue.cl/impresa/2021/07/07/...</td>\n",
       "      <td>Contaminación acústica</td>\n",
       "      <td>La contaminación acústica, según la Organizaci...</td>\n",
       "      <td>2021-07-07</td>\n",
       "      <td>contaminación acústica</td>\n",
       "    </tr>\n",
       "    <tr>\n",
       "      <th>4</th>\n",
       "      <td>4</td>\n",
       "      <td>13871464.0</td>\n",
       "      <td>chile</td>\n",
       "      <td>emol</td>\n",
       "      <td>https://www.emol.com/noticias/Nacional/2018/11...</td>\n",
       "      <td>Los siete puntos estratégicos de Santiago que ...</td>\n",
       "      <td>SANTIAGO.- El  Ministerio del Medio Ambiente  ...</td>\n",
       "      <td>2018-11-21</td>\n",
       "      <td>contaminación acústica</td>\n",
       "    </tr>\n",
       "  </tbody>\n",
       "</table>\n",
       "</div>"
      ],
      "text/plain": [
       "   Unnamed: 0     id_news country        media_outlet  \\\n",
       "0           0  17785718.0   chile                emol   \n",
       "1           1  22416427.0   chile  laestrelladechiloe   \n",
       "2           2    261700.0   chile         biobiochile   \n",
       "3           3  22330373.0   chile        elllanquihue   \n",
       "4           4  13871464.0   chile                emol   \n",
       "\n",
       "                                                 url  \\\n",
       "0  https://www.emol.com/noticias/Autos/2021/02/24...   \n",
       "1  https://www.laestrellachiloe.cl/impresa/2021/0...   \n",
       "2  https://www.biobiochile.cl/noticias/nacional/r...   \n",
       "3  https://www.ellanquihue.cl/impresa/2021/07/07/...   \n",
       "4  https://www.emol.com/noticias/Nacional/2018/11...   \n",
       "\n",
       "                                               title  \\\n",
       "0  Estudio advierte que la contaminación acústica...   \n",
       "1                          La contaminación acústica   \n",
       "2  Justicia ordena al municipio de Concepción fis...   \n",
       "3                             Contaminación acústica   \n",
       "4  Los siete puntos estratégicos de Santiago que ...   \n",
       "\n",
       "                                                text        date  \\\n",
       "0  La prestigiosa revista estadounidense  The Atl...  2021-02-25   \n",
       "1  La contaminación acústica, según la Organizaci...  2021-06-15   \n",
       "2  La Municipalidad de Concepción deberá fiscaliz...  2020-07-02   \n",
       "3  La contaminación acústica, según la Organizaci...  2021-07-07   \n",
       "4  SANTIAGO.- El  Ministerio del Medio Ambiente  ...  2018-11-21   \n",
       "\n",
       "                   search  \n",
       "0  contaminación acústica  \n",
       "1  contaminación acústica  \n",
       "2  contaminación acústica  \n",
       "3  contaminación acústica  \n",
       "4  contaminación acústica  "
      ]
     },
     "execution_count": 2,
     "metadata": {},
     "output_type": "execute_result"
    }
   ],
   "source": [
    "import pandas as pd\n",
    "#from pandasql import sqldf #para utilizar una síntaxis SQL para consultar nuestros datos\n",
    "\n",
    "dataset=\"contaminaciónacústica_chile_2018-01-01_2021-12-31.csv\"\n",
    "df = pd.read_csv(dataset)\n",
    "df[:5]"
   ]
  },
  {
   "cell_type": "code",
   "execution_count": 65,
   "metadata": {
    "scrolled": true
   },
   "outputs": [
    {
     "name": "stdout",
     "output_type": "stream",
     "text": [
      "88\n"
     ]
    },
    {
     "data": {
      "text/plain": [
       "0    La prestigiosa revista estadounidense  The Atl...\n",
       "1    La contaminación acústica, según la Organizaci...\n",
       "2    La Municipalidad de Concepción deberá fiscaliz...\n",
       "3    La contaminación acústica, según la Organizaci...\n",
       "4    SANTIAGO.- El  Ministerio del Medio Ambiente  ...\n",
       "5    La ministra del Medio Ambiente, Carolina Schmi...\n",
       "6    La contaminación acústica es el enemigo invisi...\n",
       "7    BOSTON.- El ruido en las ciudades es algo que ...\n",
       "8    La contaminación acústica influye en la calida...\n",
       "9     Haileen Piedra Coordinadora de Marketing Mide...\n",
       "Name: text, dtype: object"
      ]
     },
     "execution_count": 65,
     "metadata": {},
     "output_type": "execute_result"
    }
   ],
   "source": [
    "noticias = df[:88].text\n",
    "print(len(noticias))\n",
    "noticias[:10]"
   ]
  },
  {
   "cell_type": "code",
   "execution_count": 53,
   "metadata": {},
   "outputs": [],
   "source": [
    "import spacy\n",
    "nlp = spacy.load(\"es_core_news_md\")\n",
    "\n",
    "def spacy_tokenizer(texto):\n",
    "    # crea lista de tokens a partir de un texto\n",
    "    mytokens = []\n",
    "    doc = nlp(texto.lower().strip())\n",
    "    for token in doc:\n",
    "        if not token.is_stop and not token.is_punct and not token.is_space and not token.is_digit and not token.like_num:\n",
    "            mytokens.append(token.lemma_)\n",
    "    return mytokens\n",
    "\n",
    "\n"
   ]
  },
  {
   "cell_type": "code",
   "execution_count": 54,
   "metadata": {},
   "outputs": [],
   "source": [
    "#Utilizando Kmeans y tf-idf para realizar un primer agrupamiento de las noticias\n",
    "import re\n",
    "from sklearn.feature_extraction.text import TfidfVectorizer, CountVectorizer\n",
    "from sklearn.cluster import KMeans\n",
    "from sklearn.metrics import adjusted_rand_score\n",
    "\n",
    "myStopWords=['gnl','=','$','+','a','e','o','u','y',' ','  ','   ','    ']\n",
    "vectorizer = TfidfVectorizer(tokenizer=spacy_tokenizer, stop_words=myStopWords, ngram_range=(1,1))\n",
    "\n",
    "X=vectorizer.fit_transform(noticias) \n",
    "X_term = vectorizer.get_feature_names()\n",
    "\n"
   ]
  },
  {
   "cell_type": "code",
   "execution_count": 64,
   "metadata": {},
   "outputs": [
    {
     "name": "stdout",
     "output_type": "stream",
     "text": [
      "0    La prestigiosa revista estadounidense  The Atl...\n",
      "Name: text, dtype: object\n",
      "6265\n",
      "['-al', '-aunque', '-como', '-de', '-denunciado', '-en', '-es', '-frontera', '-integrado', '-junto', '-mantener', '-moz-background-size', '-no', '-o-background-size', '-plantear', '-por', '-producida', '-puntualizó-', '-que', '-ruido-']\n",
      "(88, 6265)\n",
      "  (0, 5612)\t0.06420881539850011\n",
      "  (0, 5321)\t0.06420881539850011\n",
      "  (0, 4715)\t0.0255084160617998\n",
      "  (0, 2269)\t0.0413832284275956\n",
      "  (0, 5054)\t0.05877987306330863\n",
      "  (0, 2800)\t0.03210239020548982\n",
      "  (0, 1879)\t0.06420881539850011\n",
      "  (0, 1233)\t0.054927977176394326\n",
      "  (0, 3996)\t0.06420881539850011\n",
      "  (0, 5683)\t0.06420881539850011\n",
      "  (0, 1856)\t0.02986563302377793\n",
      "  (0, 4397)\t0.03914647124588371\n",
      "  (0, 2248)\t0.06420881539850011\n",
      "  (0, 2018)\t0.06420881539850011\n",
      "  (0, 5657)\t0.03478925428390558\n",
      "  (0, 4058)\t0.0340653255891039\n",
      "  (0, 2346)\t0.037230434051296744\n",
      "  (0, 3402)\t0.05194021460859401\n",
      "  (0, 5497)\t0.054927977176394326\n",
      "  (0, 6147)\t0.06420881539850011\n",
      "  (0, 2136)\t0.054927977176394326\n",
      "  (0, 3792)\t0.033378538164382444\n",
      "  (0, 2802)\t0.023129368281901222\n",
      "  (0, 2151)\t0.027949595829190963\n",
      "  (0, 5243)\t0.04949903484120284\n",
      "  :\t:\n",
      "  (0, 4434)\t0.13877620969140733\n",
      "  (0, 661)\t0.09899806968240568\n",
      "  (0, 986)\t0.07829294249176742\n",
      "  (0, 270)\t0.129428038724725\n",
      "  (0, 1198)\t0.080020343610895\n",
      "  (0, 219)\t0.054162855045113055\n",
      "  (0, 1478)\t0.053557677113299\n",
      "  (0, 4514)\t0.05194021460859401\n",
      "  (0, 5736)\t0.02986563302377793\n",
      "  (0, 5866)\t0.045647138954288555\n",
      "  (0, 66)\t0.06420881539850011\n",
      "  (0, 4866)\t0.024097699942276667\n",
      "  (0, 5271)\t0.09817579859897888\n",
      "  (0, 485)\t0.04743504675695689\n",
      "  (0, 5170)\t0.05877987306330863\n",
      "  (0, 6146)\t0.06420881539850011\n",
      "  (0, 1375)\t0.04743504675695689\n",
      "  (0, 1733)\t0.037230434051296744\n",
      "  (0, 2137)\t0.05877987306330863\n",
      "  (0, 435)\t0.03636630073218277\n",
      "  (0, 638)\t0.06420881539850011\n",
      "  (0, 5679)\t0.054927977176394326\n",
      "  (0, 2406)\t0.05877987306330863\n",
      "  (0, 5171)\t0.045647138954288555\n",
      "  (0, 4682)\t0.05877987306330863\n"
     ]
    }
   ],
   "source": [
    "import numpy as np\n",
    "print(noticias[:1])\n",
    "\n",
    "print(len(X_term))\n",
    "print(X_term[:20])\n",
    "print(X.shape)\n",
    "print(X[:1])"
   ]
  },
  {
   "cell_type": "code",
   "execution_count": 66,
   "metadata": {},
   "outputs": [
    {
     "data": {
      "image/png": "[encoded data removed]",
      "text/plain": [
       "<Figure size 432x288 with 1 Axes>"
      ]
     },
     "metadata": {
      "needs_background": "light"
     },
     "output_type": "display_data"
    }
   ],
   "source": [
    "import matplotlib\n",
    "import numpy as np\n",
    "import matplotlib.pyplot as plt\n",
    "\n",
    "\n",
    "num_k = range(1, 10)\n",
    "inertias = []\n",
    "\n",
    "for k in num_k:\n",
    "    # Create a KMeans instance with k clusters: model\n",
    "    model = KMeans(n_clusters=k, n_init=10)\n",
    "\n",
    "    # Fit model to samples\n",
    "    model.fit(X)\n",
    "\n",
    "    # Append the inertia to the list of inertias\n",
    "    inertias.append(model.inertia_)\n",
    "\n",
    "\n",
    "# Plot ks vs inertias\n",
    "plt.plot(num_k, inertias, '-o')\n",
    "plt.xlabel('number of clusters, k')\n",
    "plt.ylabel('inertia')\n",
    "plt.xticks(num_k)\n",
    "plt.show()"
   ]
  },
  {
   "cell_type": "markdown",
   "metadata": {},
   "source": [
    "<div style=\"border: 2px solid #1c75c8; background-color: #c5ddf6;\">\n",
    "<p>Pregunta Nº1: Explore las clases TfidfVectorizer, CountVectorizer. ¿Qué rol cumplen? ¿Qué tratamiento preliminar de textos se ha hecho en este caso? ¿Qué rol cumple n_gram?</p>\n",
    "</div>"
   ]
  },
  {
   "cell_type": "code",
   "execution_count": 67,
   "metadata": {},
   "outputs": [
    {
     "name": "stdout",
     "output_type": "stream",
     "text": [
      "Top terms per cluster:\n",
      "Cluster 0: proyecto-vecino-parque-empresa-camión-obra-comunidad-vara-sur-ambiental-senda-sector-zona-evento-impacto\n",
      "Cluster 1: ruido-ciudad-bus-decibel-eléctrico-nivel-salud-transporte-persona-contaminación-santiago-vehículo-ambiente-db-acústico\n",
      "Cluster 2: ballena-delfín-especie-cetáceo-hong-agua-kong-marino-azul-embarcación-zona-mamífero-población-mar-chiloé\n"
     ]
    }
   ],
   "source": [
    "from matplotlib.pylab import hist, show\n",
    "true_k = 3\n",
    "model = KMeans(n_clusters=true_k, init='k-means++', max_iter=100, n_init=10)\n",
    "model.fit(X)\n",
    "print(\"Top terms per cluster:\")\n",
    "order_centroids = model.cluster_centers_.argsort()[:, ::-1]\n",
    "terms = vectorizer.get_feature_names()\n",
    "\n",
    "for i in range(true_k):\n",
    "    cluster_words = np.array(terms)[order_centroids[i, :15]]\n",
    "    print('Cluster {}: {}'.format(i, '-'.join(cluster_words)))\n",
    "\n",
    "\n",
    "\n",
    "                                    "
   ]
  },
  {
   "cell_type": "code",
   "execution_count": 68,
   "metadata": {},
   "outputs": [
    {
     "data": {
      "image/png": "[encoded data removed]",
      "text/plain": [
       "<Figure size 432x288 with 1 Axes>"
      ]
     },
     "metadata": {
      "needs_background": "light"
     },
     "output_type": "display_data"
    },
    {
     "data": {
      "image/png": "[encoded data removed]",
      "text/plain": [
       "<Figure size 432x288 with 1 Axes>"
      ]
     },
     "metadata": {
      "needs_background": "light"
     },
     "output_type": "display_data"
    }
   ],
   "source": [
    "#Generando algunos gráficos de los resultados\n",
    "labels = model.predict(X)\n",
    "plt.scatter(range(88),labels,c=labels)\n",
    "show()\n",
    "hist(labels,bins=np.arange(-0.5,5.6,1),alpha=0.5,rwidth=0.9,density=True)\n",
    "show()"
   ]
  },
  {
   "cell_type": "markdown",
   "metadata": {},
   "source": [
    "<div style=\"border: 2px solid #1c75c8; background-color: #c5ddf6;\">\n",
    "<p>Pregunta Nº2: Explore diversos valores en los parámetros de n_init y max_iter. ¿tienen influencia en los resultados? ¿Por qué? Describa e interprete los resultados.</p></div>"
   ]
  },
  {
   "cell_type": "markdown",
   "metadata": {},
   "source": [
    "<div style=\"border: 2px solid #1c75c8; background-color: #F8B4B4\">\n",
    "<p>En lo que sigue se construye un modelo probabilista de tópicos, considerando de 1 a 9 tópicos (para comparar con Kmeans\n",
    " y el algoritmo LDA estimado con el <a href=\"https://drive.google.com/open?id=1AoCcmg91Y1yRwM_Ox4Nvf6PGSQ9TybpE\">, método de Bayes Variacional</a>, disponible como desarrollo en <a href=\"http://scikit-learn.org/stable/modules/generated/sklearn.decomposition.LatentDirichletAllocation.html\">sklearn-lda.</a></p> \n",
    "Previo a ello se utiliza la clase CountVectorizer y su función fit_transform que permite construir una matriz tf (DTM, Document-Term Matrix) que contiene la frecuencia de aparición de cada término del vocabulario en cada texto analizado. En la definición de la clase se especifica que:\n",
    "<ol>\n",
    "    <li>los términos que  aparecen sólo una vez en algún texto no serán considerados en el vocabulario (min_df=2)</li>\n",
    "    <li> los términos que  aparecen en mas del 95% de los textos no serán considerados en el vocabulario (max_df=0.95)</li>\n",
    "</ol></div>"
   ]
  },
  {
   "cell_type": "code",
   "execution_count": 23,
   "metadata": {},
   "outputs": [
    {
     "data": {
      "image/png": "[encoded data removed]",
      "text/plain": [
       "<Figure size 432x288 with 1 Axes>"
      ]
     },
     "metadata": {
      "needs_background": "light"
     },
     "output_type": "display_data"
    }
   ],
   "source": [
    "#Aplicando Modelos Probabilistas de Tópicos y LDA\n",
    "from sklearn.decomposition import LatentDirichletAllocation\n",
    "\n",
    "def print_top_words(model, feature_names, n_top_words):\n",
    "    for topic_idx, topic in enumerate(model.components_):\n",
    "        message = \"Topic #%d: \" % topic_idx\n",
    "        message += \" \".join([feature_names[i]\n",
    "                             for i in topic.argsort()[:-n_top_words - 1:-1]])\n",
    "        print(message)\n",
    "    print()\n",
    "    \n",
    "\n",
    "tf_vectorizer = CountVectorizer(max_df=0.95, min_df=2,\n",
    "                                stop_words=myStopWords,tokenizer=spacy_tokenizer, ngram_range=(1,1))\n",
    "tf = tf_vectorizer.fit_transform(noticias)\n",
    "diccionario= tf_vectorizer.get_feature_names()\n",
    "\n",
    "\n",
    "perp = []\n",
    "for k in num_k:\n",
    "    #Estimación de LDA con Bayes Variacional\n",
    "    lda = LatentDirichletAllocation(n_components=k, max_iter=10,\n",
    "                                learning_method='online',\n",
    "                                learning_offset=50.,\n",
    "                                random_state=0)\n",
    "\n",
    "    lda.fit(tf)\n",
    "    #Cálculo de índice de ajuste de los datos\n",
    "    perp.append(lda.perplexity(tf))\n",
    "\n",
    "plt.plot(num_k, perp, '-o')\n",
    "plt.xlabel('number of topics, k')\n",
    "plt.ylabel('perplexity')\n",
    "plt.xticks(num_k)\n",
    "plt.show()\n",
    "\n",
    "#print(\"\\nTopics in LDA model:\")\n",
    "#print_top_words(lda, diccionario, 15)\n"
   ]
  },
  {
   "cell_type": "markdown",
   "metadata": {},
   "source": [
    "<div style=\"border: 2px solid #1c75c8; background-color: #c5ddf6;\">\n",
    "<p>Pregunta Nº3: Indage sobre la medida perplexity, ¿Cómo se interpreta el valor obtenido?\n",
    "</p></div>"
   ]
  },
  {
   "cell_type": "code",
   "execution_count": 69,
   "metadata": {},
   "outputs": [
    {
     "name": "stdout",
     "output_type": "stream",
     "text": [
      "[[9.96229463e-01 1.75176502e-03 2.01877161e-03]\n",
      " [9.96158266e-01 1.87433847e-03 1.96739535e-03]\n",
      " [4.22189414e-03 4.09618794e-03 9.91681918e-01]\n",
      " [9.96536130e-01 1.68935363e-03 1.77451611e-03]\n",
      " [9.96960229e-01 1.47589578e-03 1.56387513e-03]\n",
      " [9.95586888e-01 2.13662458e-03 2.27648770e-03]\n",
      " [9.84709416e-01 7.15775968e-03 8.13282417e-03]\n",
      " [9.94375771e-01 2.64261085e-03 2.98161858e-03]\n",
      " [5.79827024e-01 6.71059382e-03 4.13462382e-01]\n",
      " [9.96551997e-01 1.68462449e-03 1.76337849e-03]\n",
      " [9.96551997e-01 1.68462449e-03 1.76337849e-03]\n",
      " [9.97320600e-01 1.32852282e-03 1.35087724e-03]\n",
      " [8.92487326e-01 5.45545884e-03 1.02057215e-01]\n",
      " [3.52659816e-03 3.41008880e-03 9.93063313e-01]\n",
      " [9.96465781e-01 1.70036235e-03 1.83385678e-03]\n",
      " [6.96362533e-01 3.43431502e-03 3.00203152e-01]\n",
      " [9.90727984e-01 4.38854831e-03 4.88346762e-03]\n",
      " [1.43299808e-01 3.81941022e-03 8.52880781e-01]\n",
      " [9.91094313e-01 3.99999743e-03 4.90568931e-03]\n",
      " [3.69253370e-03 3.60178432e-03 9.92705682e-01]\n",
      " [2.82413797e-03 2.73189268e-03 9.94443969e-01]\n",
      " [9.97186226e-01 1.38229114e-03 1.43148328e-03]\n",
      " [3.93633511e-01 3.08958958e-03 6.03276900e-01]\n",
      " [9.93101900e-01 3.20895969e-03 3.68914066e-03]\n",
      " [3.79548146e-03 3.44117714e-03 9.92763341e-01]\n",
      " [3.95773201e-03 3.07101570e-03 9.92971252e-01]\n",
      " [4.59545970e-01 2.84404542e-03 5.37609985e-01]\n",
      " [2.74275048e-01 2.64592311e-03 7.23079029e-01]\n",
      " [2.42093338e-03 2.16391591e-03 9.95415151e-01]\n",
      " [9.92295385e-01 3.50479399e-03 4.19982064e-03]\n",
      " [9.95022087e-01 2.38541556e-03 2.59249713e-03]\n",
      " [9.94395622e-01 2.64347660e-03 2.96090164e-03]\n",
      " [9.98066669e-01 7.78504992e-04 1.15482635e-03]\n",
      " [1.31232858e-01 2.27733615e-03 8.66489806e-01]\n",
      " [9.94753289e-01 2.32650388e-03 2.92020670e-03]\n",
      " [1.16674192e-01 2.51280044e-03 8.80813007e-01]\n",
      " [6.71488297e-01 2.31242626e-03 3.26199277e-01]\n",
      " [1.78887962e-03 1.72316171e-03 9.96487959e-01]\n",
      " [2.46287927e-03 2.20391958e-03 9.95333201e-01]\n",
      " [6.20876926e-01 2.75489633e-03 3.76368177e-01]\n",
      " [2.48837564e-03 2.35002932e-03 9.95161595e-01]\n",
      " [2.57392876e-03 2.64341340e-03 9.94782658e-01]\n",
      " [5.40764202e-01 4.56095891e-01 3.13990697e-03]\n",
      " [2.29852143e-03 1.99478462e-03 9.95706694e-01]\n",
      " [9.74744320e-01 2.25904453e-03 2.29966358e-02]\n",
      " [9.95297242e-01 2.25587810e-03 2.44687945e-03]\n",
      " [6.80459260e-01 2.47890064e-03 3.17061839e-01]\n",
      " [4.20483179e-01 1.32541962e-01 4.46974859e-01]\n",
      " [9.94630434e-01 2.58067895e-03 2.78888677e-03]\n",
      " [9.96345580e-01 1.78849583e-03 1.86592457e-03]\n",
      " [9.95769286e-01 1.87288560e-03 2.35782823e-03]\n",
      " [2.21464515e-03 2.07477597e-03 9.95710579e-01]\n",
      " [2.47986558e-03 1.96322915e-03 9.95556905e-01]\n",
      " [2.06101760e-03 1.77161419e-03 9.96167368e-01]\n",
      " [9.96028847e-01 1.79304635e-03 2.17810646e-03]\n",
      " [1.68123289e-03 1.51797792e-03 9.96800789e-01]\n",
      " [1.68446297e-03 1.62362387e-03 9.96691913e-01]\n",
      " [1.87962389e-03 1.71240075e-03 9.96407975e-01]\n",
      " [1.81929814e-03 9.96256906e-01 1.92379546e-03]\n",
      " [1.69016272e-03 1.47360913e-03 9.96836228e-01]\n",
      " [1.35831512e-03 1.19557786e-03 9.97446107e-01]\n",
      " [1.68806214e-03 1.55498630e-03 9.96756952e-01]\n",
      " [5.56455064e-01 1.70293593e-03 4.41842000e-01]\n",
      " [1.27176280e-03 9.97442016e-01 1.28622105e-03]\n",
      " [1.82155482e-03 9.96529900e-01 1.64854563e-03]\n",
      " [1.23887571e-03 9.97503855e-01 1.25726964e-03]\n",
      " [9.96820474e-01 1.52605633e-03 1.65346958e-03]\n",
      " [5.33004068e-01 6.48313550e-04 4.66347618e-01]\n",
      " [4.70870462e-01 1.54290528e-03 5.27586632e-01]\n",
      " [2.25983916e-01 1.45281011e-03 7.72563273e-01]\n",
      " [1.63185182e-03 1.33543428e-03 9.97032714e-01]\n",
      " [1.69018454e-03 1.44897648e-03 9.96860839e-01]\n",
      " [1.19574663e-03 1.11234354e-03 9.97691910e-01]\n",
      " [1.22125300e-03 1.12578093e-03 9.97652966e-01]\n",
      " [9.96853423e-01 1.52486189e-03 1.62171466e-03]\n",
      " [1.07210170e-03 9.01727244e-04 9.98026171e-01]\n",
      " [9.97261094e-01 1.26134781e-03 1.47755842e-03]\n",
      " [1.29799708e-03 1.23588482e-03 9.97466118e-01]\n",
      " [8.80445565e-04 8.55585095e-04 9.98263969e-01]\n",
      " [4.74487344e-01 1.31531544e-03 5.24197340e-01]\n",
      " [4.37594826e-04 4.26578297e-04 9.99135827e-01]\n",
      " [9.97919036e-01 9.39612212e-04 1.14135135e-03]\n",
      " [9.38894033e-04 8.71628989e-04 9.98189477e-01]\n",
      " [7.35541776e-04 6.54195420e-04 9.98610263e-01]\n",
      " [5.55040629e-04 4.99207889e-04 9.98945751e-01]\n",
      " [6.01058943e-04 5.54860905e-04 9.98844080e-01]\n",
      " [8.93679589e-02 4.65823678e-04 9.10166217e-01]\n",
      " [5.45177597e-04 4.71420645e-04 9.98983402e-01]]\n",
      "[0.44180775 0.05399084 0.5042014 ]\n",
      "[0 1 2]\n"
     ]
    },
    {
     "data": {
      "image/png": "[encoded data removed]",
      "text/plain": [
       "<Figure size 432x288 with 1 Axes>"
      ]
     },
     "metadata": {
      "needs_background": "light"
     },
     "output_type": "display_data"
    },
    {
     "data": {
      "image/png": "[encoded data removed]",
      "text/plain": [
       "<Figure size 432x288 with 1 Axes>"
      ]
     },
     "metadata": {
      "needs_background": "light"
     },
     "output_type": "display_data"
    },
    {
     "data": {
      "image/png": "[encoded data removed]",
      "text/plain": [
       "<Figure size 432x288 with 1 Axes>"
      ]
     },
     "metadata": {
      "needs_background": "light"
     },
     "output_type": "display_data"
    },
    {
     "data": {
      "image/png": "[encoded data removed]",
      "text/plain": [
       "<Figure size 432x288 with 1 Axes>"
      ]
     },
     "metadata": {
      "needs_background": "light"
     },
     "output_type": "display_data"
    },
    {
     "data": {
      "image/png": "[encoded data removed]",
      "text/plain": [
       "<Figure size 432x288 with 1 Axes>"
      ]
     },
     "metadata": {
      "needs_background": "light"
     },
     "output_type": "display_data"
    }
   ],
   "source": [
    "#Generando algunos gráficos de los resultados\n",
    "from matplotlib.pylab import hist, show\n",
    "import seaborn as sns\n",
    "\n",
    "lda = LatentDirichletAllocation(n_components=true_k, max_iter=1000,\n",
    "                                learning_method='online',\n",
    "                                learning_offset=10.,\n",
    "                                random_state=0)\n",
    "y=lda.fit_transform(tf)\n",
    "\n",
    "print(y)\n",
    "#distribución de tópicos en todos los documentos\n",
    "dist = sum(y)/len(noticias)\n",
    "print(dist)\n",
    "\n",
    "w=np.arange(0,true_k)\n",
    "print(w)\n",
    "plt.bar(w,height=dist,alpha=0.5,tick_label=w)\n",
    "show()\n",
    "#distribución de tópicos en el documento 51\n",
    "plt.bar(w,height=y[50],alpha=0.5,tick_label=w)\n",
    "show()\n",
    "\n",
    "\n",
    "#frecuencia de palabras por tópico\n",
    "n_top_words=15\n",
    "numo =np.arange(0,n_top_words)\n",
    "for idx,topic in enumerate(lda.components_):\n",
    "    d =[]\n",
    "    s = []\n",
    "    for i in topic.argsort()[:-n_top_words - 1:-1]:\n",
    "        s.append(diccionario[i])\n",
    "        d.append(topic[i])\n",
    "    \n",
    "    plt.barh(numo,width=d,alpha=0.5,tick_label=s)\n",
    "    show()\n"
   ]
  },
  {
   "cell_type": "markdown",
   "metadata": {},
   "source": [
    "<div style=\"border: 2px solid #1c75c8; background-color: #c5ddf6;\">\n",
    "<p>Pregunta Nº4: Interprete estos gráficos. \n",
    "</p></div>"
   ]
  },
  {
   "cell_type": "code",
   "execution_count": 36,
   "metadata": {},
   "outputs": [
    {
     "data": {
      "image/png": "[encoded data removed]",
      "text/plain": [
       "<Figure size 432x288 with 1 Axes>"
      ]
     },
     "metadata": {
      "needs_background": "light"
     },
     "output_type": "display_data"
    },
    {
     "data": {
      "image/png": "[encoded data removed]",
      "text/plain": [
       "<Figure size 432x288 with 1 Axes>"
      ]
     },
     "metadata": {
      "needs_background": "light"
     },
     "output_type": "display_data"
    }
   ],
   "source": [
    "#calculando cluster en base al tópico mas frecuente\n",
    "z=[]\n",
    "for i in range(len(noticias)):\n",
    "    z.append(np.argmax(y[i]))\n",
    "plt.scatter(range(88),z,c=z)\n",
    "\n",
    "#distribución de cluster de acuerdo al cálculo anterior\n",
    "show()\n",
    "hist(z,bins=np.arange(-0.5,5.6,1),alpha=0.5,rwidth=0.9,density=True)\n",
    "show()\n"
   ]
  },
  {
   "cell_type": "markdown",
   "metadata": {},
   "source": [
    "<div style=\"border: 2px solid #1c75c8; background-color: #c5ddf6;\">\n",
    "<p>Pregunta Nº5: Explique si es posible comparar estos resultados con el agrupamiento con KMeans.\n",
    "    \n",
    "   ¿Cuáles serían los aspectos comparables? Interprete sus resultados.\n",
    "</p></div>\n"
   ]
  },
  {
   "cell_type": "markdown",
   "metadata": {},
   "source": [
    "<div style=\"border: 2px solid #1c75c8; background-color: #F8B4B4\">\n",
    "<p>Una nueva estimación para algoritmo LDA considerando <a href=\"https://drive.google.com/open?id=1oSRRvG_W0UaH0l4o9f5ClEyWuGY1j-s0\"> Gibbs Sampling</a>, disponible como desarrollo en <a href=\"https://github.com/lda-project/lda/\">lda-project.</a></p> \n",
    "</div>"
   ]
  },
  {
   "cell_type": "code",
   "execution_count": 42,
   "metadata": {},
   "outputs": [],
   "source": [
    "import pyLDAvis\n",
    "import pyLDAvis.sklearn\n",
    "pyLDAvis.enable_notebook()\n",
    "\n"
   ]
  },
  {
   "cell_type": "code",
   "execution_count": 45,
   "metadata": {},
   "outputs": [
    {
     "data": {
      "text/html": [
       "\n",
       "<link rel=\"stylesheet\" type=\"text/css\" href=\"https://cdn.jsdelivr.net/gh/bmabey/pyLDAvis@3.3.1/pyLDAvis/js/ldavis.v1.0.0.css\">\n",
       "\n",
       "\n",
       "<div id=\"ldavis_el1028171400576323115522103902177\"></div>\n",
       "<script type=\"text/javascript\">\n",
       "\n",
       "var ldavis_el1028171400576323115522103902177_data = {\"mdsDat\": {\"x\": [0.022687155095163825, -0.12482107753383541, 0.1021339224386716], \"y\": [-0.10869266384533388, 0.038048427122171345, 0.07064423672316256], \"topics\": [1, 2, 3], \"cluster\": [1, 1, 1], \"Freq\": [56.75886398991419, 35.38604276649925, 7.855093243586563]}, \"tinfo\": {\"Term\": [\"ruido\", \"vecino\", \"parque\", \"ciudad\", \"delf\\u00edn\", \"el\\u00e9ctrico\", \"proyecto\", \"sector\", \"a\\u00f1o\", \"nivel\", \"transporte\", \"var\", \"bus\", \"hong\", \"veh\\u00edculo\", \"kong\", \"urbano\", \"ballena\", \"cet\\u00e1ceo\", \"santiago\", \"decibel\", \"r\\u00edo\", \"persona\", \"zona\", \"agua\", \"seguridad\", \"ruta\", \"if\", \"consulta\", \"especie\", \"protecci\\u00f3n\", \"vara\", \"senda\", \"humedal\", \"ordenanza\", \"\\u00e1rido\", \"ballena\", \"chilo\\u00e9\", \"embarcaci\\u00f3n\", \"lago\", \"regional\", \"duer\", \"concesi\\u00f3n\", \"evaluaci\\u00f3n\", \"denunciar\", \"decisi\\u00f3n\", \"concejo\", \"mel\\u00f3n\", \"biodiversidad\", \"declaraci\\u00f3n\", \"cami\\u00f3n\", \"obra\", \"norte\", \"junta\", \"internacional\", \"patagonia\", \"extracci\\u00f3n\", \"flora\", \"realizaci\\u00f3n\", \"participaci\\u00f3n\", \"marino\", \"comunidad\", \"agua\", \"sur\", \"solicitar\", \"mam\\u00edfero\", \"empresa\", \"vecino\", \"proyecto\", \"r\\u00edo\", \"parque\", \"chile\", \"municipal\", \"chileno\", \"sector\", \"ciudadano\", \"ambiental\", \"a\\u00f1o\", \"zona\", \"regi\\u00f3n\", \"autoridad\", \"especie\", \"impacto\", \"lugar\", \"p\\u00fablico\", \"centro\", \"tipo\", \"poder\", \"ambiente\", \"salud\", \"trabajo\", \"permitir\", \"caso\", \"decibel\", \"db\", \"estr\\u00e9s\", \"silencio\", \"medir\", \"reducci\\u00f3n\", \"oms\", \"bocina\", \"medici\\u00f3n\", \"diferencia\", \"orca\", \"providencia\", \"schmidt\", \"silencioso\", \"promedio\", \"temperatura\", \"modelo\", \"el\\u00e9ctrico\", \"dba\", \"avi\\u00f3n\", \"cardiovascular\", \"continuo\", \"hormona\", \"invisible\", \"ruidoso\", \"insecto\", \"pasajero\", \"luz\", \"autopista\", \"completo\", \"ruido\", \"veh\\u00edculo\", \"ciudad\", \"urbano\", \"calle\", \"detectar\", \"sonido\", \"bus\", \"nivel\", \"m\\u00fasica\", \"persona\", \"noche\", \"vehicular\", \"producir\", \"menor\", \"espacio\", \"transporte\", \"\\u00f1u\\u00f1oa\", \"estudio\", \"santiago\", \"reducir\", \"fuente\", \"alto\", \"generar\", \"ambiente\", \"efecto\", \"problema\", \"salud\", \"p\\u00fablico\", \"importante\", \"sistema\", \"zona\", \"a\\u00f1o\", \"ambiental\", \"tipo\", \"hong\", \"kong\", \"if\", \"macao\", \"function\", \"brennar\", \"rosado\", \"transbordador\", \"wwf\", \"this).css(\\\"visibility\\\",\\\"hidden\", \"false\", \"var\", \"delta\", \"ferri\", \"gigantesco\", \"mccook\", \"perla\", \"socializaci\\u00f3n\", \".animate({opacity\", \".css({visibility:\\\"visible\", \"0.0}).animate({opacity\", \"1.0}.200\", \"duracion\", \"opacity\", \"true\", \"videodurationmiddle\", \"videovolumemiddle\", \"velar\", \"platabanda\", \"coronel\", \"f\\u00f3rmula\", \"carrera\", \"delf\\u00edn\", \"paz\", \"participativo\", \"pedro\", \"vecino\", \"parque\", \"a\\u00f1o\", \"seguridad\", \"transporte\", \"sector\", \"comisi\\u00f3n\", \"bus\", \"zona\", \"proyecto\", \"consulta\", \"mejoramiento\", \"santiago\", \"especie\", \"lugar\", \"cet\\u00e1ceo\", \"tiempo\", \"deber\", \"vivienda\", \"poblaci\\u00f3n\"], \"Freq\": [164.0, 95.0, 76.0, 84.0, 26.0, 55.0, 100.0, 49.0, 103.0, 76.0, 63.0, 15.0, 34.0, 13.0, 54.0, 12.0, 48.0, 75.0, 31.0, 48.0, 30.0, 40.0, 74.0, 105.0, 69.0, 15.0, 22.0, 8.0, 14.0, 69.0, 30.01333797403116, 29.09045115571526, 28.162034663326047, 27.23360315818182, 25.376754254969057, 23.51993647469431, 73.29554815850008, 20.73466645826835, 18.860100345844884, 17.945271508804417, 17.94362752158451, 17.02100725067184, 16.092559134882546, 16.08713593808026, 16.080387366904212, 16.076036925411103, 15.164139172638311, 15.158373094092239, 15.13371568726397, 14.225592164511605, 37.457406963938126, 39.204293327994385, 15.98532199011761, 13.307306450881523, 13.282996365394302, 12.378888285167202, 12.378885419592452, 12.378870829303494, 12.378855434686063, 12.375449651368053, 42.020359428998184, 57.46785163872257, 63.81341832296658, 54.012371120586124, 21.661527959878903, 29.883064822165615, 86.62948623700146, 85.62988859314464, 88.65714661671558, 36.486978569297925, 65.56744460954432, 55.73106253550187, 26.306516682402435, 26.20018232607913, 40.99282875513826, 26.168963125457424, 63.26386311086027, 68.3782798643943, 69.13342380822554, 31.86155858254745, 29.691984688537445, 47.38899438618114, 42.11445969471063, 40.26294720841061, 44.50625336840039, 38.12898106615203, 38.16311903443973, 31.09219627353022, 37.72149925849285, 33.67913712960843, 30.278210620549945, 31.499522048376846, 30.805794338621475, 29.66604184766197, 22.544310500224867, 20.76606253401153, 14.535646919345782, 14.533492800858497, 13.614540983265451, 12.746740974511548, 11.866993600108618, 10.968543581908206, 10.955869932728543, 10.954609945251182, 9.174984018441743, 8.306887288704798, 8.304190448427965, 8.296794666547944, 8.280591269724297, 8.269401480265252, 51.74472849535891, 7.416859079062099, 7.414423907991123, 6.526827098616631, 6.526825401303448, 6.526822966949848, 6.526812214514685, 6.526807198381104, 6.525523391821677, 6.523207787329717, 6.522464302675463, 6.521049268408916, 7.311341842771257, 144.93182932671192, 47.54494368159795, 72.55554965574656, 41.25394783436353, 26.78394581648181, 12.620938295927552, 23.325352658498915, 28.769758979665163, 58.443523341165324, 10.096277879910243, 49.56851683629909, 21.66950218433946, 12.484104975917694, 22.99897796994993, 16.03452258932092, 23.901811642096614, 37.182589215089585, 13.58151579397617, 29.161378199148228, 29.530082423399193, 21.436391181815587, 25.671857537103875, 29.96177392892576, 30.985291440207757, 33.85412177208424, 23.73210066142521, 27.531699638783433, 27.943475948418648, 28.07539357452673, 20.27020264234414, 21.3202754631587, 28.649053858103514, 25.70899249031724, 24.499474592029415, 22.753192893973768, 13.230745709230538, 11.929360610602709, 8.025203454179083, 6.723820206126268, 6.073125969956226, 5.422435098833417, 4.771742548350097, 4.121049984237516, 4.121049984237516, 4.121048314283574, 3.4703555906622072, 12.584483524819431, 2.8196648517849923, 2.8196648517849923, 2.8196648517849923, 2.8196648517849923, 2.8196648517849923, 2.8196648517849923, 2.8196631603098465, 2.8196631603098465, 2.8196631603098465, 2.8196631603098465, 2.8196631603098465, 2.8196631603098465, 2.8196631603098465, 2.8196631603098465, 2.8196631603098465, 2.819661823540649, 2.819661165369837, 2.8189934360673172, 5.427179384527334, 5.392115280733408, 13.624408528599895, 4.1065639793741076, 3.475835832556403, 5.40275835128615, 9.991683739339898, 8.687009705717525, 9.411772651392917, 4.762401346435079, 7.385014949961366, 6.709902438991131, 4.123320134052531, 5.426762436381153, 7.38375919287627, 6.733748231356235, 4.125586881414788, 3.4724577206094422, 5.431181346308573, 5.488983701648397, 4.662106893365565, 4.271050438332468, 4.171597124930974, 4.12897642260122, 4.127142722370929, 4.126275210434102], \"Total\": [164.0, 95.0, 76.0, 84.0, 26.0, 55.0, 100.0, 49.0, 103.0, 76.0, 63.0, 15.0, 34.0, 13.0, 54.0, 12.0, 48.0, 75.0, 31.0, 48.0, 30.0, 40.0, 74.0, 105.0, 69.0, 15.0, 22.0, 8.0, 14.0, 69.0, 30.53199115498597, 29.60405495708374, 28.675635837796232, 27.747213754162683, 25.89037195950055, 24.033536650214725, 75.04332632392011, 21.24827476390612, 19.390687935593363, 18.462838090689672, 18.462558262851626, 17.534599555444533, 16.606173353846387, 16.605946078105937, 16.605660948772453, 16.605485414985434, 15.677753677135174, 15.67751574960551, 15.676495505414064, 14.74890675740184, 38.8503107631205, 40.70260170445534, 16.601496757223725, 13.820914963751443, 13.8199094688954, 12.89249587964933, 12.892494864905881, 12.89249141096311, 12.89248730285225, 12.892349417669093, 43.896603076129885, 61.03845202649093, 69.2376467640771, 58.397297349036556, 22.82746479556974, 31.817256698428736, 95.82723194761336, 95.98887490176949, 100.872492879721, 40.28277785719478, 76.94854808206799, 66.06883418319197, 28.771603865046448, 29.484530376979844, 49.958714099783194, 29.894258816690364, 88.63001945624744, 103.49904500610447, 105.16623685920533, 38.550470678515374, 35.619990550412076, 69.36287170852678, 60.16350238125351, 59.582026917626685, 75.52146120716185, 57.97413364075966, 62.43240721729356, 40.36715440046021, 72.44304649382183, 62.486777732351186, 40.303372261490566, 56.09620628113139, 47.88296941145423, 30.1940307476885, 23.073873254268705, 21.2937363913716, 15.063548318143631, 15.063642156616877, 14.17484719085543, 13.283866818394046, 12.39340254875446, 11.503740732695354, 11.504279416633466, 11.504336601891291, 9.724255009915588, 8.833291049127697, 8.8334056490111, 8.832889663199524, 8.832694785558811, 8.834890542975714, 55.33230175747766, 7.943262857799501, 7.943355427827834, 7.053234616318721, 7.053233833876341, 7.053233854895305, 7.0532313114554555, 7.0532305132528474, 7.0532876242350495, 7.053379061494467, 7.053415106964029, 7.05347884769365, 7.947774988208989, 164.19757896851863, 54.163236366985885, 84.23806095407816, 48.262571686450386, 31.232838217143183, 14.217718123361882, 27.405185123378708, 34.507978821907244, 76.30210356694667, 11.541335773487042, 74.36701371935158, 28.682107897830875, 14.874253247004335, 31.13282565970442, 20.56939869210379, 35.45757834988127, 63.9471268369292, 16.961528185605264, 47.29573028738274, 48.39959448361478, 31.470010044990463, 40.57893510733856, 51.78103911653482, 59.795697370623735, 72.44304649382183, 41.59101844873467, 54.86621707573783, 62.486777732351186, 75.52146120716185, 36.390357501855014, 42.70978655282951, 105.16623685920533, 103.49904500610447, 88.63001945624744, 62.43240721729356, 13.836898907764594, 12.535513812640243, 8.631359238256827, 7.329973436046082, 6.679281539247053, 6.028588344315732, 5.377895797235304, 4.727203255445916, 4.727203255445916, 4.727203900724192, 4.076511414749241, 15.041154940326026, 3.4258181735703603, 3.4258181735703603, 3.4258181735703603, 3.4258181735703603, 3.4258181735703603, 3.4258181735703603, 3.4258188271645262, 3.4258188271645262, 3.4258188271645262, 3.4258188271645262, 3.4258188271645262, 3.4258188271645262, 3.4258188271645262, 3.4258188271645262, 3.4258188271645262, 3.4258193547989326, 3.4258196194303956, 3.426065258164032, 6.954982808556382, 6.929769225573466, 26.666004506967294, 5.622560028041892, 5.002591372676858, 11.529316706167045, 95.98887490176949, 76.94854808206799, 103.49904500610447, 15.554381321083383, 63.9471268369292, 49.958714099783194, 12.153593093074104, 34.507978821907244, 105.16623685920533, 100.872492879721, 14.937884875695637, 7.789293360354128, 48.39959448361478, 69.36287170852678, 59.582026917626685, 31.586667715248915, 37.5657285609756, 35.88894572444306, 22.746349395002795, 45.76770743306998], \"Category\": [\"Default\", \"Default\", \"Default\", \"Default\", \"Default\", \"Default\", \"Default\", \"Default\", \"Default\", \"Default\", \"Default\", \"Default\", \"Default\", \"Default\", \"Default\", \"Default\", \"Default\", \"Default\", \"Default\", \"Default\", \"Default\", \"Default\", \"Default\", \"Default\", \"Default\", \"Default\", \"Default\", \"Default\", \"Default\", \"Default\", \"Topic1\", \"Topic1\", \"Topic1\", \"Topic1\", \"Topic1\", \"Topic1\", \"Topic1\", \"Topic1\", \"Topic1\", \"Topic1\", \"Topic1\", \"Topic1\", \"Topic1\", \"Topic1\", \"Topic1\", \"Topic1\", \"Topic1\", \"Topic1\", \"Topic1\", \"Topic1\", \"Topic1\", \"Topic1\", \"Topic1\", \"Topic1\", \"Topic1\", \"Topic1\", \"Topic1\", \"Topic1\", \"Topic1\", \"Topic1\", \"Topic1\", \"Topic1\", \"Topic1\", \"Topic1\", \"Topic1\", \"Topic1\", \"Topic1\", \"Topic1\", \"Topic1\", \"Topic1\", \"Topic1\", \"Topic1\", \"Topic1\", \"Topic1\", \"Topic1\", \"Topic1\", \"Topic1\", \"Topic1\", \"Topic1\", \"Topic1\", \"Topic1\", \"Topic1\", \"Topic1\", \"Topic1\", \"Topic1\", \"Topic1\", \"Topic1\", \"Topic1\", \"Topic1\", \"Topic1\", \"Topic1\", \"Topic1\", \"Topic1\", \"Topic2\", \"Topic2\", \"Topic2\", \"Topic2\", \"Topic2\", \"Topic2\", \"Topic2\", \"Topic2\", \"Topic2\", \"Topic2\", \"Topic2\", \"Topic2\", \"Topic2\", \"Topic2\", \"Topic2\", \"Topic2\", \"Topic2\", \"Topic2\", \"Topic2\", \"Topic2\", \"Topic2\", \"Topic2\", \"Topic2\", \"Topic2\", \"Topic2\", \"Topic2\", \"Topic2\", \"Topic2\", \"Topic2\", \"Topic2\", \"Topic2\", \"Topic2\", \"Topic2\", \"Topic2\", \"Topic2\", \"Topic2\", \"Topic2\", \"Topic2\", \"Topic2\", \"Topic2\", \"Topic2\", \"Topic2\", \"Topic2\", \"Topic2\", \"Topic2\", \"Topic2\", \"Topic2\", \"Topic2\", \"Topic2\", \"Topic2\", \"Topic2\", \"Topic2\", \"Topic2\", \"Topic2\", \"Topic2\", \"Topic2\", \"Topic2\", \"Topic2\", \"Topic2\", \"Topic2\", \"Topic2\", \"Topic2\", \"Topic2\", \"Topic2\", \"Topic2\", \"Topic3\", \"Topic3\", \"Topic3\", \"Topic3\", \"Topic3\", \"Topic3\", \"Topic3\", \"Topic3\", \"Topic3\", \"Topic3\", \"Topic3\", \"Topic3\", \"Topic3\", \"Topic3\", \"Topic3\", \"Topic3\", \"Topic3\", \"Topic3\", \"Topic3\", \"Topic3\", \"Topic3\", \"Topic3\", \"Topic3\", \"Topic3\", \"Topic3\", \"Topic3\", \"Topic3\", \"Topic3\", \"Topic3\", \"Topic3\", \"Topic3\", \"Topic3\", \"Topic3\", \"Topic3\", \"Topic3\", \"Topic3\", \"Topic3\", \"Topic3\", \"Topic3\", \"Topic3\", \"Topic3\", \"Topic3\", \"Topic3\", \"Topic3\", \"Topic3\", \"Topic3\", \"Topic3\", \"Topic3\", \"Topic3\", \"Topic3\", \"Topic3\", \"Topic3\", \"Topic3\", \"Topic3\", \"Topic3\", \"Topic3\"], \"logprob\": [30.0, 29.0, 28.0, 27.0, 26.0, 25.0, 24.0, 23.0, 22.0, 21.0, 20.0, 19.0, 18.0, 17.0, 16.0, 15.0, 14.0, 13.0, 12.0, 11.0, 10.0, 9.0, 8.0, 7.0, 6.0, 5.0, 4.0, 3.0, 2.0, 1.0, -5.9538, -5.9851, -6.0175, -6.051, -6.1216, -6.1976, -5.061, -6.3237, -6.4184, -6.4681, -6.4682, -6.521, -6.5771, -6.5774, -6.5779, -6.5781, -6.6365, -6.6369, -6.6385, -6.7004, -5.7323, -5.6867, -6.5838, -6.7671, -6.769, -6.8395, -6.8395, -6.8395, -6.8395, -6.8397, -5.6173, -5.3042, -5.1995, -5.3662, -6.2799, -5.9582, -4.8938, -4.9054, -4.8707, -5.7585, -5.1724, -5.3349, -6.0856, -6.0897, -5.6421, -6.0909, -5.2081, -5.1304, -5.1194, -5.8941, -5.9646, -5.4971, -5.6151, -5.66, -5.5598, -5.7145, -5.7136, -5.9185, -5.7252, -5.8386, -5.945, -5.9055, -5.9278, -5.493, -5.7675, -5.8496, -6.2064, -6.2065, -6.2718, -6.3377, -6.4092, -6.4879, -6.4891, -6.4892, -6.6665, -6.7659, -6.7662, -6.7671, -6.7691, -6.7704, -4.9366, -6.8792, -6.8795, -7.007, -7.007, -7.007, -7.007, -7.007, -7.0072, -7.0076, -7.0077, -7.0079, -6.8935, -3.9067, -5.0213, -4.5986, -5.1632, -5.5952, -6.3476, -5.7334, -5.5236, -4.8149, -6.5708, -4.9796, -5.8071, -6.3585, -5.7475, -6.1082, -5.709, -5.2671, -6.2743, -5.5101, -5.4976, -5.8179, -5.6376, -5.483, -5.4495, -5.3609, -5.7161, -5.5676, -5.5528, -5.5481, -5.8738, -5.8233, -5.5278, -5.6361, -5.6843, -5.7583, -4.7953, -4.8988, -5.2952, -5.4722, -5.5739, -5.6873, -5.8151, -5.9617, -5.9617, -5.9617, -6.1336, -4.8453, -6.3412, -6.3412, -6.3412, -6.3412, -6.3412, -6.3412, -6.3412, -6.3412, -6.3412, -6.3412, -6.3412, -6.3412, -6.3412, -6.3412, -6.3412, -6.3412, -6.3412, -6.3414, -5.6864, -5.6929, -4.7659, -5.9652, -6.132, -5.6909, -5.0761, -5.216, -5.1358, -5.8171, -5.3784, -5.4742, -5.9612, -5.6865, -5.3785, -5.4707, -5.9606, -6.1329, -5.6857, -5.6751, -5.8383, -5.926, -5.9495, -5.9598, -5.9602, -5.9604], \"loglift\": [30.0, 29.0, 28.0, 27.0, 26.0, 25.0, 24.0, 23.0, 22.0, 21.0, 20.0, 19.0, 18.0, 17.0, 16.0, 15.0, 14.0, 13.0, 12.0, 11.0, 10.0, 9.0, 8.0, 7.0, 6.0, 5.0, 4.0, 3.0, 2.0, 1.0, 0.5492, 0.5489, 0.5483, 0.5477, 0.5463, 0.5448, 0.5428, 0.5419, 0.5386, 0.5379, 0.5378, 0.5366, 0.5349, 0.5346, 0.5342, 0.534, 0.533, 0.5327, 0.5311, 0.5302, 0.5298, 0.5289, 0.5285, 0.5285, 0.5267, 0.5257, 0.5257, 0.5257, 0.5257, 0.5254, 0.5227, 0.5061, 0.4848, 0.4883, 0.5139, 0.5036, 0.4655, 0.4522, 0.4373, 0.4674, 0.4063, 0.3962, 0.4768, 0.4483, 0.3686, 0.4333, 0.2292, 0.1519, 0.1469, 0.3758, 0.3843, 0.1854, 0.2097, 0.1744, 0.0376, 0.1473, 0.0741, 0.3053, -0.0862, -0.0517, 0.2804, -0.0107, 0.1253, 1.0212, 1.0156, 1.0138, 1.0032, 1.003, 0.9985, 0.9976, 0.9954, 0.9912, 0.99, 0.9899, 0.9807, 0.9774, 0.9771, 0.9762, 0.9743, 0.9727, 0.9718, 0.9703, 0.9699, 0.9613, 0.9613, 0.9613, 0.9613, 0.9613, 0.9611, 0.9607, 0.9606, 0.9604, 0.9554, 0.914, 0.9085, 0.8896, 0.8819, 0.8852, 0.9197, 0.8777, 0.857, 0.7722, 0.9051, 0.6332, 0.7585, 0.8637, 0.736, 0.7898, 0.6445, 0.4966, 0.8166, 0.5553, 0.5448, 0.6549, 0.581, 0.4918, 0.3814, 0.2781, 0.4778, 0.3493, 0.2341, 0.0493, 0.4537, 0.3441, -0.2616, -0.3539, -0.247, 0.0295, 2.4992, 2.4944, 2.4712, 2.4577, 2.4489, 2.438, 2.4244, 2.4068, 2.4068, 2.4068, 2.383, 2.3657, 2.3493, 2.3493, 2.3493, 2.3493, 2.3493, 2.3493, 2.3493, 2.3493, 2.3493, 2.3493, 2.3493, 2.3493, 2.3493, 2.3493, 2.3493, 2.3493, 2.3493, 2.349, 2.296, 2.2931, 1.8725, 2.2298, 2.1799, 1.786, 0.2815, 0.3627, 0.1464, 1.3604, 0.3854, 0.5364, 1.463, 0.6942, -0.1123, -0.1627, 1.2573, 1.7361, 0.3567, 0.0074, -0.0039, 0.5431, 0.3462, 0.3816, 0.8372, 0.1378]}, \"token.table\": {\"Topic\": [3, 3, 3, 3, 1, 2, 3, 1, 2, 3, 1, 2, 3, 1, 2, 3, 2, 1, 2, 3, 2, 1, 2, 3, 1, 2, 1, 2, 3, 2, 3, 1, 2, 1, 2, 2, 2, 3, 1, 2, 3, 1, 2, 3, 1, 3, 1, 2, 3, 1, 2, 1, 1, 2, 3, 1, 2, 3, 1, 3, 2, 1, 2, 1, 1, 1, 3, 2, 3, 2, 2, 1, 2, 3, 2, 1, 1, 1, 3, 3, 1, 1, 2, 2, 1, 3, 1, 2, 1, 2, 3, 1, 1, 2, 3, 1, 2, 3, 1, 2, 3, 2, 1, 2, 3, 1, 1, 3, 3, 1, 1, 2, 3, 1, 3, 1, 2, 3, 3, 3, 2, 1, 3, 1, 2, 3, 1, 2, 3, 2, 1, 2, 1, 3, 1, 1, 2, 3, 2, 3, 1, 3, 1, 3, 3, 2, 2, 1, 3, 1, 1, 2, 2, 1, 3, 1, 2, 1, 2, 1, 2, 1, 1, 2, 2, 3, 2, 1, 1, 2, 3, 1, 1, 3, 2, 1, 2, 3, 1, 2, 3, 3, 1, 2, 3, 1, 2, 3, 3, 1, 2, 3, 1, 2, 1, 2, 3, 1, 2, 3, 2, 1, 2, 1, 2, 3, 1, 2, 3, 1, 2, 1, 2, 1, 1, 2, 3, 3, 1, 2, 3, 2, 1, 3, 1, 3, 1, 2, 3, 1, 2, 3, 2, 1, 2, 3, 1, 2, 3, 1, 2, 2, 1, 2, 3, 3, 1, 3, 1, 2, 3, 1, 2, 3, 2, 3, 1, 2, 3, 1, 2, 3, 1, 2, 3, 3, 1, 2, 3, 3, 1, 2, 1, 3, 1, 1, 3, 1, 2, 3, 1, 2, 3, 3, 3, 3, 1, 2, 3, 3, 1, 2, 3, 1, 1, 2], \"Freq\": [0.8757030512565176, 0.8757030512565176, 0.8757030512565176, 0.8757030512565176, 0.9243526172701385, 0.043329028934537744, 0.043329028934537744, 0.3862417661219464, 0.5793626491829196, 0.03862417661219464, 0.7108201079782026, 0.2707886125631248, 0.011282858856796866, 0.5245499994708361, 0.4693342100528534, 0.013803947354495688, 0.9924180891658679, 0.8422236933932297, 0.1403706155655383, 0.028074123113107658, 0.8812396805859912, 0.6570108931535484, 0.2512100473822391, 0.086957324093852, 0.9727713785620294, 0.026651270645535054, 0.9568465091461017, 0.96825709911327, 0.8293815590700312, 0.8403853540558415, 0.14489402656135197, 0.12807033328800924, 0.8644747496940625, 0.9523733342983464, 0.025739819845901252, 0.9924524534891332, 0.1443049497679695, 0.7215247488398475, 0.6474118121960998, 0.3341480321012128, 0.0417685040126516, 0.6554647325213926, 0.3104832943522386, 0.0344981438169154, 0.8547910226999148, 0.12663570706665403, 0.847600849815608, 0.136221565148937, 0.015135729460993, 0.8818183524571107, 0.10174827143735893, 0.988315533064931, 0.0949689476394898, 0.8665916472103445, 0.0474844738197449, 0.8697322171267164, 0.06690247824051665, 0.06690247824051665, 0.6582415536487652, 0.3291207768243826, 0.8807496450748704, 0.9338375746367515, 0.04914934603351324, 0.9567697202614156, 0.9634971079170396, 0.7363827001972222, 0.26777552734444443, 0.9924525635857043, 0.8756400634375678, 0.9967984025284945, 0.8812499504692446, 0.6130021251924476, 0.2786373296329307, 0.11145493185317228, 0.9935738706332424, 0.9635370240704303, 0.9492228970105872, 0.4875121054075934, 0.5250130365927929, 0.8757032183273825, 0.9635268387906459, 0.07033477463284683, 0.9143520702270088, 0.9561659276195644, 0.9695117328597026, 0.8757030512565176, 0.4327857472926974, 0.5770476630569299, 0.018072626083458727, 0.9397765563398539, 0.036145252166917455, 0.9798517754042022, 0.9078838888674254, 0.08348357598780923, 0.010435446998476153, 0.28202715654532245, 0.6768651757087739, 0.05640543130906449, 0.6775959363029412, 0.23067095703929916, 0.07208467407478099, 0.9862055025960299, 0.3594404800751148, 0.613163171892843, 0.04228711530295468, 0.9635102947308226, 0.930774076370951, 0.7359233655388989, 0.8757032183273825, 0.9307743257285258, 0.369649917138592, 0.6407265230402261, 0.8983002085994376, 0.14378180759408174, 0.7189090379704087, 0.43481389369619106, 0.5184319501762278, 0.05017083388802204, 0.8757032183273825, 0.9395168734451788, 0.9924525606281496, 0.9730706743825555, 0.9268528605021501, 0.698097656181115, 0.28256333702568937, 0.016621372766217023, 0.38471729768761803, 0.5495961395537401, 0.054959613955374007, 0.9924449948628277, 0.9406718639698199, 0.992452918512824, 0.940603428506399, 0.9572802662384484, 0.974931368166898, 0.6713433911085432, 0.2517537716657037, 0.0839179238885679, 0.9924270575098734, 0.954982997015597, 0.9428845574069094, 0.06285897049379395, 0.9567938532090831, 0.04556161205757538, 0.8757032183273825, 0.9562107018577316, 0.9957751149452975, 0.5135254014644207, 0.3851440510983155, 0.956784240537436, 0.19446363308303835, 0.7778545323321534, 0.9055007485475297, 0.9036687743218387, 0.06951298264014144, 0.0866450833444442, 0.866450833444442, 0.23590437430348152, 0.7601363172001071, 0.24405458709432526, 0.7670287022964508, 0.9637685224398819, 0.9581697082457269, 0.02456845405758274, 0.9786307087932425, 0.8757030512565176, 0.9561611747514082, 0.9656099201319577, 0.8577159887358625, 0.03898709039708466, 0.11696127119125398, 0.9307845770572958, 0.19989639878679633, 0.599689196360389, 0.9924321291923935, 0.9307740031115213, 0.17785492640587408, 0.7114197056234963, 0.3469416360000238, 0.1734708180000119, 0.43367704500002974, 0.8757032183273825, 0.5526220408674447, 0.37435686639407545, 0.05347955234201078, 0.28238326308557204, 0.6723411025846953, 0.04034046615508172, 0.8757028487386631, 0.5243872010652324, 0.371440934087873, 0.0873978668442054, 0.7679510844996937, 0.2229535406612014, 0.4738799462720268, 0.5103322498314135, 0.018226151779693337, 0.22484306681677732, 0.7387700766836969, 0.03212043811668247, 0.9057058680728695, 0.9825759429745186, 0.9255207715987412, 0.8823019780637562, 0.04956752685751439, 0.06939453760052015, 0.5958571150597992, 0.37075553825943064, 0.03972380767065328, 0.9307746223139733, 0.9876649682002759, 0.31776284741262245, 0.6673019795665072, 0.9749461447180732, 0.8300806562611951, 0.10376008203264939, 0.07782006152448703, 0.9297316624413633, 0.10962402803424473, 0.8830824480536381, 0.006090223779680264, 0.9924530308271041, 0.8390544858321932, 0.13248228723666208, 0.8936821618316015, 0.0744735134859668, 0.5441151109700642, 0.4480947972694646, 0.016003385616766595, 0.26859729174799235, 0.6198399040338285, 0.10330665067230475, 0.9056647126769376, 0.8206776483099658, 0.040033056015120284, 0.14011569605292098, 0.6429056735574158, 0.06429056735574158, 0.3214528367787079, 0.976438679804069, 0.9957813181329203, 0.9056529630670364, 0.44486291160687746, 0.49169058651286457, 0.046827674905987104, 0.8757032183273825, 0.963751349395123, 0.04380687951796013, 0.10946833551730953, 0.8392572389660397, 0.03648944517243651, 0.9247003277779412, 0.0342481602880719, 0.0342481602880719, 0.9057258508558179, 0.8461661658781447, 0.5324001627583658, 0.3460601057929378, 0.10648003255167315, 0.6086582544822031, 0.36839841718659666, 0.032034644972747536, 0.7443545866424849, 0.17368273688324645, 0.07443545866424849, 0.8461662813825171, 0.2971204640429221, 0.5786030089256904, 0.10946543412107655, 0.8757030512565176, 0.14503992960584888, 0.8495195876914007, 0.13296851258661715, 0.8642953318130115, 0.9795955331808625, 0.8959371603012157, 0.10417873956990881, 0.1344605316843586, 0.8067631901061515, 0.0672302658421793, 0.11077624607485936, 0.8862099685988749, 0.018462707679143226, 0.8757029163833641, 0.8757030512565176, 0.8757030512565176, 0.26377859127223974, 0.5715202810898528, 0.17585239418149315, 0.8461662813825171, 0.6561041077506269, 0.27575390035895914, 0.06656128629354185, 0.9986045894658444, 0.1768708554542868, 0.8253973254533383], \"Term\": [\".animate({opacity\", \".css({visibility:\\\"visible\", \"0.0}).animate({opacity\", \"1.0}.200\", \"agua\", \"agua\", \"agua\", \"alto\", \"alto\", \"alto\", \"ambiental\", \"ambiental\", \"ambiental\", \"ambiente\", \"ambiente\", \"ambiente\", \"autopista\", \"autoridad\", \"autoridad\", \"autoridad\", \"avi\\u00f3n\", \"a\\u00f1o\", \"a\\u00f1o\", \"a\\u00f1o\", \"ballena\", \"ballena\", \"biodiversidad\", \"bocina\", \"brennar\", \"bus\", \"bus\", \"calle\", \"calle\", \"cami\\u00f3n\", \"cami\\u00f3n\", \"cardiovascular\", \"carrera\", \"carrera\", \"caso\", \"caso\", \"caso\", \"centro\", \"centro\", \"centro\", \"cet\\u00e1ceo\", \"cet\\u00e1ceo\", \"chile\", \"chile\", \"chile\", \"chileno\", \"chileno\", \"chilo\\u00e9\", \"ciudad\", \"ciudad\", \"ciudad\", \"ciudadano\", \"ciudadano\", \"ciudadano\", \"comisi\\u00f3n\", \"comisi\\u00f3n\", \"completo\", \"comunidad\", \"comunidad\", \"concejo\", \"concesi\\u00f3n\", \"consulta\", \"consulta\", \"continuo\", \"coronel\", \"db\", \"dba\", \"deber\", \"deber\", \"deber\", \"decibel\", \"decisi\\u00f3n\", \"declaraci\\u00f3n\", \"delf\\u00edn\", \"delf\\u00edn\", \"delta\", \"denunciar\", \"detectar\", \"detectar\", \"diferencia\", \"duer\", \"duracion\", \"efecto\", \"efecto\", \"el\\u00e9ctrico\", \"el\\u00e9ctrico\", \"el\\u00e9ctrico\", \"embarcaci\\u00f3n\", \"empresa\", \"empresa\", \"empresa\", \"espacio\", \"espacio\", \"espacio\", \"especie\", \"especie\", \"especie\", \"estr\\u00e9s\", \"estudio\", \"estudio\", \"estudio\", \"evaluaci\\u00f3n\", \"extracci\\u00f3n\", \"false\", \"ferri\", \"flora\", \"fuente\", \"fuente\", \"function\", \"f\\u00f3rmula\", \"f\\u00f3rmula\", \"generar\", \"generar\", \"generar\", \"gigantesco\", \"hong\", \"hormona\", \"humedal\", \"if\", \"impacto\", \"impacto\", \"impacto\", \"importante\", \"importante\", \"importante\", \"insecto\", \"internacional\", \"invisible\", \"junta\", \"kong\", \"lago\", \"lugar\", \"lugar\", \"lugar\", \"luz\", \"macao\", \"mam\\u00edfero\", \"mam\\u00edfero\", \"marino\", \"marino\", \"mccook\", \"medici\\u00f3n\", \"medir\", \"mejoramiento\", \"mejoramiento\", \"mel\\u00f3n\", \"menor\", \"menor\", \"modelo\", \"municipal\", \"municipal\", \"m\\u00fasica\", \"m\\u00fasica\", \"nivel\", \"nivel\", \"noche\", \"noche\", \"norte\", \"obra\", \"obra\", \"oms\", \"opacity\", \"orca\", \"ordenanza\", \"parque\", \"parque\", \"parque\", \"participaci\\u00f3n\", \"participativo\", \"participativo\", \"pasajero\", \"patagonia\", \"paz\", \"paz\", \"pedro\", \"pedro\", \"pedro\", \"perla\", \"permitir\", \"permitir\", \"permitir\", \"persona\", \"persona\", \"persona\", \"platabanda\", \"poblaci\\u00f3n\", \"poblaci\\u00f3n\", \"poblaci\\u00f3n\", \"poder\", \"poder\", \"problema\", \"problema\", \"problema\", \"producir\", \"producir\", \"producir\", \"promedio\", \"protecci\\u00f3n\", \"providencia\", \"proyecto\", \"proyecto\", \"proyecto\", \"p\\u00fablico\", \"p\\u00fablico\", \"p\\u00fablico\", \"realizaci\\u00f3n\", \"reducci\\u00f3n\", \"reducir\", \"reducir\", \"regional\", \"regi\\u00f3n\", \"regi\\u00f3n\", \"regi\\u00f3n\", \"rosado\", \"ruido\", \"ruido\", \"ruido\", \"ruidoso\", \"ruta\", \"ruta\", \"r\\u00edo\", \"r\\u00edo\", \"salud\", \"salud\", \"salud\", \"santiago\", \"santiago\", \"santiago\", \"schmidt\", \"sector\", \"sector\", \"sector\", \"seguridad\", \"seguridad\", \"seguridad\", \"senda\", \"silencio\", \"silencioso\", \"sistema\", \"sistema\", \"sistema\", \"socializaci\\u00f3n\", \"solicitar\", \"solicitar\", \"sonido\", \"sonido\", \"sonido\", \"sur\", \"sur\", \"sur\", \"temperatura\", \"this).css(\\\"visibility\\\",\\\"hidden\", \"tiempo\", \"tiempo\", \"tiempo\", \"tipo\", \"tipo\", \"tipo\", \"trabajo\", \"trabajo\", \"trabajo\", \"transbordador\", \"transporte\", \"transporte\", \"transporte\", \"true\", \"urbano\", \"urbano\", \"var\", \"var\", \"vara\", \"vecino\", \"vecino\", \"vehicular\", \"vehicular\", \"vehicular\", \"veh\\u00edculo\", \"veh\\u00edculo\", \"veh\\u00edculo\", \"velar\", \"videodurationmiddle\", \"videovolumemiddle\", \"vivienda\", \"vivienda\", \"vivienda\", \"wwf\", \"zona\", \"zona\", \"zona\", \"\\u00e1rido\", \"\\u00f1u\\u00f1oa\", \"\\u00f1u\\u00f1oa\"]}, \"R\": 30, \"lambda.step\": 0.01, \"plot.opts\": {\"xlab\": \"PC1\", \"ylab\": \"PC2\"}, \"topic.order\": [3, 1, 2]};\n",
       "\n",
       "function LDAvis_load_lib(url, callback){\n",
       "  var s = document.createElement('script');\n",
       "  s.src = url;\n",
       "  s.async = true;\n",
       "  s.onreadystatechange = s.onload = callback;\n",
       "  s.onerror = function(){console.warn(\"failed to load library \" + url);};\n",
       "  document.getElementsByTagName(\"head\")[0].appendChild(s);\n",
       "}\n",
       "\n",
       "if(typeof(LDAvis) !== \"undefined\"){\n",
       "   // already loaded: just create the visualization\n",
       "   !function(LDAvis){\n",
       "       new LDAvis(\"#\" + \"ldavis_el1028171400576323115522103902177\", ldavis_el1028171400576323115522103902177_data);\n",
       "   }(LDAvis);\n",
       "}else if(typeof define === \"function\" && define.amd){\n",
       "   // require.js is available: use it to load d3/LDAvis\n",
       "   require.config({paths: {d3: \"https://d3js.org/d3.v5\"}});\n",
       "   require([\"d3\"], function(d3){\n",
       "      window.d3 = d3;\n",
       "      LDAvis_load_lib(\"https://cdn.jsdelivr.net/gh/bmabey/pyLDAvis@3.3.1/pyLDAvis/js/ldavis.v3.0.0.js\", function(){\n",
       "        new LDAvis(\"#\" + \"ldavis_el1028171400576323115522103902177\", ldavis_el1028171400576323115522103902177_data);\n",
       "      });\n",
       "    });\n",
       "}else{\n",
       "    // require.js not available: dynamically load d3 & LDAvis\n",
       "    LDAvis_load_lib(\"https://d3js.org/d3.v5.js\", function(){\n",
       "         LDAvis_load_lib(\"https://cdn.jsdelivr.net/gh/bmabey/pyLDAvis@3.3.1/pyLDAvis/js/ldavis.v3.0.0.js\", function(){\n",
       "                 new LDAvis(\"#\" + \"ldavis_el1028171400576323115522103902177\", ldavis_el1028171400576323115522103902177_data);\n",
       "            })\n",
       "         });\n",
       "}\n",
       "</script>"
      ],
      "text/plain": [
       "<IPython.core.display.HTML object>"
      ]
     },
     "execution_count": 45,
     "metadata": {},
     "output_type": "execute_result"
    }
   ],
   "source": [
    "prepared = pyLDAvis.sklearn.prepare(lda,tf,tf_vectorizer)\n",
    "pyLDAvis.display(prepared)"
   ]
  },
  {
   "cell_type": "code",
   "execution_count": 39,
   "metadata": {},
   "outputs": [
    {
     "name": "stderr",
     "output_type": "stream",
     "text": [
      "INFO:lda:n_documents: 88\n",
      "INFO:lda:vocab_size: 2641\n",
      "INFO:lda:n_words: 20370\n",
      "INFO:lda:n_topics: 3\n",
      "INFO:lda:n_iter: 5000\n",
      "INFO:lda:<0> log likelihood: -183378\n",
      "INFO:lda:<10> log likelihood: -163474\n",
      "INFO:lda:<20> log likelihood: -160572\n",
      "INFO:lda:<30> log likelihood: -159059\n",
      "INFO:lda:<40> log likelihood: -158684\n",
      "INFO:lda:<50> log likelihood: -158465\n",
      "INFO:lda:<60> log likelihood: -158091\n",
      "INFO:lda:<70> log likelihood: -158202\n",
      "INFO:lda:<80> log likelihood: -158042\n",
      "INFO:lda:<90> log likelihood: -158003\n",
      "INFO:lda:<100> log likelihood: -157729\n",
      "INFO:lda:<110> log likelihood: -157908\n",
      "INFO:lda:<120> log likelihood: -157741\n",
      "INFO:lda:<130> log likelihood: -157493\n",
      "INFO:lda:<140> log likelihood: -157309\n",
      "INFO:lda:<150> log likelihood: -157317\n",
      "INFO:lda:<160> log likelihood: -157448\n",
      "INFO:lda:<170> log likelihood: -157531\n",
      "INFO:lda:<180> log likelihood: -157191\n",
      "INFO:lda:<190> log likelihood: -157335\n",
      "INFO:lda:<200> log likelihood: -157464\n",
      "INFO:lda:<210> log likelihood: -157414\n",
      "INFO:lda:<220> log likelihood: -157381\n",
      "INFO:lda:<230> log likelihood: -157102\n",
      "INFO:lda:<240> log likelihood: -157119\n",
      "INFO:lda:<250> log likelihood: -157127\n",
      "INFO:lda:<260> log likelihood: -156992\n",
      "INFO:lda:<270> log likelihood: -157190\n",
      "INFO:lda:<280> log likelihood: -157077\n",
      "INFO:lda:<290> log likelihood: -157143\n",
      "INFO:lda:<300> log likelihood: -156900\n",
      "INFO:lda:<310> log likelihood: -157044\n",
      "INFO:lda:<320> log likelihood: -157032\n",
      "INFO:lda:<330> log likelihood: -156907\n",
      "INFO:lda:<340> log likelihood: -156977\n",
      "INFO:lda:<350> log likelihood: -156892\n",
      "INFO:lda:<360> log likelihood: -156918\n",
      "INFO:lda:<370> log likelihood: -156908\n",
      "INFO:lda:<380> log likelihood: -156948\n",
      "INFO:lda:<390> log likelihood: -157053\n",
      "INFO:lda:<400> log likelihood: -156851\n",
      "INFO:lda:<410> log likelihood: -156810\n",
      "INFO:lda:<420> log likelihood: -157034\n",
      "INFO:lda:<430> log likelihood: -156782\n",
      "INFO:lda:<440> log likelihood: -156815\n",
      "INFO:lda:<450> log likelihood: -156789\n",
      "INFO:lda:<460> log likelihood: -156674\n",
      "INFO:lda:<470> log likelihood: -156963\n",
      "INFO:lda:<480> log likelihood: -156810\n",
      "INFO:lda:<490> log likelihood: -156916\n",
      "INFO:lda:<500> log likelihood: -157032\n",
      "INFO:lda:<510> log likelihood: -156852\n",
      "INFO:lda:<520> log likelihood: -156890\n",
      "INFO:lda:<530> log likelihood: -156960\n",
      "INFO:lda:<540> log likelihood: -156947\n",
      "INFO:lda:<550> log likelihood: -156902\n",
      "INFO:lda:<560> log likelihood: -157016\n",
      "INFO:lda:<570> log likelihood: -156898\n",
      "INFO:lda:<580> log likelihood: -156736\n",
      "INFO:lda:<590> log likelihood: -156934\n",
      "INFO:lda:<600> log likelihood: -156961\n",
      "INFO:lda:<610> log likelihood: -156875\n",
      "INFO:lda:<620> log likelihood: -156801\n",
      "INFO:lda:<630> log likelihood: -156921\n",
      "INFO:lda:<640> log likelihood: -156925\n",
      "INFO:lda:<650> log likelihood: -156948\n",
      "INFO:lda:<660> log likelihood: -156901\n",
      "INFO:lda:<670> log likelihood: -157133\n",
      "INFO:lda:<680> log likelihood: -156900\n",
      "INFO:lda:<690> log likelihood: -156951\n",
      "INFO:lda:<700> log likelihood: -156855\n",
      "INFO:lda:<710> log likelihood: -156842\n",
      "INFO:lda:<720> log likelihood: -156998\n",
      "INFO:lda:<730> log likelihood: -156911\n",
      "INFO:lda:<740> log likelihood: -156951\n",
      "INFO:lda:<750> log likelihood: -156873\n",
      "INFO:lda:<760> log likelihood: -156929\n",
      "INFO:lda:<770> log likelihood: -156911\n",
      "INFO:lda:<780> log likelihood: -156980\n",
      "INFO:lda:<790> log likelihood: -156640\n",
      "INFO:lda:<800> log likelihood: -156907\n",
      "INFO:lda:<810> log likelihood: -156743\n",
      "INFO:lda:<820> log likelihood: -156891\n",
      "INFO:lda:<830> log likelihood: -156896\n",
      "INFO:lda:<840> log likelihood: -156920\n",
      "INFO:lda:<850> log likelihood: -156917\n",
      "INFO:lda:<860> log likelihood: -156815\n",
      "INFO:lda:<870> log likelihood: -157052\n",
      "INFO:lda:<880> log likelihood: -156894\n",
      "INFO:lda:<890> log likelihood: -157056\n",
      "INFO:lda:<900> log likelihood: -156899\n",
      "INFO:lda:<910> log likelihood: -156755\n",
      "INFO:lda:<920> log likelihood: -156770\n",
      "INFO:lda:<930> log likelihood: -156824\n",
      "INFO:lda:<940> log likelihood: -156883\n",
      "INFO:lda:<950> log likelihood: -156870\n",
      "INFO:lda:<960> log likelihood: -156878\n",
      "INFO:lda:<970> log likelihood: -156934\n",
      "INFO:lda:<980> log likelihood: -156896\n",
      "INFO:lda:<990> log likelihood: -156752\n",
      "INFO:lda:<1000> log likelihood: -156907\n",
      "INFO:lda:<1010> log likelihood: -156820\n",
      "INFO:lda:<1020> log likelihood: -156964\n",
      "INFO:lda:<1030> log likelihood: -156873\n",
      "INFO:lda:<1040> log likelihood: -156937\n",
      "INFO:lda:<1050> log likelihood: -156903\n",
      "INFO:lda:<1060> log likelihood: -157002\n",
      "INFO:lda:<1070> log likelihood: -156817\n",
      "INFO:lda:<1080> log likelihood: -157000\n",
      "INFO:lda:<1090> log likelihood: -156775\n",
      "INFO:lda:<1100> log likelihood: -156975\n",
      "INFO:lda:<1110> log likelihood: -156896\n",
      "INFO:lda:<1120> log likelihood: -156805\n",
      "INFO:lda:<1130> log likelihood: -156701\n",
      "INFO:lda:<1140> log likelihood: -156797\n",
      "INFO:lda:<1150> log likelihood: -156951\n",
      "INFO:lda:<1160> log likelihood: -156896\n",
      "INFO:lda:<1170> log likelihood: -156693\n",
      "INFO:lda:<1180> log likelihood: -156781\n",
      "INFO:lda:<1190> log likelihood: -156827\n",
      "INFO:lda:<1200> log likelihood: -156824\n",
      "INFO:lda:<1210> log likelihood: -156591\n",
      "INFO:lda:<1220> log likelihood: -156626\n",
      "INFO:lda:<1230> log likelihood: -156550\n",
      "INFO:lda:<1240> log likelihood: -156850\n",
      "INFO:lda:<1250> log likelihood: -156735\n",
      "INFO:lda:<1260> log likelihood: -156671\n",
      "INFO:lda:<1270> log likelihood: -156657\n",
      "INFO:lda:<1280> log likelihood: -156594\n",
      "INFO:lda:<1290> log likelihood: -156921\n",
      "INFO:lda:<1300> log likelihood: -156572\n",
      "INFO:lda:<1310> log likelihood: -156744\n",
      "INFO:lda:<1320> log likelihood: -156813\n",
      "INFO:lda:<1330> log likelihood: -156895\n",
      "INFO:lda:<1340> log likelihood: -156624\n",
      "INFO:lda:<1350> log likelihood: -156836\n",
      "INFO:lda:<1360> log likelihood: -156693\n",
      "INFO:lda:<1370> log likelihood: -156566\n",
      "INFO:lda:<1380> log likelihood: -156845\n",
      "INFO:lda:<1390> log likelihood: -156744\n",
      "INFO:lda:<1400> log likelihood: -156796\n",
      "INFO:lda:<1410> log likelihood: -156487\n",
      "INFO:lda:<1420> log likelihood: -156665\n",
      "INFO:lda:<1430> log likelihood: -156502\n",
      "INFO:lda:<1440> log likelihood: -156594\n",
      "INFO:lda:<1450> log likelihood: -156660\n",
      "INFO:lda:<1460> log likelihood: -156686\n",
      "INFO:lda:<1470> log likelihood: -156781\n",
      "INFO:lda:<1480> log likelihood: -156758\n",
      "INFO:lda:<1490> log likelihood: -156741\n",
      "INFO:lda:<1500> log likelihood: -156594\n",
      "INFO:lda:<1510> log likelihood: -156641\n",
      "INFO:lda:<1520> log likelihood: -156634\n",
      "INFO:lda:<1530> log likelihood: -156689\n",
      "INFO:lda:<1540> log likelihood: -156664\n",
      "INFO:lda:<1550> log likelihood: -156627\n",
      "INFO:lda:<1560> log likelihood: -156791\n",
      "INFO:lda:<1570> log likelihood: -156523\n",
      "INFO:lda:<1580> log likelihood: -156607\n",
      "INFO:lda:<1590> log likelihood: -156615\n",
      "INFO:lda:<1600> log likelihood: -156792\n",
      "INFO:lda:<1610> log likelihood: -156622\n",
      "INFO:lda:<1620> log likelihood: -156638\n",
      "INFO:lda:<1630> log likelihood: -156736\n",
      "INFO:lda:<1640> log likelihood: -156683\n",
      "INFO:lda:<1650> log likelihood: -156818\n",
      "INFO:lda:<1660> log likelihood: -156919\n",
      "INFO:lda:<1670> log likelihood: -156857\n",
      "INFO:lda:<1680> log likelihood: -156758\n",
      "INFO:lda:<1690> log likelihood: -156667\n",
      "INFO:lda:<1700> log likelihood: -156462\n",
      "INFO:lda:<1710> log likelihood: -156571\n",
      "INFO:lda:<1720> log likelihood: -156590\n",
      "INFO:lda:<1730> log likelihood: -156740\n",
      "INFO:lda:<1740> log likelihood: -156637\n",
      "INFO:lda:<1750> log likelihood: -156811\n",
      "INFO:lda:<1760> log likelihood: -156874\n",
      "INFO:lda:<1770> log likelihood: -157043\n",
      "INFO:lda:<1780> log likelihood: -156708\n",
      "INFO:lda:<1790> log likelihood: -156756\n",
      "INFO:lda:<1800> log likelihood: -156603\n",
      "INFO:lda:<1810> log likelihood: -156605\n",
      "INFO:lda:<1820> log likelihood: -156639\n",
      "INFO:lda:<1830> log likelihood: -156529\n",
      "INFO:lda:<1840> log likelihood: -156554\n",
      "INFO:lda:<1850> log likelihood: -156742\n",
      "INFO:lda:<1860> log likelihood: -156817\n",
      "INFO:lda:<1870> log likelihood: -156642\n",
      "INFO:lda:<1880> log likelihood: -156788\n",
      "INFO:lda:<1890> log likelihood: -156915\n",
      "INFO:lda:<1900> log likelihood: -156639\n",
      "INFO:lda:<1910> log likelihood: -156729\n",
      "INFO:lda:<1920> log likelihood: -156561\n",
      "INFO:lda:<1930> log likelihood: -156770\n",
      "INFO:lda:<1940> log likelihood: -156568\n",
      "INFO:lda:<1950> log likelihood: -156645\n",
      "INFO:lda:<1960> log likelihood: -156859\n",
      "INFO:lda:<1970> log likelihood: -156640\n",
      "INFO:lda:<1980> log likelihood: -156739\n",
      "INFO:lda:<1990> log likelihood: -156412\n",
      "INFO:lda:<2000> log likelihood: -156693\n",
      "INFO:lda:<2010> log likelihood: -156950\n",
      "INFO:lda:<2020> log likelihood: -156781\n",
      "INFO:lda:<2030> log likelihood: -156529\n",
      "INFO:lda:<2040> log likelihood: -156766\n"
     ]
    },
    {
     "name": "stderr",
     "output_type": "stream",
     "text": [
      "INFO:lda:<2050> log likelihood: -156459\n",
      "INFO:lda:<2060> log likelihood: -156838\n",
      "INFO:lda:<2070> log likelihood: -156773\n",
      "INFO:lda:<2080> log likelihood: -156516\n",
      "INFO:lda:<2090> log likelihood: -156966\n",
      "INFO:lda:<2100> log likelihood: -156636\n",
      "INFO:lda:<2110> log likelihood: -156596\n",
      "INFO:lda:<2120> log likelihood: -156714\n",
      "INFO:lda:<2130> log likelihood: -156695\n",
      "INFO:lda:<2140> log likelihood: -156811\n",
      "INFO:lda:<2150> log likelihood: -156652\n",
      "INFO:lda:<2160> log likelihood: -156774\n",
      "INFO:lda:<2170> log likelihood: -156784\n",
      "INFO:lda:<2180> log likelihood: -156753\n",
      "INFO:lda:<2190> log likelihood: -156826\n",
      "INFO:lda:<2200> log likelihood: -156583\n",
      "INFO:lda:<2210> log likelihood: -156801\n",
      "INFO:lda:<2220> log likelihood: -156587\n",
      "INFO:lda:<2230> log likelihood: -156889\n",
      "INFO:lda:<2240> log likelihood: -156591\n",
      "INFO:lda:<2250> log likelihood: -156545\n",
      "INFO:lda:<2260> log likelihood: -156735\n",
      "INFO:lda:<2270> log likelihood: -156894\n",
      "INFO:lda:<2280> log likelihood: -156585\n",
      "INFO:lda:<2290> log likelihood: -156670\n",
      "INFO:lda:<2300> log likelihood: -156614\n",
      "INFO:lda:<2310> log likelihood: -156541\n",
      "INFO:lda:<2320> log likelihood: -156314\n",
      "INFO:lda:<2330> log likelihood: -156489\n",
      "INFO:lda:<2340> log likelihood: -156585\n",
      "INFO:lda:<2350> log likelihood: -156445\n",
      "INFO:lda:<2360> log likelihood: -156602\n",
      "INFO:lda:<2370> log likelihood: -156655\n",
      "INFO:lda:<2380> log likelihood: -156797\n",
      "INFO:lda:<2390> log likelihood: -156667\n",
      "INFO:lda:<2400> log likelihood: -156657\n",
      "INFO:lda:<2410> log likelihood: -156875\n",
      "INFO:lda:<2420> log likelihood: -156728\n",
      "INFO:lda:<2430> log likelihood: -156786\n",
      "INFO:lda:<2440> log likelihood: -156701\n",
      "INFO:lda:<2450> log likelihood: -156741\n",
      "INFO:lda:<2460> log likelihood: -156699\n",
      "INFO:lda:<2470> log likelihood: -156525\n",
      "INFO:lda:<2480> log likelihood: -156686\n",
      "INFO:lda:<2490> log likelihood: -156616\n",
      "INFO:lda:<2500> log likelihood: -156853\n",
      "INFO:lda:<2510> log likelihood: -156718\n",
      "INFO:lda:<2520> log likelihood: -156735\n",
      "INFO:lda:<2530> log likelihood: -156354\n",
      "INFO:lda:<2540> log likelihood: -156656\n",
      "INFO:lda:<2550> log likelihood: -156592\n",
      "INFO:lda:<2560> log likelihood: -156756\n",
      "INFO:lda:<2570> log likelihood: -156685\n",
      "INFO:lda:<2580> log likelihood: -156750\n",
      "INFO:lda:<2590> log likelihood: -156544\n",
      "INFO:lda:<2600> log likelihood: -156614\n",
      "INFO:lda:<2610> log likelihood: -156835\n",
      "INFO:lda:<2620> log likelihood: -156607\n",
      "INFO:lda:<2630> log likelihood: -156722\n",
      "INFO:lda:<2640> log likelihood: -156694\n",
      "INFO:lda:<2650> log likelihood: -156735\n",
      "INFO:lda:<2660> log likelihood: -156610\n",
      "INFO:lda:<2670> log likelihood: -156934\n",
      "INFO:lda:<2680> log likelihood: -156511\n",
      "INFO:lda:<2690> log likelihood: -156740\n",
      "INFO:lda:<2700> log likelihood: -157013\n",
      "INFO:lda:<2710> log likelihood: -156723\n",
      "INFO:lda:<2720> log likelihood: -156781\n",
      "INFO:lda:<2730> log likelihood: -156726\n",
      "INFO:lda:<2740> log likelihood: -156631\n",
      "INFO:lda:<2750> log likelihood: -156771\n",
      "INFO:lda:<2760> log likelihood: -156700\n",
      "INFO:lda:<2770> log likelihood: -156769\n",
      "INFO:lda:<2780> log likelihood: -156546\n",
      "INFO:lda:<2790> log likelihood: -156757\n",
      "INFO:lda:<2800> log likelihood: -156703\n",
      "INFO:lda:<2810> log likelihood: -156709\n",
      "INFO:lda:<2820> log likelihood: -156624\n",
      "INFO:lda:<2830> log likelihood: -156563\n",
      "INFO:lda:<2840> log likelihood: -156594\n",
      "INFO:lda:<2850> log likelihood: -156729\n",
      "INFO:lda:<2860> log likelihood: -156698\n",
      "INFO:lda:<2870> log likelihood: -156815\n",
      "INFO:lda:<2880> log likelihood: -156632\n",
      "INFO:lda:<2890> log likelihood: -156588\n",
      "INFO:lda:<2900> log likelihood: -156682\n",
      "INFO:lda:<2910> log likelihood: -156784\n",
      "INFO:lda:<2920> log likelihood: -156665\n",
      "INFO:lda:<2930> log likelihood: -156703\n",
      "INFO:lda:<2940> log likelihood: -156972\n",
      "INFO:lda:<2950> log likelihood: -156638\n",
      "INFO:lda:<2960> log likelihood: -156754\n",
      "INFO:lda:<2970> log likelihood: -156743\n",
      "INFO:lda:<2980> log likelihood: -156629\n",
      "INFO:lda:<2990> log likelihood: -156585\n",
      "INFO:lda:<3000> log likelihood: -156791\n",
      "INFO:lda:<3010> log likelihood: -156595\n",
      "INFO:lda:<3020> log likelihood: -156879\n",
      "INFO:lda:<3030> log likelihood: -156752\n",
      "INFO:lda:<3040> log likelihood: -156748\n",
      "INFO:lda:<3050> log likelihood: -156728\n",
      "INFO:lda:<3060> log likelihood: -156600\n",
      "INFO:lda:<3070> log likelihood: -156506\n",
      "INFO:lda:<3080> log likelihood: -156664\n",
      "INFO:lda:<3090> log likelihood: -156660\n",
      "INFO:lda:<3100> log likelihood: -156702\n",
      "INFO:lda:<3110> log likelihood: -156740\n",
      "INFO:lda:<3120> log likelihood: -156701\n",
      "INFO:lda:<3130> log likelihood: -156457\n",
      "INFO:lda:<3140> log likelihood: -156607\n",
      "INFO:lda:<3150> log likelihood: -156750\n",
      "INFO:lda:<3160> log likelihood: -156553\n",
      "INFO:lda:<3170> log likelihood: -156598\n",
      "INFO:lda:<3180> log likelihood: -156680\n",
      "INFO:lda:<3190> log likelihood: -156824\n",
      "INFO:lda:<3200> log likelihood: -156637\n",
      "INFO:lda:<3210> log likelihood: -156575\n",
      "INFO:lda:<3220> log likelihood: -156802\n",
      "INFO:lda:<3230> log likelihood: -156576\n",
      "INFO:lda:<3240> log likelihood: -156803\n",
      "INFO:lda:<3250> log likelihood: -156701\n",
      "INFO:lda:<3260> log likelihood: -156681\n",
      "INFO:lda:<3270> log likelihood: -156660\n",
      "INFO:lda:<3280> log likelihood: -156748\n",
      "INFO:lda:<3290> log likelihood: -156684\n",
      "INFO:lda:<3300> log likelihood: -156634\n",
      "INFO:lda:<3310> log likelihood: -156546\n",
      "INFO:lda:<3320> log likelihood: -156659\n",
      "INFO:lda:<3330> log likelihood: -156574\n",
      "INFO:lda:<3340> log likelihood: -156594\n",
      "INFO:lda:<3350> log likelihood: -156601\n",
      "INFO:lda:<3360> log likelihood: -156626\n",
      "INFO:lda:<3370> log likelihood: -156837\n",
      "INFO:lda:<3380> log likelihood: -156616\n",
      "INFO:lda:<3390> log likelihood: -156642\n",
      "INFO:lda:<3400> log likelihood: -156764\n",
      "INFO:lda:<3410> log likelihood: -156754\n",
      "INFO:lda:<3420> log likelihood: -156445\n",
      "INFO:lda:<3430> log likelihood: -156678\n",
      "INFO:lda:<3440> log likelihood: -156529\n",
      "INFO:lda:<3450> log likelihood: -156673\n",
      "INFO:lda:<3460> log likelihood: -156778\n",
      "INFO:lda:<3470> log likelihood: -156862\n",
      "INFO:lda:<3480> log likelihood: -156787\n",
      "INFO:lda:<3490> log likelihood: -156752\n",
      "INFO:lda:<3500> log likelihood: -156811\n",
      "INFO:lda:<3510> log likelihood: -156710\n",
      "INFO:lda:<3520> log likelihood: -156849\n",
      "INFO:lda:<3530> log likelihood: -156683\n",
      "INFO:lda:<3540> log likelihood: -156644\n",
      "INFO:lda:<3550> log likelihood: -156888\n",
      "INFO:lda:<3560> log likelihood: -156693\n",
      "INFO:lda:<3570> log likelihood: -156487\n",
      "INFO:lda:<3580> log likelihood: -156491\n",
      "INFO:lda:<3590> log likelihood: -156724\n",
      "INFO:lda:<3600> log likelihood: -156465\n",
      "INFO:lda:<3610> log likelihood: -156613\n",
      "INFO:lda:<3620> log likelihood: -156690\n",
      "INFO:lda:<3630> log likelihood: -156481\n",
      "INFO:lda:<3640> log likelihood: -156754\n",
      "INFO:lda:<3650> log likelihood: -156608\n",
      "INFO:lda:<3660> log likelihood: -156542\n",
      "INFO:lda:<3670> log likelihood: -156642\n",
      "INFO:lda:<3680> log likelihood: -156692\n",
      "INFO:lda:<3690> log likelihood: -156655\n",
      "INFO:lda:<3700> log likelihood: -156698\n",
      "INFO:lda:<3710> log likelihood: -156599\n",
      "INFO:lda:<3720> log likelihood: -156676\n",
      "INFO:lda:<3730> log likelihood: -156585\n",
      "INFO:lda:<3740> log likelihood: -156729\n",
      "INFO:lda:<3750> log likelihood: -156548\n",
      "INFO:lda:<3760> log likelihood: -156696\n",
      "INFO:lda:<3770> log likelihood: -156483\n",
      "INFO:lda:<3780> log likelihood: -156751\n",
      "INFO:lda:<3790> log likelihood: -156625\n",
      "INFO:lda:<3800> log likelihood: -156791\n",
      "INFO:lda:<3810> log likelihood: -156776\n",
      "INFO:lda:<3820> log likelihood: -156748\n",
      "INFO:lda:<3830> log likelihood: -156654\n",
      "INFO:lda:<3840> log likelihood: -156681\n",
      "INFO:lda:<3850> log likelihood: -156670\n",
      "INFO:lda:<3860> log likelihood: -156509\n",
      "INFO:lda:<3870> log likelihood: -156876\n",
      "INFO:lda:<3880> log likelihood: -156727\n",
      "INFO:lda:<3890> log likelihood: -156676\n",
      "INFO:lda:<3900> log likelihood: -156729\n",
      "INFO:lda:<3910> log likelihood: -156770\n",
      "INFO:lda:<3920> log likelihood: -156587\n",
      "INFO:lda:<3930> log likelihood: -156498\n",
      "INFO:lda:<3940> log likelihood: -156596\n",
      "INFO:lda:<3950> log likelihood: -156471\n",
      "INFO:lda:<3960> log likelihood: -156648\n",
      "INFO:lda:<3970> log likelihood: -156808\n",
      "INFO:lda:<3980> log likelihood: -156594\n",
      "INFO:lda:<3990> log likelihood: -156663\n",
      "INFO:lda:<4000> log likelihood: -156698\n",
      "INFO:lda:<4010> log likelihood: -156757\n",
      "INFO:lda:<4020> log likelihood: -156692\n",
      "INFO:lda:<4030> log likelihood: -156677\n",
      "INFO:lda:<4040> log likelihood: -156718\n",
      "INFO:lda:<4050> log likelihood: -156614\n",
      "INFO:lda:<4060> log likelihood: -156465\n",
      "INFO:lda:<4070> log likelihood: -156629\n",
      "INFO:lda:<4080> log likelihood: -156646\n",
      "INFO:lda:<4090> log likelihood: -156832\n"
     ]
    },
    {
     "name": "stderr",
     "output_type": "stream",
     "text": [
      "INFO:lda:<4100> log likelihood: -157001\n",
      "INFO:lda:<4110> log likelihood: -156724\n",
      "INFO:lda:<4120> log likelihood: -156794\n",
      "INFO:lda:<4130> log likelihood: -156730\n",
      "INFO:lda:<4140> log likelihood: -156755\n",
      "INFO:lda:<4150> log likelihood: -156836\n",
      "INFO:lda:<4160> log likelihood: -156718\n",
      "INFO:lda:<4170> log likelihood: -156707\n",
      "INFO:lda:<4180> log likelihood: -156521\n",
      "INFO:lda:<4190> log likelihood: -156661\n",
      "INFO:lda:<4200> log likelihood: -156427\n",
      "INFO:lda:<4210> log likelihood: -156698\n",
      "INFO:lda:<4220> log likelihood: -156620\n",
      "INFO:lda:<4230> log likelihood: -156595\n",
      "INFO:lda:<4240> log likelihood: -156876\n",
      "INFO:lda:<4250> log likelihood: -156703\n",
      "INFO:lda:<4260> log likelihood: -156693\n",
      "INFO:lda:<4270> log likelihood: -156601\n",
      "INFO:lda:<4280> log likelihood: -156862\n",
      "INFO:lda:<4290> log likelihood: -156665\n",
      "INFO:lda:<4300> log likelihood: -156588\n",
      "INFO:lda:<4310> log likelihood: -156659\n",
      "INFO:lda:<4320> log likelihood: -156673\n",
      "INFO:lda:<4330> log likelihood: -156672\n",
      "INFO:lda:<4340> log likelihood: -156797\n",
      "INFO:lda:<4350> log likelihood: -156541\n",
      "INFO:lda:<4360> log likelihood: -156584\n",
      "INFO:lda:<4370> log likelihood: -156705\n",
      "INFO:lda:<4380> log likelihood: -156539\n",
      "INFO:lda:<4390> log likelihood: -156622\n",
      "INFO:lda:<4400> log likelihood: -156733\n",
      "INFO:lda:<4410> log likelihood: -156642\n",
      "INFO:lda:<4420> log likelihood: -156666\n",
      "INFO:lda:<4430> log likelihood: -156699\n",
      "INFO:lda:<4440> log likelihood: -156735\n",
      "INFO:lda:<4450> log likelihood: -156674\n",
      "INFO:lda:<4460> log likelihood: -156766\n",
      "INFO:lda:<4470> log likelihood: -156770\n",
      "INFO:lda:<4480> log likelihood: -156742\n",
      "INFO:lda:<4490> log likelihood: -156596\n",
      "INFO:lda:<4500> log likelihood: -156617\n",
      "INFO:lda:<4510> log likelihood: -156630\n",
      "INFO:lda:<4520> log likelihood: -156707\n",
      "INFO:lda:<4530> log likelihood: -156667\n",
      "INFO:lda:<4540> log likelihood: -156652\n",
      "INFO:lda:<4550> log likelihood: -156520\n",
      "INFO:lda:<4560> log likelihood: -156571\n",
      "INFO:lda:<4570> log likelihood: -156640\n",
      "INFO:lda:<4580> log likelihood: -156577\n",
      "INFO:lda:<4590> log likelihood: -156704\n",
      "INFO:lda:<4600> log likelihood: -156738\n",
      "INFO:lda:<4610> log likelihood: -156715\n",
      "INFO:lda:<4620> log likelihood: -156701\n",
      "INFO:lda:<4630> log likelihood: -156596\n",
      "INFO:lda:<4640> log likelihood: -156618\n",
      "INFO:lda:<4650> log likelihood: -156476\n",
      "INFO:lda:<4660> log likelihood: -156651\n",
      "INFO:lda:<4670> log likelihood: -156566\n",
      "INFO:lda:<4680> log likelihood: -156674\n",
      "INFO:lda:<4690> log likelihood: -156583\n",
      "INFO:lda:<4700> log likelihood: -156872\n",
      "INFO:lda:<4710> log likelihood: -156533\n",
      "INFO:lda:<4720> log likelihood: -156625\n",
      "INFO:lda:<4730> log likelihood: -156696\n",
      "INFO:lda:<4740> log likelihood: -156708\n",
      "INFO:lda:<4750> log likelihood: -156634\n",
      "INFO:lda:<4760> log likelihood: -156671\n",
      "INFO:lda:<4770> log likelihood: -156660\n",
      "INFO:lda:<4780> log likelihood: -156502\n",
      "INFO:lda:<4790> log likelihood: -156507\n",
      "INFO:lda:<4800> log likelihood: -156592\n",
      "INFO:lda:<4810> log likelihood: -156537\n",
      "INFO:lda:<4820> log likelihood: -156745\n",
      "INFO:lda:<4830> log likelihood: -156766\n",
      "INFO:lda:<4840> log likelihood: -156823\n",
      "INFO:lda:<4850> log likelihood: -156550\n",
      "INFO:lda:<4860> log likelihood: -156519\n",
      "INFO:lda:<4870> log likelihood: -156634\n",
      "INFO:lda:<4880> log likelihood: -156519\n",
      "INFO:lda:<4890> log likelihood: -156535\n",
      "INFO:lda:<4900> log likelihood: -156677\n",
      "INFO:lda:<4910> log likelihood: -156694\n",
      "INFO:lda:<4920> log likelihood: -156560\n",
      "INFO:lda:<4930> log likelihood: -156628\n",
      "INFO:lda:<4940> log likelihood: -156696\n",
      "INFO:lda:<4950> log likelihood: -156850\n",
      "INFO:lda:<4960> log likelihood: -156645\n",
      "INFO:lda:<4970> log likelihood: -156735\n",
      "INFO:lda:<4980> log likelihood: -156778\n",
      "INFO:lda:<4990> log likelihood: -156576\n",
      "INFO:lda:<4999> log likelihood: -156755\n"
     ]
    },
    {
     "name": "stdout",
     "output_type": "stream",
     "text": [
      "Topic 0: ballena especie agua zona marino población estudio año cetáceo delfín\n",
      "Topic 1: vecino proyecto empresa parque comunidad año sector sur público zona\n",
      "Topic 2: ruido ciudad transporte persona eléctrico nivel vehículo urbano generar salud\n"
     ]
    }
   ],
   "source": [
    "import lda\n",
    "\n",
    "model = lda.LDA(n_topics=true_k, n_iter=5000, alpha=0.1, eta=0.1, random_state=3)\n",
    "model.fit(tf)  # model.fit_transform(X) is also available\n",
    "\n",
    "topic_word = model.topic_word_  # model.components_ also works\n",
    "n_top_words=10\n",
    "for i, topic_dist in enumerate(topic_word):\n",
    "    topic_words = np.array(diccionario)[np.argsort(topic_dist)][:-(n_top_words+1):-1]\n",
    "    print('Topic {}: {}'.format(i, ' '.join(topic_words)))\n",
    "    \n"
   ]
  },
  {
   "cell_type": "code",
   "execution_count": 30,
   "metadata": {},
   "outputs": [
    {
     "data": {
      "text/plain": [
       "[<matplotlib.lines.Line2D at 0x7f61b56abeb0>]"
      ]
     },
     "execution_count": 30,
     "metadata": {},
     "output_type": "execute_result"
    },
    {
     "data": {
      "image/png": "[encoded data removed]",
      "text/plain": [
       "<Figure size 432x288 with 1 Axes>"
      ]
     },
     "metadata": {
      "needs_background": "light"
     },
     "output_type": "display_data"
    }
   ],
   "source": [
    "plt.plot(model.loglikelihoods_[5:])"
   ]
  },
  {
   "cell_type": "code",
   "execution_count": 31,
   "metadata": {},
   "outputs": [
    {
     "data": {
      "image/png": "[encoded data removed]",
      "text/plain": [
       "<Figure size 432x288 with 1 Axes>"
      ]
     },
     "metadata": {
      "needs_background": "light"
     },
     "output_type": "display_data"
    },
    {
     "data": {
      "image/png": "[encoded data removed]",
      "text/plain": [
       "<Figure size 432x288 with 1 Axes>"
      ]
     },
     "metadata": {
      "needs_background": "light"
     },
     "output_type": "display_data"
    },
    {
     "data": {
      "image/png": "[encoded data removed]",
      "text/plain": [
       "<Figure size 432x288 with 1 Axes>"
      ]
     },
     "metadata": {
      "needs_background": "light"
     },
     "output_type": "display_data"
    },
    {
     "data": {
      "image/png": "[encoded data removed]",
      "text/plain": [
       "<Figure size 432x288 with 1 Axes>"
      ]
     },
     "metadata": {
      "needs_background": "light"
     },
     "output_type": "display_data"
    },
    {
     "data": {
      "image/png": "[encoded data removed]",
      "text/plain": [
       "<Figure size 432x288 with 1 Axes>"
      ]
     },
     "metadata": {
      "needs_background": "light"
     },
     "output_type": "display_data"
    }
   ],
   "source": [
    "#Generando algunos gráficos de los resultados\n",
    "from matplotlib.pylab import hist, show\n",
    "\n",
    "y=model.doc_topic_\n",
    "#distribución de tópicos en todos los documentos\n",
    "dist = sum(y)/len(noticias)\n",
    "w=np.arange(0,true_k)\n",
    "plt.bar(w,height=dist,alpha=0.5,tick_label=w)\n",
    "show()\n",
    "\n",
    "#distribución de tópicos en el documento 100\n",
    "plt.bar(w,height=y[51],alpha=0.5,tick_label=w)\n",
    "show()\n",
    "\n",
    "#frecuencia de palabras por tópico\n",
    "n_top_words=15\n",
    "numo =np.arange(0,n_top_words)\n",
    "\n",
    "for idx,topic in enumerate(model.topic_word_):\n",
    "    d =[]\n",
    "    s = []\n",
    "    for i in topic.argsort()[:-n_top_words - 1:-1]:\n",
    "        s.append(diccionario[i])\n",
    "        d.append(topic[i])\n",
    "    \n",
    "    plt.barh(numo,width=d,alpha=0.5,tick_label=s)\n",
    "    show()\n",
    "\n",
    "\n",
    "\n"
   ]
  },
  {
   "cell_type": "code",
   "execution_count": 32,
   "metadata": {
    "scrolled": true
   },
   "outputs": [
    {
     "data": {
      "image/png": "[encoded data removed]",
      "text/plain": [
       "<Figure size 432x288 with 1 Axes>"
      ]
     },
     "metadata": {
      "needs_background": "light"
     },
     "output_type": "display_data"
    },
    {
     "data": {
      "image/png": "[encoded data removed]",
      "text/plain": [
       "<Figure size 432x288 with 1 Axes>"
      ]
     },
     "metadata": {
      "needs_background": "light"
     },
     "output_type": "display_data"
    }
   ],
   "source": [
    "#calculando cluster en base al tópico mas frecuente\n",
    "z=[]\n",
    "for i in range(len(noticias)):\n",
    "    z.append(np.argmax(y[i]))\n",
    "plt.scatter(range(88),z,c=z)\n",
    "show()\n",
    "\n",
    "#distribución de cluster de acuerdo a la definición anterior\n",
    "hist(z,bins=np.arange(-0.5,5.6,1),alpha=0.5,rwidth=0.9,density=True)\n",
    "show()\n",
    "\n"
   ]
  },
  {
   "cell_type": "code",
   "execution_count": 33,
   "metadata": {},
   "outputs": [
    {
     "name": "stderr",
     "output_type": "stream",
     "text": [
      "/home/eliana/anaconda3/lib/python3.9/site-packages/past/builtins/misc.py:45: DeprecationWarning: the imp module is deprecated in favour of importlib; see the module's documentation for alternative uses\n",
      "  from imp import reload\n",
      "/home/eliana/anaconda3/lib/python3.9/site-packages/past/builtins/misc.py:45: DeprecationWarning: the imp module is deprecated in favour of importlib; see the module's documentation for alternative uses\n",
      "  from imp import reload\n",
      "/home/eliana/anaconda3/lib/python3.9/site-packages/past/builtins/misc.py:45: DeprecationWarning: the imp module is deprecated in favour of importlib; see the module's documentation for alternative uses\n",
      "  from imp import reload\n",
      "/home/eliana/anaconda3/lib/python3.9/site-packages/past/builtins/misc.py:45: DeprecationWarning: the imp module is deprecated in favour of importlib; see the module's documentation for alternative uses\n",
      "  from imp import reload\n",
      "/home/eliana/anaconda3/lib/python3.9/site-packages/past/builtins/misc.py:45: DeprecationWarning: the imp module is deprecated in favour of importlib; see the module's documentation for alternative uses\n",
      "  from imp import reload\n",
      "/home/eliana/anaconda3/lib/python3.9/site-packages/past/builtins/misc.py:45: DeprecationWarning: the imp module is deprecated in favour of importlib; see the module's documentation for alternative uses\n",
      "  from imp import reload\n",
      "/home/eliana/anaconda3/lib/python3.9/site-packages/past/builtins/misc.py:45: DeprecationWarning: the imp module is deprecated in favour of importlib; see the module's documentation for alternative uses\n",
      "  from imp import reload\n",
      "/home/eliana/anaconda3/lib/python3.9/site-packages/past/builtins/misc.py:45: DeprecationWarning: the imp module is deprecated in favour of importlib; see the module's documentation for alternative uses\n",
      "  from imp import reload\n"
     ]
    },
    {
     "data": {
      "text/html": [
       "\n",
       "<link rel=\"stylesheet\" type=\"text/css\" href=\"https://cdn.jsdelivr.net/gh/bmabey/pyLDAvis@3.3.1/pyLDAvis/js/ldavis.v1.0.0.css\">\n",
       "\n",
       "\n",
       "<div id=\"ldavis_el1028171400576371611042815175531\"></div>\n",
       "<script type=\"text/javascript\">\n",
       "\n",
       "var ldavis_el1028171400576371611042815175531_data = {\"mdsDat\": {\"x\": [-0.09504199373744968, -0.16594457185021794, 0.2609865655876676], \"y\": [-0.2373274637357191, 0.19791331105336704, 0.03941415268235223], \"topics\": [1, 2, 3], \"cluster\": [1, 1, 1], \"Freq\": [38.328168848796004, 35.11948315195351, 26.552347999250493]}, \"tinfo\": {\"Term\": [\"ruido\", \"ballena\", \"vecino\", \"especie\", \"agua\", \"transporte\", \"el\\u00e9ctrico\", \"proyecto\", \"marino\", \"empresa\", \"veh\\u00edculo\", \"ciudad\", \"urbano\", \"sector\", \"poblaci\\u00f3n\", \"estudio\", \"parque\", \"cet\\u00e1ceo\", \"persona\", \"delf\\u00edn\", \"mam\\u00edfero\", \"comunidad\", \"nivel\", \"bus\", \"encontrar\", \"servicio\", \"cient\\u00edfico\", \"obra\", \"chileno\", \"decibel\", \"vecino\", \"sector\", \"servicio\", \"municipal\", \"vara\", \"senda\", \"situaci\\u00f3n\", \"ordenanza\", \"ruta\", \"\\u00e1rido\", \"solicitar\", \"alcalde\", \"presidente\", \"verde\", \"dejar\", \"gente\", \"tema\", \"direcci\\u00f3n\", \"construir\", \"lago\", \"derecho\", \"duer\", \"seguridad\", \"concesi\\u00f3n\", \"consulta\", \"decisi\\u00f3n\", \"denunciar\", \"director\", \"evaluaci\\u00f3n\", \"concejo\", \"obra\", \"habitante\", \"comunidad\", \"empresa\", \"proyecto\", \"parque\", \"comuna\", \"autoridad\", \"general\", \"gobierno\", \"evento\", \"sur\", \"deber\", \"ciudadano\", \"camino\", \"actividad\", \"p\\u00fablico\", \"a\\u00f1o\", \"trabajo\", \"ambiental\", \"lugar\", \"zona\", \"vivir\", \"tipo\", \"ambiente\", \"chile\", \"el\\u00e9ctrico\", \"urbano\", \"bus\", \"decibel\", \"san\", \"sonido\", \"desarrollo\", \"emisi\\u00f3n\", \"carga\", \"db\", \"sue\\u00f1o\", \"estaci\\u00f3n\", \"var\", \"monitoreo\", \"motor\", \"v\\u00eda\", \"contaminante\", \"gabriel\", \"ministra\", \"\\u00f1u\\u00f1oa\", \"ruido\", \"alcanzar\", \"combustible\", \"disminuir\", \"flota\", \"medioambiental\", \"medir\", \"operaci\\u00f3n\", \"silencio\", \"vehicular\", \"transporte\", \"veh\\u00edculo\", \"calle\", \"producir\", \"ciudad\", \"persona\", \"noche\", \"pa\\u00eds\", \"generar\", \"nivel\", \"reducir\", \"salud\", \"santiago\", \"ambiente\", \"alto\", \"principal\", \"permitir\", \"vida\", \"efecto\", \"p\\u00fablico\", \"ambiental\", \"sistema\", \"tipo\", \"ballena\", \"especie\", \"marino\", \"cet\\u00e1ceo\", \"delf\\u00edn\", \"mam\\u00edfero\", \"mar\", \"azul\", \"chilo\\u00e9\", \"embarcaci\\u00f3n\", \"hong\", \"salm\\u00f3n\", \"industrial\", \"kong\", \"muerte\", \"cultivo\", \"norte\", \"biodiversidad\", \"comportamiento\", \"detectar\", \"barco\", \"fauna\", \"presencia\", \"superficie\", \"an\\u00e1lisis\", \"naturaleza\", \"patagonia\", \"clim\\u00e1tico\", \"isla\", \"orca\", \"encontrar\", \"cient\\u00edfico\", \"agua\", \"poblaci\\u00f3n\", \"chileno\", \"estudio\", \"humedal\", \"ave\", \"cambio\", \"ecosistema\", \"investigaci\\u00f3n\", \"animal\", \"zona\", \"centro\", \"caso\", \"r\\u00edo\", \"a\\u00f1o\", \"regi\\u00f3n\", \"chile\", \"importante\", \"protecci\\u00f3n\", \"impacto\", \"nivel\"], \"Freq\": [176.0, 76.0, 104.0, 73.0, 71.0, 70.0, 59.0, 107.0, 45.0, 100.0, 57.0, 91.0, 51.0, 54.0, 48.0, 49.0, 83.0, 33.0, 80.0, 32.0, 32.0, 63.0, 80.0, 38.0, 32.0, 40.0, 28.0, 42.0, 29.0, 31.0, 104.0138423717733, 54.48344124235744, 39.91567620429395, 30.203832845584962, 30.203832845584962, 29.232648509714064, 29.232648509714064, 26.31909550210137, 24.37672683035957, 24.37672683035957, 23.40554249448867, 22.43435815861777, 21.46317382274687, 21.46317382274687, 20.491989486875973, 20.491989486875973, 20.491989486875973, 19.520805151005074, 18.549620815134176, 18.549620815134176, 17.578436479263278, 17.578436479263278, 17.578436479263278, 16.607252143392376, 16.607252143392376, 16.607252143392376, 16.607252143392376, 16.607252143392376, 16.607252143392376, 15.636067807521478, 40.886860540164854, 32.146201517326766, 59.33936292171194, 90.41726166958071, 96.2443676848061, 73.90712795977542, 36.03093886081036, 34.08857018906856, 29.232648509714064, 23.40554249448867, 29.232648509714064, 48.65633522713205, 33.11738585319766, 27.290279837972268, 27.290279837972268, 23.40554249448867, 47.68515089126115, 57.39699424997014, 31.17501718145586, 42.82922921190666, 36.03093886081036, 44.771597883648454, 30.203832845584962, 34.08857018906856, 29.232648509714064, 28.261464173843166, 59.65454799735293, 51.0089613310699, 38.5208917019944, 31.796546517107597, 28.914684295013256, 28.914684295013256, 26.03282207291891, 26.03282207291891, 25.072201332220796, 24.11158059152268, 24.11158059152268, 23.15095985082457, 20.269097628730222, 18.347856147333992, 18.347856147333992, 18.347856147333992, 17.387235406635877, 17.387235406635877, 17.387235406635877, 17.387235406635877, 173.9684161404286, 15.465993925239648, 15.465993925239648, 15.465993925239648, 15.465993925239648, 15.465993925239648, 15.465993925239648, 15.465993925239648, 15.465993925239648, 15.465993925239648, 69.26075540433406, 56.77268577525859, 31.796546517107597, 30.835925776409482, 75.98510058922086, 67.33951392293784, 26.993442813617026, 40.44213318339063, 48.12709910897556, 57.7333065159567, 27.95406355431514, 46.20585762757932, 36.599650220598164, 45.24523688688121, 35.63902947990005, 26.03282207291891, 33.71778799850382, 28.914684295013256, 27.95406355431514, 32.75716725780571, 33.71778799850382, 27.95406355431514, 28.914684295013256, 76.32669162356738, 73.46801403466972, 44.88123814569318, 33.446527790102564, 32.493635260470015, 32.493635260470015, 23.917602493777046, 22.964709964144493, 21.05892490487939, 19.15313984561429, 19.15313984561429, 19.15313984561429, 18.200247315981738, 17.247354786349185, 17.247354786349185, 16.294462256716635, 16.294462256716635, 15.341569727084082, 14.388677197451528, 14.388677197451528, 13.435784667818979, 13.435784667818979, 13.435784667818979, 13.435784667818979, 12.482892138186426, 12.482892138186426, 12.482892138186426, 11.529999608553874, 11.529999608553874, 11.529999608553874, 31.540742730837454, 27.729172612307252, 64.89198126797676, 43.928345616060625, 27.729172612307252, 43.928345616060625, 24.870495023409596, 28.682065141939805, 23.917602493777046, 20.10603237524684, 19.15313984561429, 26.776280082674702, 49.64570079385594, 30.58785020120491, 27.729172612307252, 24.870495023409596, 36.30520537900022, 23.917602493777046, 26.776280082674702, 22.011817434511947, 21.05892490487939, 23.917602493777046, 22.964709964144493], \"Total\": [176.0, 76.0, 104.0, 73.0, 71.0, 70.0, 59.0, 107.0, 45.0, 100.0, 57.0, 91.0, 51.0, 54.0, 48.0, 49.0, 83.0, 33.0, 80.0, 32.0, 32.0, 63.0, 80.0, 38.0, 32.0, 40.0, 28.0, 42.0, 29.0, 31.0, 104.20519369880635, 54.67479256939051, 40.10702753132702, 30.39518417261803, 30.39518417261803, 29.42399983674713, 29.42399983674713, 26.510446829134438, 24.568078157392634, 24.568078157392634, 23.59689382152174, 22.625709485650837, 21.654525149779936, 21.654525149779936, 20.68334081390904, 20.68334081390904, 20.68334081390904, 19.71215647803814, 18.740972142167244, 18.740972142167244, 17.769787806296343, 17.769787806296343, 17.769787806296343, 16.79860347042544, 16.79860347042544, 16.79860347042544, 16.79860347042544, 16.79860347042544, 16.79860347042544, 15.827419134554544, 42.03110439683047, 33.298173585057945, 63.35774078940634, 100.20709219252936, 107.87815757849535, 83.627404583134, 39.10415240993777, 37.13859910499929, 31.34524131814336, 24.55751456221985, 32.282677425644785, 61.25074586151941, 39.07246162441942, 31.293201283535538, 32.2847348684959, 25.518135302917965, 80.53760740203012, 112.05005577630436, 42.893817396866304, 92.8414794671271, 63.933455657843055, 112.76515482483839, 45.76511602378787, 65.95722132594273, 76.47895970882362, 68.58249670036129, 59.846955683903275, 51.201369017620245, 38.71329938854475, 31.988954203657944, 29.107091981563602, 29.107091981563602, 26.225229759469258, 26.225229759469258, 25.264609018771143, 24.303988278073028, 24.303988278073028, 23.343367537374917, 20.46150531528057, 18.54026383388434, 18.54026383388434, 18.54026383388434, 17.579643093186224, 17.579643093186224, 17.579643093186224, 17.579643093186224, 176.0849006924824, 15.658401611789992, 15.658401611789992, 15.658401611789992, 15.658401611789992, 15.658401611789992, 15.658401611789992, 15.658401611789992, 15.658401611789992, 15.658401611789992, 70.40605562051695, 57.93627779767983, 32.96013853952884, 32.970702134701625, 91.42378874989203, 80.12073436333317, 30.04452808906503, 50.34638422864997, 63.67553810707681, 80.79513491368829, 32.91093388902824, 65.82195203154765, 53.30219161695379, 76.47895970882362, 55.145373046438294, 33.866661802768014, 59.89437927246993, 47.55959436311069, 43.63054519608483, 80.53760740203012, 92.8414794671271, 45.29853677425142, 65.95722132594273, 76.51987213122429, 73.66119454232663, 45.07441865335009, 33.63970829775947, 32.68681576812692, 32.68681576812692, 24.110783001433948, 23.157890471801394, 21.25210541253629, 19.346320353271192, 19.346320353271192, 19.346320353271192, 18.39342782363864, 17.440535294006086, 17.440535294006086, 16.487642764373536, 16.487642764373536, 15.534750234740983, 14.58185770510843, 14.58185770510843, 13.62896517547588, 13.62896517547588, 13.62896517547588, 13.62896517547588, 12.676072645843327, 12.676072645843327, 12.676072645843327, 11.723180116210775, 11.723180116210775, 11.723180116210775, 32.70510757436526, 28.88297386066227, 71.88345212672995, 48.977447803072025, 29.864721791705954, 49.94863213894292, 27.977228538679196, 35.673536000693, 28.913886704924522, 23.21276589051644, 22.228182575365537, 38.58141824009125, 112.76515482483839, 60.782109169131836, 50.06944813188471, 42.544993576742684, 112.05005577630436, 40.54697154502974, 68.58249670036129, 38.5355505340368, 30.963948771245285, 62.768011723159795, 80.79513491368829], \"Category\": [\"Default\", \"Default\", \"Default\", \"Default\", \"Default\", \"Default\", \"Default\", \"Default\", \"Default\", \"Default\", \"Default\", \"Default\", \"Default\", \"Default\", \"Default\", \"Default\", \"Default\", \"Default\", \"Default\", \"Default\", \"Default\", \"Default\", \"Default\", \"Default\", \"Default\", \"Default\", \"Default\", \"Default\", \"Default\", \"Default\", \"Topic1\", \"Topic1\", \"Topic1\", \"Topic1\", \"Topic1\", \"Topic1\", \"Topic1\", \"Topic1\", \"Topic1\", \"Topic1\", \"Topic1\", \"Topic1\", \"Topic1\", \"Topic1\", \"Topic1\", \"Topic1\", \"Topic1\", \"Topic1\", \"Topic1\", \"Topic1\", \"Topic1\", \"Topic1\", \"Topic1\", \"Topic1\", \"Topic1\", \"Topic1\", \"Topic1\", \"Topic1\", \"Topic1\", \"Topic1\", \"Topic1\", \"Topic1\", \"Topic1\", \"Topic1\", \"Topic1\", \"Topic1\", \"Topic1\", \"Topic1\", \"Topic1\", \"Topic1\", \"Topic1\", \"Topic1\", \"Topic1\", \"Topic1\", \"Topic1\", \"Topic1\", \"Topic1\", \"Topic1\", \"Topic1\", \"Topic1\", \"Topic1\", \"Topic1\", \"Topic1\", \"Topic1\", \"Topic1\", \"Topic1\", \"Topic2\", \"Topic2\", \"Topic2\", \"Topic2\", \"Topic2\", \"Topic2\", \"Topic2\", \"Topic2\", \"Topic2\", \"Topic2\", \"Topic2\", \"Topic2\", \"Topic2\", \"Topic2\", \"Topic2\", \"Topic2\", \"Topic2\", \"Topic2\", \"Topic2\", \"Topic2\", \"Topic2\", \"Topic2\", \"Topic2\", \"Topic2\", \"Topic2\", \"Topic2\", \"Topic2\", \"Topic2\", \"Topic2\", \"Topic2\", \"Topic2\", \"Topic2\", \"Topic2\", \"Topic2\", \"Topic2\", \"Topic2\", \"Topic2\", \"Topic2\", \"Topic2\", \"Topic2\", \"Topic2\", \"Topic2\", \"Topic2\", \"Topic2\", \"Topic2\", \"Topic2\", \"Topic2\", \"Topic2\", \"Topic2\", \"Topic2\", \"Topic2\", \"Topic2\", \"Topic2\", \"Topic3\", \"Topic3\", \"Topic3\", \"Topic3\", \"Topic3\", \"Topic3\", \"Topic3\", \"Topic3\", \"Topic3\", \"Topic3\", \"Topic3\", \"Topic3\", \"Topic3\", \"Topic3\", \"Topic3\", \"Topic3\", \"Topic3\", \"Topic3\", \"Topic3\", \"Topic3\", \"Topic3\", \"Topic3\", \"Topic3\", \"Topic3\", \"Topic3\", \"Topic3\", \"Topic3\", \"Topic3\", \"Topic3\", \"Topic3\", \"Topic3\", \"Topic3\", \"Topic3\", \"Topic3\", \"Topic3\", \"Topic3\", \"Topic3\", \"Topic3\", \"Topic3\", \"Topic3\", \"Topic3\", \"Topic3\", \"Topic3\", \"Topic3\", \"Topic3\", \"Topic3\", \"Topic3\", \"Topic3\", \"Topic3\", \"Topic3\", \"Topic3\", \"Topic3\", \"Topic3\"], \"logprob\": [30.0, 29.0, 28.0, 27.0, 26.0, 25.0, 24.0, 23.0, 22.0, 21.0, 20.0, 19.0, 18.0, 17.0, 16.0, 15.0, 14.0, 13.0, 12.0, 11.0, 10.0, 9.0, 8.0, 7.0, 6.0, 5.0, 4.0, 3.0, 2.0, 1.0, -4.3183, -4.9649, -5.2761, -5.5549, -5.5549, -5.5875, -5.5875, -5.6925, -5.7692, -5.7692, -5.8099, -5.8522, -5.8965, -5.8965, -5.9428, -5.9428, -5.9428, -5.9914, -6.0424, -6.0424, -6.0962, -6.0962, -6.0962, -6.153, -6.153, -6.153, -6.153, -6.153, -6.153, -6.2133, -5.252, -5.4925, -4.8796, -4.4584, -4.3959, -4.66, -5.3785, -5.4339, -5.5875, -5.8099, -5.5875, -5.0781, -5.4628, -5.6563, -5.6563, -5.8099, -5.0982, -4.9128, -5.5232, -5.2056, -5.3785, -5.1613, -5.5549, -5.4339, -5.5875, -5.6213, -4.7868, -4.9434, -5.2242, -5.416, -5.5111, -5.5111, -5.616, -5.616, -5.6536, -5.6927, -5.6927, -5.7334, -5.8663, -5.9659, -5.9659, -5.9659, -6.0197, -6.0197, -6.0197, -6.0197, -3.7165, -6.1368, -6.1368, -6.1368, -6.1368, -6.1368, -6.1368, -6.1368, -6.1368, -6.1368, -4.6375, -4.8363, -5.416, -5.4467, -4.5449, -4.6657, -5.5798, -5.1755, -5.0016, -4.8196, -5.5448, -5.0423, -5.2754, -5.0633, -5.302, -5.616, -5.3574, -5.5111, -5.5448, -5.3863, -5.3574, -5.5448, -5.5111, -4.2607, -4.2989, -4.7917, -5.0858, -5.1147, -5.1147, -5.4212, -5.4618, -5.5484, -5.6433, -5.6433, -5.6433, -5.6943, -5.7481, -5.7481, -5.8049, -5.8049, -5.8652, -5.9293, -5.9293, -5.9978, -5.9978, -5.9978, -5.9978, -6.0714, -6.0714, -6.0714, -6.1508, -6.1508, -6.1508, -5.1445, -5.2733, -4.423, -4.8132, -5.2733, -4.8132, -5.3821, -5.2395, -5.4212, -5.5947, -5.6433, -5.3083, -4.6909, -5.1752, -5.2733, -5.3821, -5.0038, -5.4212, -5.3083, -5.5042, -5.5484, -5.4212, -5.4618], \"loglift\": [30.0, 29.0, 28.0, 27.0, 26.0, 25.0, 24.0, 23.0, 22.0, 21.0, 20.0, 19.0, 18.0, 17.0, 16.0, 15.0, 14.0, 13.0, 12.0, 11.0, 10.0, 9.0, 8.0, 7.0, 6.0, 5.0, 4.0, 3.0, 2.0, 1.0, 0.9571, 0.9555, 0.9542, 0.9527, 0.9527, 0.9525, 0.9525, 0.9517, 0.9512, 0.9512, 0.9508, 0.9505, 0.9501, 0.9501, 0.9497, 0.9497, 0.9497, 0.9492, 0.9487, 0.9487, 0.9482, 0.9482, 0.9482, 0.9475, 0.9475, 0.9475, 0.9475, 0.9475, 0.9475, 0.9468, 0.9314, 0.9238, 0.8935, 0.8562, 0.8449, 0.8354, 0.8771, 0.8733, 0.8892, 0.9109, 0.8597, 0.7288, 0.7936, 0.8221, 0.7909, 0.8726, 0.4349, 0.29, 0.6399, 0.1853, 0.3855, 0.0353, 0.5434, 0.2989, -0.0027, 0.0724, 1.0432, 1.0426, 1.0414, 1.0404, 1.0398, 1.0398, 1.0391, 1.0391, 1.0388, 1.0385, 1.0385, 1.0381, 1.037, 1.036, 1.036, 1.036, 1.0354, 1.0354, 1.0354, 1.0354, 1.0343, 1.0341, 1.0341, 1.0341, 1.0341, 1.0341, 1.0341, 1.0341, 1.0341, 1.0341, 1.03, 1.0261, 1.0105, 0.9795, 0.8614, 0.8726, 0.9393, 0.8274, 0.7665, 0.7103, 0.8832, 0.6926, 0.6705, 0.5215, 0.6099, 0.7833, 0.4719, 0.5488, 0.6012, 0.1468, 0.0335, 0.5637, 0.2218, 1.3235, 1.3234, 1.3218, 1.3203, 1.3201, 1.3201, 1.318, 1.3177, 1.3169, 1.316, 1.316, 1.316, 1.3155, 1.3149, 1.3149, 1.3143, 1.3143, 1.3135, 1.3127, 1.3127, 1.3118, 1.3118, 1.3118, 1.3118, 1.3107, 1.3107, 1.3107, 1.3094, 1.3094, 1.3094, 1.2898, 1.2853, 1.2237, 1.2173, 1.2519, 1.1976, 1.2083, 1.1079, 1.1363, 1.1824, 1.1772, 0.9608, 0.5057, 0.6394, 0.7351, 0.7892, 0.1991, 0.7982, 0.3855, 0.7661, 0.9406, 0.3612, 0.0681]}, \"token.table\": {\"Topic\": [1, 2, 1, 3, 1, 2, 1, 2, 3, 1, 2, 3, 1, 2, 3, 1, 2, 3, 3, 1, 3, 1, 3, 3, 1, 2, 3, 3, 3, 3, 2, 1, 2, 2, 3, 1, 2, 2, 1, 2, 3, 1, 2, 3, 3, 1, 2, 3, 1, 3, 3, 2, 3, 2, 3, 1, 3, 3, 2, 3, 1, 2, 1, 2, 3, 1, 1, 1, 1, 2, 3, 2, 1, 2, 2, 1, 1, 3, 1, 1, 2, 3, 1, 1, 2, 1, 1, 3, 1, 2, 3, 2, 3, 2, 1, 2, 3, 1, 3, 3, 2, 1, 3, 1, 1, 3, 3, 2, 2, 1, 2, 1, 2, 3, 1, 1, 2, 1, 2, 3, 1, 3, 1, 2, 3, 2, 3, 3, 2, 3, 3, 3, 1, 1, 2, 3, 3, 3, 3, 2, 2, 2, 2, 2, 3, 1, 3, 2, 3, 2, 3, 3, 1, 3, 2, 3, 1, 1, 3, 3, 1, 2, 1, 2, 3, 1, 2, 3, 1, 3, 3, 1, 1, 2, 3, 1, 2, 1, 3, 1, 2, 3, 1, 2, 2, 3, 1, 2, 3, 1, 2, 3, 1, 1, 3, 3, 1, 2, 2, 1, 2, 1, 1, 1, 1, 2, 2, 3, 1, 1, 2, 2, 3, 1, 2, 3, 1, 1, 2, 3, 1, 2, 2, 3, 2, 2, 1, 1, 2, 1, 2, 1, 1, 2, 1, 2, 2, 1, 2, 3, 1, 2], \"Freq\": [0.9013197761895235, 0.07837563271213248, 0.09737985298284028, 0.9042414919835169, 0.9723451993384932, 0.9579521825973445, 0.25387442729257637, 0.6528199558951964, 0.10880332598253273, 0.46315504930342316, 0.3662156203794509, 0.1723367625315063, 0.3791892582013531, 0.588397124795203, 0.02615098332423125, 0.20735370457913677, 0.10367685228956838, 0.6998187529545865, 0.9466654487764378, 0.9154895666332015, 0.08077849117351778, 0.19622388988475986, 0.8129275438082909, 0.9931820010983448, 0.50870121933535, 0.1606424903164263, 0.3212849806328526, 0.9932060507062432, 0.9538508487344551, 0.9655771591650634, 1.0074057395257838, 0.03033967829961357, 0.9708697055876342, 0.17292728753579906, 0.8300509801718354, 0.8363085560398127, 0.15487195482218752, 0.9895264946085434, 0.09986129639036208, 0.33952840772723103, 0.5592232597860276, 0.3290441920063707, 0.16452209600318535, 0.5100184976098746, 0.9809835361205532, 0.4082674347994755, 0.20413371739973776, 0.39368645498520854, 0.06696864661754329, 0.937561052645606, 0.9881373912070106, 0.03462247360068312, 0.9694292608191274, 0.8312934854178176, 0.16407108264825346, 0.8628072198610647, 0.12782329183126884, 1.0236130368249174, 0.9579521825973445, 0.9600971483280495, 0.9206183431008496, 0.07671819525840412, 0.9312200729522386, 0.031566782133974194, 0.031566782133974194, 1.0109039170554772, 1.0119888852623449, 1.0138214739271685, 1.0119888852623449, 0.9670275960601902, 0.9704237427179564, 0.9874922471737988, 0.8445846160707657, 0.15356083928559375, 1.0003453003268483, 1.0119888852623449, 0.9669617775939991, 0.9789879879092831, 1.0119888852623449, 1.0129552584540198, 0.9914117145384423, 0.9600971483280495, 1.0146023354817904, 1.0119888852623449, 0.9579521825973445, 1.0129552584540198, 0.12923923043680235, 0.8615948695786824, 0.2979563959509392, 0.6417522374327921, 0.06875916829637058, 1.002557261507253, 0.9820989032049894, 0.9914117145384423, 0.8981400221361745, 0.08981400221361745, 0.009979333579290829, 0.030576263897808265, 0.9784404447298645, 0.9910238417061416, 0.9852905740002956, 0.12012340965233448, 0.8809050041171195, 1.0119888852623449, 0.8983145857958769, 0.09292909508233209, 0.9538508487344551, 0.9579521825973445, 0.9670275960601902, 0.9251803074559238, 0.06380553844523612, 0.09422770781945176, 0.7538216625556141, 0.15704617969908627, 0.9669617775939991, 0.9365768649643402, 0.04072073325931914, 0.9610136699617519, 0.030031677186304746, 0.9820989032049894, 0.10723006375890405, 0.8935838646575337, 0.3345653211483125, 0.27083859331053867, 0.38236036702664283, 0.4152010229065726, 0.5709014064965373, 0.978610413055634, 0.13496380056391838, 0.8547707369048164, 1.0236130368249174, 0.974740724032852, 1.0138214739271685, 0.5630854711289752, 0.15641263086915977, 0.2815427355644876, 0.9789879879092831, 0.9954052507781536, 0.9983489825143966, 0.9579521825973445, 0.9579521825973445, 0.9670275960601902, 0.9708599705632588, 0.9708599705632588, 0.974740724032852, 0.9869984609938953, 0.9466654487764378, 0.7178650058813586, 0.2846706057805387, 0.8986661371401898, 0.09985179301557666, 0.9704237427179564, 0.9754680631968303, 0.023791903980410496, 0.9579521825973445, 1.0236130368249174, 0.9807454460339964, 0.8848773959789294, 0.11957802648363912, 0.9466654487764378, 0.19862399560978658, 0.7944959824391463, 0.23374480493923425, 0.5676659548524261, 0.20035268994791508, 0.13729280051424606, 0.8362379667685896, 0.024962327366226555, 0.10208780212688795, 0.898372658716614, 0.9538508487344551, 0.9697742090739594, 0.02952756329583884, 0.7677166456918098, 0.20669294307087185, 0.060659915334196124, 0.94022868768004, 0.32295622479799846, 0.6782080720757967, 0.8898928398007497, 0.00926971708125781, 0.10196688789383591, 0.595994859400182, 0.40974646583762514, 0.8507810837095255, 0.15192519351955813, 0.24662754378324964, 0.17263928064827475, 0.5919061050797991, 0.005679078649375034, 0.9881596849912561, 0.005679078649375034, 0.9768773872439959, 0.42308150705280023, 0.5876132042400003, 0.9820989032049894, 0.30384999810419244, 0.6988549956396426, 0.9963207598467262, 0.31893622915484066, 0.6941553222781826, 0.9876580680478284, 1.0129552584540198, 0.9855900000306008, 0.9973314519196561, 0.9579521825973445, 0.6181215110664624, 0.37528806029035217, 0.9855900000306008, 0.9747045595900704, 0.9963207598467262, 0.9874922471737988, 0.9538508487344551, 0.7999902582538851, 0.03265266360219939, 0.17958964981209666, 0.9669617775939991, 0.5154856332103684, 0.43967892244413775, 0.04548402645973839, 0.7227148778384264, 0.2797605978729393, 0.9800293368500079, 0.014203323722463882, 0.9960671165345023, 0.9774451924152463, 0.9869984609938953, 0.9980308687933593, 0.9579521825973445, 0.0172603425351576, 0.9838395245039832, 0.9697742090739594, 0.39949878156944996, 0.6097612981849498, 0.6555211175342929, 0.32776055876714644, 0.9708599705632588, 0.3990594441155151, 0.15962377764620603, 0.4433993823505723, 0.9768773872439959, 0.9670275960601902], \"Term\": [\"actividad\", \"actividad\", \"agua\", \"agua\", \"alcalde\", \"alcanzar\", \"alto\", \"alto\", \"alto\", \"ambiental\", \"ambiental\", \"ambiental\", \"ambiente\", \"ambiente\", \"ambiente\", \"animal\", \"animal\", \"animal\", \"an\\u00e1lisis\", \"autoridad\", \"autoridad\", \"ave\", \"ave\", \"azul\", \"a\\u00f1o\", \"a\\u00f1o\", \"a\\u00f1o\", \"ballena\", \"barco\", \"biodiversidad\", \"bus\", \"calle\", \"calle\", \"cambio\", \"cambio\", \"camino\", \"camino\", \"carga\", \"caso\", \"caso\", \"caso\", \"centro\", \"centro\", \"centro\", \"cet\\u00e1ceo\", \"chile\", \"chile\", \"chile\", \"chileno\", \"chileno\", \"chilo\\u00e9\", \"cient\\u00edfico\", \"cient\\u00edfico\", \"ciudad\", \"ciudad\", \"ciudadano\", \"ciudadano\", \"clim\\u00e1tico\", \"combustible\", \"comportamiento\", \"comuna\", \"comuna\", \"comunidad\", \"comunidad\", \"comunidad\", \"concejo\", \"concesi\\u00f3n\", \"construir\", \"consulta\", \"contaminante\", \"cultivo\", \"db\", \"deber\", \"deber\", \"decibel\", \"decisi\\u00f3n\", \"dejar\", \"delf\\u00edn\", \"denunciar\", \"derecho\", \"desarrollo\", \"detectar\", \"direcci\\u00f3n\", \"director\", \"disminuir\", \"duer\", \"ecosistema\", \"ecosistema\", \"efecto\", \"efecto\", \"efecto\", \"el\\u00e9ctrico\", \"embarcaci\\u00f3n\", \"emisi\\u00f3n\", \"empresa\", \"empresa\", \"empresa\", \"encontrar\", \"encontrar\", \"especie\", \"estaci\\u00f3n\", \"estudio\", \"estudio\", \"evaluaci\\u00f3n\", \"evento\", \"evento\", \"fauna\", \"flota\", \"gabriel\", \"general\", \"general\", \"generar\", \"generar\", \"generar\", \"gente\", \"gobierno\", \"gobierno\", \"habitante\", \"habitante\", \"hong\", \"humedal\", \"humedal\", \"impacto\", \"impacto\", \"impacto\", \"importante\", \"importante\", \"industrial\", \"investigaci\\u00f3n\", \"investigaci\\u00f3n\", \"isla\", \"kong\", \"lago\", \"lugar\", \"lugar\", \"lugar\", \"mam\\u00edfero\", \"mar\", \"marino\", \"medioambiental\", \"medir\", \"ministra\", \"monitoreo\", \"motor\", \"muerte\", \"municipal\", \"naturaleza\", \"nivel\", \"nivel\", \"noche\", \"noche\", \"norte\", \"obra\", \"obra\", \"operaci\\u00f3n\", \"orca\", \"ordenanza\", \"parque\", \"parque\", \"patagonia\", \"pa\\u00eds\", \"pa\\u00eds\", \"permitir\", \"permitir\", \"permitir\", \"persona\", \"persona\", \"persona\", \"poblaci\\u00f3n\", \"poblaci\\u00f3n\", \"presencia\", \"presidente\", \"principal\", \"principal\", \"principal\", \"producir\", \"producir\", \"protecci\\u00f3n\", \"protecci\\u00f3n\", \"proyecto\", \"proyecto\", \"proyecto\", \"p\\u00fablico\", \"p\\u00fablico\", \"reducir\", \"reducir\", \"regi\\u00f3n\", \"regi\\u00f3n\", \"regi\\u00f3n\", \"ruido\", \"ruido\", \"ruido\", \"ruta\", \"r\\u00edo\", \"r\\u00edo\", \"salm\\u00f3n\", \"salud\", \"salud\", \"san\", \"santiago\", \"santiago\", \"sector\", \"seguridad\", \"senda\", \"servicio\", \"silencio\", \"sistema\", \"sistema\", \"situaci\\u00f3n\", \"solicitar\", \"sonido\", \"sue\\u00f1o\", \"superficie\", \"sur\", \"sur\", \"sur\", \"tema\", \"tipo\", \"tipo\", \"tipo\", \"trabajo\", \"trabajo\", \"transporte\", \"transporte\", \"urbano\", \"var\", \"vara\", \"vecino\", \"vehicular\", \"veh\\u00edculo\", \"veh\\u00edculo\", \"verde\", \"vida\", \"vida\", \"vivir\", \"vivir\", \"v\\u00eda\", \"zona\", \"zona\", \"zona\", \"\\u00e1rido\", \"\\u00f1u\\u00f1oa\"]}, \"R\": 30, \"lambda.step\": 0.01, \"plot.opts\": {\"xlab\": \"PC1\", \"ylab\": \"PC2\"}, \"topic.order\": [2, 3, 1]};\n",
       "\n",
       "function LDAvis_load_lib(url, callback){\n",
       "  var s = document.createElement('script');\n",
       "  s.src = url;\n",
       "  s.async = true;\n",
       "  s.onreadystatechange = s.onload = callback;\n",
       "  s.onerror = function(){console.warn(\"failed to load library \" + url);};\n",
       "  document.getElementsByTagName(\"head\")[0].appendChild(s);\n",
       "}\n",
       "\n",
       "if(typeof(LDAvis) !== \"undefined\"){\n",
       "   // already loaded: just create the visualization\n",
       "   !function(LDAvis){\n",
       "       new LDAvis(\"#\" + \"ldavis_el1028171400576371611042815175531\", ldavis_el1028171400576371611042815175531_data);\n",
       "   }(LDAvis);\n",
       "}else if(typeof define === \"function\" && define.amd){\n",
       "   // require.js is available: use it to load d3/LDAvis\n",
       "   require.config({paths: {d3: \"https://d3js.org/d3.v5\"}});\n",
       "   require([\"d3\"], function(d3){\n",
       "      window.d3 = d3;\n",
       "      LDAvis_load_lib(\"https://cdn.jsdelivr.net/gh/bmabey/pyLDAvis@3.3.1/pyLDAvis/js/ldavis.v3.0.0.js\", function(){\n",
       "        new LDAvis(\"#\" + \"ldavis_el1028171400576371611042815175531\", ldavis_el1028171400576371611042815175531_data);\n",
       "      });\n",
       "    });\n",
       "}else{\n",
       "    // require.js not available: dynamically load d3 & LDAvis\n",
       "    LDAvis_load_lib(\"https://d3js.org/d3.v5.js\", function(){\n",
       "         LDAvis_load_lib(\"https://cdn.jsdelivr.net/gh/bmabey/pyLDAvis@3.3.1/pyLDAvis/js/ldavis.v3.0.0.js\", function(){\n",
       "                 new LDAvis(\"#\" + \"ldavis_el1028171400576371611042815175531\", ldavis_el1028171400576371611042815175531_data);\n",
       "            })\n",
       "         });\n",
       "}\n",
       "</script>"
      ],
      "text/plain": [
       "<IPython.core.display.HTML object>"
      ]
     },
     "execution_count": 33,
     "metadata": {},
     "output_type": "execute_result"
    }
   ],
   "source": [
    "prepared = pyLDAvis.sklearn.prepare(model,tf,tf_vectorizer)\n",
    "pyLDAvis.display(prepared)"
   ]
  },
  {
   "cell_type": "markdown",
   "metadata": {},
   "source": [
    "<div style=\"border: 2px solid #1c75c8; background-color: #c5ddf6;\">\n",
    "<p>Pregunta Nº6: ¿Cómo se comparan estos resultados con los anteriores? ¿Qué puede decir de la convergencia de la estimación en este caso?\n",
    "</p></div>"
   ]
  }
 ],
 "metadata": {
  "kernelspec": {
   "display_name": "Python 3 (ipykernel)",
   "language": "python",
   "name": "python3"
  },
  "language_info": {
   "codemirror_mode": {
    "name": "ipython",
    "version": 3
   },
   "file_extension": ".py",
   "mimetype": "text/x-python",
   "name": "python",
   "nbconvert_exporter": "python",
   "pygments_lexer": "ipython3",
   "version": "3.9.7"
  }
 },
 "nbformat": 4,
 "nbformat_minor": 2
}
