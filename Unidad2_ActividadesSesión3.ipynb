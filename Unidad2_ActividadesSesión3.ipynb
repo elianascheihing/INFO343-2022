{
 "cells": [
  {
   "cell_type": "markdown",
   "metadata": {},
   "source": [
    "### Un ejemplo práctico"
   ]
  },
  {
   "cell_type": "markdown",
   "metadata": {},
   "source": [
    "La clase <code>word2vec</code> de Gensim permite word embeddings de palabras (ver documentación: https://radimrehurek.com/gensim/models/word2vec.html).\n",
    "\n",
    "Esta clase tiene varios parametros, en particular:\n",
    "- <code>sentences</code>: una lista de palabras o de frases que sirve para entrenar el modelo\n",
    "- <code>sg</code>: define que algoritmos de aprendizaje utilizar (0=CBOW, 1=skip-gram)\n",
    "- <code>hs</code>: define la función objetivo en el algoritmo de entrenamiento (1 para softmax jerárquico y 0 para negative sampling)\n",
    "- <code>size</code>: define la dimensión de los vectores que se desea extraer\n",
    "- <code>window</code>: define el número de palabras a considerar a la izquierda y a la derecha de una palabra\n",
    "- <code>min_count</code>: ignorar las palabras que aparecen menos de _min_count_\n",
    "y otros asociados a la parametrización de la fase de aprendizaje de la red neuronal (que no detallaremos en esta parte del curso):\n",
    "- <code>alpha</code>: el _learning rate_ utilizado para optimizar los parametros de la red neuronal.\n",
    "- <code>iter</code>: número de iteraciones (épocas) sobre el dataset para encontrar los parámetros que optimizan la red neuronal."
   ]
  },
  {
   "cell_type": "code",
   "execution_count": 2,
   "metadata": {},
   "outputs": [],
   "source": [
    "from gensim.models import word2vec"
   ]
  },
  {
   "cell_type": "markdown",
   "metadata": {},
   "source": [
    "Para entrenar nuestro modelo Word2Vec, podemos utilizar nuestros propios datasets o utilizar datasets genericos existentes. Para empezar, utilizaremos 100 MB de textos extraidos de Wikipedia en inglés, para generar vectores de 200 dimensiones."
   ]
  },
  {
   "cell_type": "code",
   "execution_count": 3,
   "metadata": {},
   "outputs": [],
   "source": [
    "sentences = word2vec.Text8Corpus(\"data/text8.txt\")"
   ]
  },
  {
   "cell_type": "code",
   "execution_count": 12,
   "metadata": {},
   "outputs": [],
   "source": [
    "model = word2vec.Word2Vec(sentences, window=5, size=200, hs=1)\n",
    "#model=word2vec.Word2Vec.load(\"text8_model\")"
   ]
  },
  {
   "cell_type": "code",
   "execution_count": 13,
   "metadata": {},
   "outputs": [
    {
     "name": "stdout",
     "output_type": "stream",
     "text": [
      "Word2Vec(vocab=71290, size=200, alpha=0.025)\n"
     ]
    }
   ],
   "source": [
    "print(model)"
   ]
  },
  {
   "cell_type": "raw",
   "metadata": {},
   "source": [
    "Ahora que hemos entrenado nuestro modelo, tratemos de resolver la ecuación <code>King - Man + Woman</code>.\n",
    "\n",
    "En otras palabras buscamos cuál es el vector más similar al vector que adiciona positivamente 'King' y 'Woman' y negativamente 'Man'."
   ]
  },
  {
   "cell_type": "code",
   "execution_count": 14,
   "metadata": {},
   "outputs": [
    {
     "data": {
      "text/plain": [
       "[('queen', 0.5622705817222595),\n",
       " ('empress', 0.5470137000083923),\n",
       " ('prince', 0.5057038068771362),\n",
       " ('princess', 0.4989817142486572),\n",
       " ('regent', 0.4976450204849243)]"
      ]
     },
     "execution_count": 14,
     "metadata": {},
     "output_type": "execute_result"
    }
   ],
   "source": [
    "model.wv.most_similar(positive=['woman','king'],negative=['man'],topn=5)"
   ]
  },
  {
   "cell_type": "code",
   "execution_count": 15,
   "metadata": {},
   "outputs": [
    {
     "data": {
      "text/plain": [
       "[('conflicts', 0.682414174079895),\n",
       " ('clashes', 0.682171642780304),\n",
       " ('confrontation', 0.6626074910163879),\n",
       " ('struggle', 0.6328846216201782),\n",
       " ('tensions', 0.6276190280914307),\n",
       " ('hostilities', 0.614619255065918),\n",
       " ('dispute', 0.6022558808326721),\n",
       " ('strife', 0.5926722288131714),\n",
       " ('confrontations', 0.5895695686340332),\n",
       " ('frictions', 0.5696279406547546)]"
      ]
     },
     "execution_count": 15,
     "metadata": {},
     "output_type": "execute_result"
    }
   ],
   "source": [
    "model.wv.most_similar(positive=[\"conflict\"])"
   ]
  },
  {
   "cell_type": "code",
   "execution_count": 16,
   "metadata": {},
   "outputs": [
    {
     "data": {
      "text/plain": [
       "[('confrontation', 0.6195418834686279),\n",
       " ('warfare', 0.5241535902023315),\n",
       " ('pistol', 0.5239875912666321),\n",
       " ('combat', 0.5101107358932495),\n",
       " ('struggle', 0.508881151676178),\n",
       " ('threat', 0.4916025698184967),\n",
       " ('fighting', 0.4896182715892792),\n",
       " ('weapons', 0.48859667778015137),\n",
       " ('assault', 0.48665469884872437),\n",
       " ('warheads', 0.47178226709365845)]"
      ]
     },
     "execution_count": 16,
     "metadata": {},
     "output_type": "execute_result"
    }
   ],
   "source": [
    "model.wv.most_similar(positive=[\"conflict\",\"weapon\"])"
   ]
  },
  {
   "cell_type": "code",
   "execution_count": 17,
   "metadata": {},
   "outputs": [
    {
     "data": {
      "text/plain": [
       "[('clashes', 0.5029101371765137),\n",
       " ('conflicts', 0.5026495456695557),\n",
       " ('disagreements', 0.4749498665332794),\n",
       " ('disputes', 0.46413397789001465),\n",
       " ('tensions', 0.4494709372520447),\n",
       " ('strife', 0.4385940134525299),\n",
       " ('dispute', 0.4342709183692932),\n",
       " ('hostilities', 0.42842239141464233),\n",
       " ('antagonism', 0.41564685106277466),\n",
       " ('intermarriage', 0.4140060544013977)]"
      ]
     },
     "execution_count": 17,
     "metadata": {},
     "output_type": "execute_result"
    }
   ],
   "source": [
    "model.wv.most_similar(positive=[\"conflict\"],negative=[\"weapon\"])"
   ]
  },
  {
   "cell_type": "code",
   "execution_count": 18,
   "metadata": {},
   "outputs": [
    {
     "data": {
      "text/plain": [
       "[('childhood', 0.5393344163894653),\n",
       " ('career', 0.4845719337463379),\n",
       " ('experiences', 0.4679872989654541),\n",
       " ('lives', 0.4625600576400757),\n",
       " ('humanity', 0.45399612188339233),\n",
       " ('teens', 0.4534773826599121),\n",
       " ('adolescence', 0.4498787522315979),\n",
       " ('genius', 0.4421176314353943),\n",
       " ('mankind', 0.43157845735549927),\n",
       " ('experience', 0.42014050483703613)]"
      ]
     },
     "execution_count": 18,
     "metadata": {},
     "output_type": "execute_result"
    }
   ],
   "source": [
    "model.wv.most_similar(positive=[\"life\"])"
   ]
  },
  {
   "cell_type": "code",
   "execution_count": 19,
   "metadata": {},
   "outputs": [
    {
     "data": {
      "text/plain": [
       "[('childhood', 0.3865353465080261),\n",
       " ('adolescence', 0.35526561737060547),\n",
       " ('experiences', 0.3413849472999573),\n",
       " ('recounting', 0.32278770208358765),\n",
       " ('career', 0.31851351261138916),\n",
       " ('rebirth', 0.31040826439857483),\n",
       " ('jubal', 0.31005650758743286),\n",
       " ('personality', 0.3037562966346741),\n",
       " ('eschatology', 0.30316799879074097),\n",
       " ('allegory', 0.3019787073135376)]"
      ]
     },
     "execution_count": 19,
     "metadata": {},
     "output_type": "execute_result"
    }
   ],
   "source": [
    "model.wv.most_similar(positive=[\"life\"],negative=[\"money\"])"
   ]
  },
  {
   "cell_type": "markdown",
   "metadata": {},
   "source": [
    "Ver los parametros aprendidos por la red neuronal para una palabra dada:"
   ]
  },
  {
   "cell_type": "code",
   "execution_count": 20,
   "metadata": {},
   "outputs": [
    {
     "data": {
      "text/plain": [
       "array([-1.5159079 ,  0.80214715,  0.276939  , -1.3597016 ,  1.5235054 ,\n",
       "        0.14684658,  1.2048116 ,  1.9749167 , -0.46864378, -0.1929496 ,\n",
       "       -0.4290154 , -0.48530078,  0.75490105,  0.8892544 ,  1.5673723 ,\n",
       "        0.24747702,  0.5400999 ,  0.60588485, -0.5401709 , -1.004351  ,\n",
       "        0.64437366,  0.57947695,  0.28270513, -1.0196301 ,  0.19514811,\n",
       "       -0.15655258, -1.1349854 , -0.03052247, -1.5594072 ,  0.0469866 ,\n",
       "       -0.859875  , -0.66888624,  2.6631389 ,  1.6573238 ,  0.6539812 ,\n",
       "        1.932349  ,  0.08899866,  1.0110847 ,  0.29487696,  0.81247514,\n",
       "        0.24700445,  1.3175786 ,  1.601303  ,  0.19008061,  0.7870314 ,\n",
       "        1.0534837 ,  0.15557097, -0.3045088 , -0.9566997 , -0.00801399,\n",
       "        1.6332164 , -0.13534842, -1.0952069 , -0.80700034, -0.36430326,\n",
       "       -0.45601684, -2.8792374 ,  1.4524796 , -0.9105639 ,  1.0402459 ,\n",
       "       -0.62348187, -0.1261368 , -0.98406065, -1.4223725 , -2.2433648 ,\n",
       "       -0.0547363 ,  0.66124845, -1.2484993 ,  0.05282079, -0.34079754,\n",
       "        0.8856564 , -0.364897  , -0.6485166 ,  0.17648053,  0.86569643,\n",
       "       -0.14837964,  0.7785341 , -0.05567978, -0.30414313,  0.50762683,\n",
       "       -1.2463855 , -0.4702193 , -0.710502  ,  1.1478553 , -0.8302904 ,\n",
       "       -0.30013606, -0.56480765, -1.3127018 , -0.12128908, -1.039697  ,\n",
       "        0.3848942 ,  0.5779071 , -0.75854456, -0.44573602,  1.0335705 ,\n",
       "       -0.3029724 ,  1.0363717 ,  2.5740652 , -0.83378416, -1.1485023 ,\n",
       "        0.5292701 , -0.620877  , -0.676661  ,  1.8029228 , -1.3139073 ,\n",
       "        0.45899484, -0.1434707 , -0.77215666, -1.0830797 , -0.7591926 ,\n",
       "       -1.100564  , -0.3522654 , -1.103947  ,  1.6705136 , -0.19902076,\n",
       "        0.7748639 , -0.6069646 , -0.3771792 , -1.1991228 , -1.1433754 ,\n",
       "       -0.53817695, -0.6560371 , -1.474973  , -0.16006227, -1.1002533 ,\n",
       "       -0.18556362,  0.49709392,  0.04227409,  1.0543972 ,  0.39802742,\n",
       "       -0.6678381 , -1.2321137 , -0.28086832,  0.15286729,  0.78703827,\n",
       "        1.2328596 ,  0.8029797 ,  1.4833189 ,  0.10531118, -1.6816221 ,\n",
       "       -0.11315414,  0.09677763, -0.5433398 , -0.20935956, -1.1190109 ,\n",
       "        0.0539917 , -0.80356944,  2.3994403 ,  1.0181767 , -0.04420931,\n",
       "       -1.1266679 ,  0.8492841 ,  0.5801834 , -1.7638979 ,  0.97404003,\n",
       "        0.18491158, -0.10941146, -0.23010568, -0.6395563 ,  1.1362051 ,\n",
       "        1.2211573 ,  0.81344   , -0.9885136 ,  0.8208946 ,  0.90370953,\n",
       "        0.30647808, -1.6791139 ,  0.3691029 , -0.10876874,  0.46680963,\n",
       "       -0.67809385,  0.33241317, -0.5059814 ,  1.5478756 , -1.4286522 ,\n",
       "       -0.41963586, -0.97560817,  0.3596022 , -0.08291852, -0.31889188,\n",
       "        0.5210338 ,  0.2986593 ,  1.5179689 , -0.00969962,  0.18689054,\n",
       "       -0.7526023 ,  1.0760226 , -0.5458446 ,  0.13414359,  0.07482845,\n",
       "        0.32409048, -1.2030739 , -0.37750694,  0.00480313, -0.33020675,\n",
       "       -0.6268015 , -0.37067997,  0.10703072, -0.2592403 ,  0.2238954 ],\n",
       "      dtype=float32)"
      ]
     },
     "execution_count": 20,
     "metadata": {},
     "output_type": "execute_result"
    }
   ],
   "source": [
    "model.wv['computer']"
   ]
  },
  {
   "cell_type": "markdown",
   "metadata": {},
   "source": [
    "Guardar el modelo:"
   ]
  },
  {
   "cell_type": "code",
   "execution_count": 21,
   "metadata": {},
   "outputs": [],
   "source": [
    "model.save(\"text8_model\")\n",
    "model=word2vec.Word2Vec.load(\"text8_model\")"
   ]
  },
  {
   "cell_type": "code",
   "execution_count": 25,
   "metadata": {},
   "outputs": [
    {
     "data": {
      "text/plain": [
       "'cereal'"
      ]
     },
     "execution_count": 25,
     "metadata": {},
     "output_type": "execute_result"
    }
   ],
   "source": [
    "model.wv.doesnt_match(\"breakfast cereal dinner lunch\".split())"
   ]
  },
  {
   "cell_type": "code",
   "execution_count": 26,
   "metadata": {},
   "outputs": [
    {
     "data": {
      "text/plain": [
       "'france'"
      ]
     },
     "execution_count": 26,
     "metadata": {},
     "output_type": "execute_result"
    }
   ],
   "source": [
    "model.wv.doesnt_match(\"brazil chile france peru argentina\".split())"
   ]
  },
  {
   "cell_type": "code",
   "execution_count": 27,
   "metadata": {},
   "outputs": [
    {
     "data": {
      "text/plain": [
       "'apple'"
      ]
     },
     "execution_count": 27,
     "metadata": {},
     "output_type": "execute_result"
    }
   ],
   "source": [
    "model.wv.doesnt_match(\"apple pear banana hammer\".split())"
   ]
  },
  {
   "cell_type": "code",
   "execution_count": 28,
   "metadata": {},
   "outputs": [
    {
     "data": {
      "text/plain": [
       "0.64086884"
      ]
     },
     "execution_count": 28,
     "metadata": {},
     "output_type": "execute_result"
    }
   ],
   "source": [
    "model.wv.similarity('man','woman')"
   ]
  },
  {
   "cell_type": "code",
   "execution_count": 29,
   "metadata": {},
   "outputs": [
    {
     "data": {
      "text/plain": [
       "0.2513813"
      ]
     },
     "execution_count": 29,
     "metadata": {},
     "output_type": "execute_result"
    }
   ],
   "source": [
    "model.wv.similarity('man','hammer')"
   ]
  },
  {
   "cell_type": "code",
   "execution_count": 30,
   "metadata": {},
   "outputs": [
    {
     "data": {
      "text/plain": [
       "0.16365528"
      ]
     },
     "execution_count": 30,
     "metadata": {},
     "output_type": "execute_result"
    }
   ],
   "source": [
    "model.wv.similarity('woman','hammer')"
   ]
  },
  {
   "cell_type": "code",
   "execution_count": 31,
   "metadata": {},
   "outputs": [
    {
     "data": {
      "text/plain": [
       "0.08627574"
      ]
     },
     "execution_count": 31,
     "metadata": {},
     "output_type": "execute_result"
    }
   ],
   "source": [
    "model.wv.similarity('man','engineer')"
   ]
  },
  {
   "cell_type": "code",
   "execution_count": 32,
   "metadata": {},
   "outputs": [
    {
     "data": {
      "text/plain": [
       "0.071929134"
      ]
     },
     "execution_count": 32,
     "metadata": {},
     "output_type": "execute_result"
    }
   ],
   "source": [
    "model.wv.similarity('woman','engineer')"
   ]
  },
  {
   "cell_type": "code",
   "execution_count": 33,
   "metadata": {},
   "outputs": [
    {
     "data": {
      "text/plain": [
       "0.31784666"
      ]
     },
     "execution_count": 33,
     "metadata": {},
     "output_type": "execute_result"
    }
   ],
   "source": [
    "model.wv.similarity('man','baby')"
   ]
  },
  {
   "cell_type": "code",
   "execution_count": 34,
   "metadata": {},
   "outputs": [
    {
     "data": {
      "text/plain": [
       "0.43885893"
      ]
     },
     "execution_count": 34,
     "metadata": {},
     "output_type": "execute_result"
    }
   ],
   "source": [
    "model.wv.similarity('woman','baby')"
   ]
  },
  {
   "cell_type": "markdown",
   "metadata": {},
   "source": [
    "**Pregunta 1:** modifique parámetros de entrenamiento y compare resultados con los obtenidos previamente."
   ]
  },
  {
   "cell_type": "markdown",
   "metadata": {},
   "source": [
    "### Cargar un modelo Word2Vec pre-entrenado para el español\n",
    "\n",
    "ver: https://github.com/dccuchile/spanish-word-embeddings"
   ]
  },
  {
   "cell_type": "code",
   "execution_count": 35,
   "metadata": {
    "scrolled": true
   },
   "outputs": [],
   "source": [
    "from gensim.models import KeyedVectors\n",
    "\n",
    "model = KeyedVectors.load_word2vec_format(\"data/SBW-vectors-300-min5.bin.gz\", binary=True) "
   ]
  },
  {
   "cell_type": "code",
   "execution_count": 36,
   "metadata": {},
   "outputs": [
    {
     "name": "stdout",
     "output_type": "stream",
     "text": [
      "(300,)\n",
      "[ 0.1051706  -0.27460352 -0.21322592  0.261666    0.09946854 -0.02449877\n",
      "  0.12955804 -0.34066245  0.3385692  -0.09923615]\n"
     ]
    }
   ],
   "source": [
    "dog = model['perro']\n",
    "print(dog.shape)\n",
    "print(dog[:10])"
   ]
  },
  {
   "cell_type": "code",
   "execution_count": 37,
   "metadata": {},
   "outputs": [
    {
     "name": "stdout",
     "output_type": "stream",
     "text": [
      "0.12951772\n",
      "0.15265214\n"
     ]
    }
   ],
   "source": [
    "print(model.similarity('mujer', 'ingeniería'))\n",
    "print(model.similarity('hombre', 'ingenieria'))"
   ]
  },
  {
   "cell_type": "code",
   "execution_count": 38,
   "metadata": {},
   "outputs": [
    {
     "name": "stdout",
     "output_type": "stream",
     "text": [
      "0.4396093\n",
      "0.40620732\n"
     ]
    }
   ],
   "source": [
    "print(model.similarity('mujer', 'bebe'))\n",
    "print(model.similarity('hombre', 'bebe'))"
   ]
  },
  {
   "cell_type": "code",
   "execution_count": 39,
   "metadata": {},
   "outputs": [
    {
     "name": "stdout",
     "output_type": "stream",
     "text": [
      "0.1600553\n",
      "0.20306623\n",
      "0.13652363\n"
     ]
    }
   ],
   "source": [
    "print(model.similarity('chileno', 'violencia'))\n",
    "print(model.similarity('venezolano', 'violencia'))\n",
    "print(model.similarity('francés', 'violencia'))"
   ]
  },
  {
   "cell_type": "code",
   "execution_count": 40,
   "metadata": {},
   "outputs": [
    {
     "name": "stdout",
     "output_type": "stream",
     "text": [
      "0.17682078\n",
      "0.19584653\n",
      "0.10330092\n"
     ]
    }
   ],
   "source": [
    "print(model.similarity('chileno', 'criminal'))\n",
    "print(model.similarity('venezolano', 'criminal'))\n",
    "print(model.similarity('francés', 'criminal'))"
   ]
  },
  {
   "cell_type": "code",
   "execution_count": 41,
   "metadata": {},
   "outputs": [
    {
     "data": {
      "text/plain": [
       "[('chilena', 0.7700597047805786),\n",
       " ('Chile', 0.7495903968811035),\n",
       " ('peruano', 0.7162680625915527),\n",
       " ('chilenos', 0.7058152556419373),\n",
       " ('Chileno', 0.7000812292098999),\n",
       " ('argentino', 0.6901670098304749),\n",
       " ('boliviano', 0.668327808380127),\n",
       " ('Antofagasta', 0.6591013669967651),\n",
       " ('Talca', 0.6463865041732788),\n",
       " ('ecuatoriano', 0.6427898406982422),\n",
       " ('ariqueño', 0.6422775983810425),\n",
       " ('chilenas', 0.6416401267051697),\n",
       " ('Valparaíso', 0.6410984396934509),\n",
       " ('Pavez', 0.639731764793396),\n",
       " ('penquista', 0.6381477117538452),\n",
       " ('Iturra', 0.6330534219741821),\n",
       " ('Iquique', 0.6310880184173584),\n",
       " ('nortino', 0.6273276209831238),\n",
       " ('iquiqueño', 0.627190113067627),\n",
       " ('Temuco', 0.6224685311317444)]"
      ]
     },
     "execution_count": 41,
     "metadata": {},
     "output_type": "execute_result"
    }
   ],
   "source": [
    "model.most_similar(positive=[\"chileno\"],topn=20)"
   ]
  },
  {
   "cell_type": "markdown",
   "metadata": {},
   "source": [
    "## Ejemplo práctico de análisis con ETM\n",
    "\n",
    "Usaremos los mismos datos de ejemplo que en las sesiones anteriores usando una biblioteca que implementa ETM (ver https://github.com/lffloyd/embedded-topic-model)"
   ]
  },
  {
   "cell_type": "code",
   "execution_count": 46,
   "metadata": {},
   "outputs": [],
   "source": [
    "import pandas as pd\n",
    "#from pandasql import sqldf #para utilizar una síntaxis SQL para consultar nuestros datos\n",
    "\n",
    "dataset=\"data/contaminaciónacústica_chile_2018-01-01_2021-12-31.csv\"\n",
    "df = pd.read_csv(dataset)\n",
    "\n",
    "noticias = df[:88].text"
   ]
  },
  {
   "cell_type": "code",
   "execution_count": 47,
   "metadata": {},
   "outputs": [],
   "source": [
    "import spacy\n",
    "nlp = spacy.load(\"es_core_news_md\")\n",
    "\n",
    "def spacy_tokenizer(texto):\n",
    "    # crea lista de tokens a partir de un texto\n",
    "    mytokens = []\n",
    "    doc = nlp(texto.lower().strip())\n",
    "    for token in doc:\n",
    "        if not token.is_stop and not token.is_punct and not token.is_space and not token.is_digit and not token.like_num:\n",
    "            mytokens.append(token.lemma_)\n",
    "    return mytokens\n"
   ]
  },
  {
   "cell_type": "code",
   "execution_count": 50,
   "metadata": {},
   "outputs": [],
   "source": [
    "import re\n",
    "from sklearn.feature_extraction.text import CountVectorizer\n",
    "myStopWords=['gnl','=','$','+','a','e','o','u','y',' ','  ','   ','    ']\n",
    "tf_vectorizer = CountVectorizer(max_df=0.95, min_df=2,\n",
    "                                stop_words=myStopWords,tokenizer=spacy_tokenizer, ngram_range=(1,1))\n",
    "tf = tf_vectorizer.fit_transform(noticias)\n",
    "diccionario= tf_vectorizer.get_feature_names()"
   ]
  },
  {
   "cell_type": "code",
   "execution_count": 56,
   "metadata": {},
   "outputs": [],
   "source": [
    "#preparando los datos para su análisis y visualización\n",
    "import numpy as np\n",
    "td= {'tokens':[],'counts':[]}\n",
    "doc_l = np.zeros(len(noticias))\n",
    "term_f= np.zeros(len(diccionario))\n",
    "for i in range(0,len(noticias)):\n",
    "        tok=[]\n",
    "        cou=[]\n",
    "        for j in range(0,len(diccionario)):\n",
    "             if(tf[i,j]>=1):\n",
    "                term_f[j] = term_f[j] + tf[i,j]\n",
    "                doc_l[i] = doc_l[i]+ tf[i,j]\n",
    "                tok.append(j)\n",
    "                cou.append(tf[i,j])\n",
    "        td['tokens'].append(np.array(tok))\n",
    "        td['counts'].append(np.array(cou))\n",
    "td['tokens']= np.array(td['tokens'],dtype=object)\n",
    "td['counts']= np.array(td['counts'],dtype=object)"
   ]
  },
  {
   "cell_type": "code",
   "execution_count": 57,
   "metadata": {},
   "outputs": [
    {
     "name": "stdout",
     "output_type": "stream",
     "text": [
      "Topics before training: [['ruido\\x94', 'naomi', '10:00', '1.0}.200', '.css({visibility:\"visible', '0.0}).animate({opacity', '\\x93son', 'entregar él', 'v-629', 'casin'], ['http://estaticos.24horas.cl/skins/2017/06/16/player/css/jw24horas.css?v=v24-05-2017', 'chaitén', 'alimentar él', 'lipiga', 'w620h350', 'amigabl', '.storyvideobody', 'irarrázabal', 'minvu', 'brennar'], ['70%', 'decir él', 'ee.uu', 'sustentabl', 'alternates', 'u.', '.css({visibility:\"visible', 'aysén', '\\x93es', 'macer']]\n",
      "Epoch 1 - Learning Rate: 0.005 - KL theta: 0.0 - Rec loss: 1824.51 - NELBO: 1824.51\n",
      "Epoch 2 - Learning Rate: 0.005 - KL theta: 0.04 - Rec loss: 1820.77 - NELBO: 1820.81\n",
      "Epoch 3 - Learning Rate: 0.005 - KL theta: 0.15 - Rec loss: 1817.62 - NELBO: 1817.77\n",
      "Epoch 4 - Learning Rate: 0.005 - KL theta: 0.2 - Rec loss: 1815.05 - NELBO: 1815.25\n",
      "Epoch 5 - Learning Rate: 0.005 - KL theta: 0.15 - Rec loss: 1812.18 - NELBO: 1812.33\n",
      "Epoch 6 - Learning Rate: 0.005 - KL theta: 0.11 - Rec loss: 1809.68 - NELBO: 1809.79\n",
      "Epoch 7 - Learning Rate: 0.005 - KL theta: 0.12 - Rec loss: 1807.45 - NELBO: 1807.57\n",
      "Epoch 8 - Learning Rate: 0.005 - KL theta: 0.2 - Rec loss: 1805.02 - NELBO: 1805.22\n",
      "Epoch 9 - Learning Rate: 0.005 - KL theta: 0.35 - Rec loss: 1802.68 - NELBO: 1803.03\n",
      "Epoch 10 - Learning Rate: 0.005 - KL theta: 0.59 - Rec loss: 1800.63 - NELBO: 1801.22\n",
      "Topics: [['población', 'municipio', 'comuna', 'brennar', '.css({visibility:\"visible', 'región', 'área', 'kilómetro', 'vial', 'vialidad'], ['20%', 'comuna', 'brennar', 'población', 'lipigas', 'municipio', 'municipal', 'comunal', 'localidad', 'municipalidad'], ['avenida', 'kilómetro', 'humedal', 'habitacional', 'carretera', 'parque', 'municipio', 'autopista', 'vialidad', 'hidroeléctrico']]\n",
      "Epoch 11 - Learning Rate: 0.005 - KL theta: 0.66 - Rec loss: 1798.29 - NELBO: 1798.95\n",
      "Epoch 12 - Learning Rate: 0.005 - KL theta: 0.88 - Rec loss: 1796.51 - NELBO: 1797.39\n",
      "Epoch 13 - Learning Rate: 0.005 - KL theta: 1.42 - Rec loss: 1793.9 - NELBO: 1795.32\n",
      "Epoch 14 - Learning Rate: 0.005 - KL theta: 1.07 - Rec loss: 1792.26 - NELBO: 1793.33\n",
      "Epoch 15 - Learning Rate: 0.005 - KL theta: 0.93 - Rec loss: 1791.0 - NELBO: 1791.93\n",
      "Epoch 16 - Learning Rate: 0.005 - KL theta: 1.18 - Rec loss: 1788.06 - NELBO: 1789.24\n",
      "Epoch 17 - Learning Rate: 0.005 - KL theta: 1.53 - Rec loss: 1786.18 - NELBO: 1787.71\n",
      "Epoch 18 - Learning Rate: 0.005 - KL theta: 1.72 - Rec loss: 1784.0 - NELBO: 1785.72\n",
      "Epoch 19 - Learning Rate: 0.005 - KL theta: 1.8 - Rec loss: 1781.93 - NELBO: 1783.73\n",
      "Epoch 20 - Learning Rate: 0.005 - KL theta: 1.98 - Rec loss: 1779.4 - NELBO: 1781.38\n",
      "Topics: [['población', 'municipio', 'ballena', 'polución', 'área', 'marino', 'nivel', 'comuna', 'región', 'jorobada'], ['población', 'comuna', 'ruido', 'municipio', 'lipigas', '20%', 'municipal', 'localidad', 'nacional', 'amigabl'], ['municipio', 'parque', 'carretera', 'kilómetro', 'habitacional', 'hidroeléctrico', 'avenida', 'vehicular', 'megaproyecto', 'autopista']]\n",
      "Epoch 21 - Learning Rate: 0.005 - KL theta: 1.82 - Rec loss: 1778.24 - NELBO: 1780.06\n",
      "Epoch 22 - Learning Rate: 0.005 - KL theta: 2.02 - Rec loss: 1776.1 - NELBO: 1778.12\n",
      "Epoch 23 - Learning Rate: 0.005 - KL theta: 2.16 - Rec loss: 1774.45 - NELBO: 1776.61\n",
      "Epoch 24 - Learning Rate: 0.005 - KL theta: 2.4 - Rec loss: 1772.18 - NELBO: 1774.58\n",
      "Epoch 25 - Learning Rate: 0.005 - KL theta: 2.5 - Rec loss: 1770.74 - NELBO: 1773.24\n",
      "Epoch 26 - Learning Rate: 0.005 - KL theta: 2.65 - Rec loss: 1768.82 - NELBO: 1771.47\n",
      "Epoch 27 - Learning Rate: 0.005 - KL theta: 2.93 - Rec loss: 1766.8 - NELBO: 1769.73\n",
      "Epoch 28 - Learning Rate: 0.005 - KL theta: 2.94 - Rec loss: 1765.39 - NELBO: 1768.33\n",
      "Epoch 29 - Learning Rate: 0.005 - KL theta: 2.51 - Rec loss: 1764.08 - NELBO: 1766.59\n",
      "Epoch 30 - Learning Rate: 0.005 - KL theta: 2.15 - Rec loss: 1763.27 - NELBO: 1765.42\n",
      "Topics: [['ballena', 'cetáceo', 'marino', 'población', 'jorobada', 'chiloé', 'polución', 'mamífero', 'pingüino', 'ave'], ['ruido', 'población', 'comuna', 'municipio', 'amigabl', 'nacional', 'ambiente', 'lipigas', 'impacto', 'municipal'], ['municipio', 'parque', 'carretera', 'proyecto', 'municipal', 'megaproyecto', 'metropolitano', 'kilómetro', 'hidroeléctrico', 'área']]\n",
      "Epoch 31 - Learning Rate: 0.005 - KL theta: 2.47 - Rec loss: 1761.47 - NELBO: 1763.94\n",
      "Epoch 32 - Learning Rate: 0.005 - KL theta: 2.79 - Rec loss: 1759.89 - NELBO: 1762.68\n",
      "Epoch 33 - Learning Rate: 0.005 - KL theta: 3.04 - Rec loss: 1758.85 - NELBO: 1761.89\n",
      "Epoch 34 - Learning Rate: 0.005 - KL theta: 3.38 - Rec loss: 1756.82 - NELBO: 1760.2\n",
      "Epoch 35 - Learning Rate: 0.005 - KL theta: 3.77 - Rec loss: 1755.6 - NELBO: 1759.37\n",
      "Epoch 36 - Learning Rate: 0.005 - KL theta: 3.71 - Rec loss: 1754.88 - NELBO: 1758.59\n",
      "Epoch 37 - Learning Rate: 0.005 - KL theta: 3.48 - Rec loss: 1753.3 - NELBO: 1756.78\n",
      "Epoch 38 - Learning Rate: 0.005 - KL theta: 3.31 - Rec loss: 1752.67 - NELBO: 1755.98\n",
      "Epoch 39 - Learning Rate: 0.005 - KL theta: 3.53 - Rec loss: 1751.09 - NELBO: 1754.62\n",
      "Epoch 40 - Learning Rate: 0.005 - KL theta: 3.86 - Rec loss: 1749.53 - NELBO: 1753.39\n",
      "Topics: [['ballena', 'marino', 'cetáceo', 'jorobada', 'chiloé', 'mamífero', 'especie', 'población', 'ave', 'orca'], ['ruido', 'población', 'ambiente', 'comuna', 'impacto', 'polución', 'nivel', 'escuchar', 'ambiental', 'miedo'], ['proyecto', 'municipio', 'municipal', 'parque', 'carretera', 'megaproyecto', 'metropolitano', 'sector', 'iveco', 'empresa']]\n",
      "Epoch 41 - Learning Rate: 0.005 - KL theta: 3.71 - Rec loss: 1748.23 - NELBO: 1751.94\n",
      "Epoch 42 - Learning Rate: 0.005 - KL theta: 3.3 - Rec loss: 1747.58 - NELBO: 1750.88\n",
      "Epoch 43 - Learning Rate: 0.005 - KL theta: 3.01 - Rec loss: 1747.3 - NELBO: 1750.31\n",
      "Epoch 44 - Learning Rate: 0.005 - KL theta: 3.16 - Rec loss: 1745.88 - NELBO: 1749.04\n",
      "Epoch 45 - Learning Rate: 0.005 - KL theta: 3.67 - Rec loss: 1744.54 - NELBO: 1748.21\n",
      "Epoch 46 - Learning Rate: 0.005 - KL theta: 4.03 - Rec loss: 1743.33 - NELBO: 1747.36\n",
      "Epoch 47 - Learning Rate: 0.005 - KL theta: 3.78 - Rec loss: 1742.76 - NELBO: 1746.54\n",
      "Epoch 48 - Learning Rate: 0.005 - KL theta: 3.64 - Rec loss: 1741.59 - NELBO: 1745.23\n",
      "Epoch 49 - Learning Rate: 0.005 - KL theta: 3.56 - Rec loss: 1741.33 - NELBO: 1744.89\n",
      "Epoch 50 - Learning Rate: 0.005 - KL theta: 3.68 - Rec loss: 1739.98 - NELBO: 1743.66\n",
      "Topics: [['ballena', 'marino', 'cetáceo', 'especie', 'jorobada', 'población', 'marina', 'mamífero', 'chiloé', 'ave'], ['ruido', 'db', 'ambiente', 'población', 'sonido', 'polución', 'impacto', 'nivel', 'ocde', 'escuchar'], ['proyecto', 'municipio', 'municipal', 'parque', 'carretera', 'empresa', 'megaproyecto', 'sector', 'metropolitano', 'iveco']]\n",
      "Epoch 51 - Learning Rate: 0.005 - KL theta: 4.02 - Rec loss: 1738.39 - NELBO: 1742.41\n",
      "Epoch 52 - Learning Rate: 0.005 - KL theta: 3.99 - Rec loss: 1738.07 - NELBO: 1742.06\n",
      "Epoch 53 - Learning Rate: 0.005 - KL theta: 3.72 - Rec loss: 1737.53 - NELBO: 1741.25\n",
      "Epoch 54 - Learning Rate: 0.005 - KL theta: 3.47 - Rec loss: 1737.25 - NELBO: 1740.72\n",
      "Epoch 55 - Learning Rate: 0.005 - KL theta: 3.44 - Rec loss: 1736.29 - NELBO: 1739.73\n",
      "Epoch 56 - Learning Rate: 0.005 - KL theta: 3.52 - Rec loss: 1736.07 - NELBO: 1739.59\n",
      "Epoch 57 - Learning Rate: 0.005 - KL theta: 3.76 - Rec loss: 1734.8 - NELBO: 1738.56\n",
      "Epoch 58 - Learning Rate: 0.005 - KL theta: 4.01 - Rec loss: 1734.71 - NELBO: 1738.72\n",
      "Epoch 59 - Learning Rate: 0.005 - KL theta: 4.27 - Rec loss: 1733.21 - NELBO: 1737.48\n",
      "Epoch 60 - Learning Rate: 0.005 - KL theta: 4.23 - Rec loss: 1732.75 - NELBO: 1736.98\n",
      "Topics: [['ballena', 'especie', 'marino', 'población', 'cetáceo', 'marina', 'región', 'mamífero', 'área', 'jorobada'], ['ruido', 'db', 'nivel', 'ambiente', 'sonido', 'población', 'impacto', 'polución', 'ocde', 'riesgo'], ['proyecto', 'municipio', 'parque', 'municipal', 'empresa', 'sector', 'carretera', 'metropolitano', 'comunidad', 'megaproyecto']]\n",
      "Epoch 61 - Learning Rate: 0.005 - KL theta: 3.95 - Rec loss: 1732.76 - NELBO: 1736.71\n",
      "Epoch 62 - Learning Rate: 0.005 - KL theta: 3.72 - Rec loss: 1731.65 - NELBO: 1735.37\n",
      "Epoch 63 - Learning Rate: 0.005 - KL theta: 3.53 - Rec loss: 1731.91 - NELBO: 1735.44\n",
      "Epoch 64 - Learning Rate: 0.005 - KL theta: 3.54 - Rec loss: 1731.5 - NELBO: 1735.04\n",
      "Epoch 65 - Learning Rate: 0.005 - KL theta: 3.65 - Rec loss: 1730.94 - NELBO: 1734.59\n"
     ]
    },
    {
     "name": "stdout",
     "output_type": "stream",
     "text": [
      "Epoch 66 - Learning Rate: 0.005 - KL theta: 3.74 - Rec loss: 1729.79 - NELBO: 1733.53\n",
      "Epoch 67 - Learning Rate: 0.005 - KL theta: 3.79 - Rec loss: 1729.77 - NELBO: 1733.56\n",
      "Epoch 68 - Learning Rate: 0.005 - KL theta: 4.07 - Rec loss: 1728.83 - NELBO: 1732.9\n",
      "Epoch 69 - Learning Rate: 0.005 - KL theta: 4.35 - Rec loss: 1728.14 - NELBO: 1732.49\n",
      "Epoch 70 - Learning Rate: 0.005 - KL theta: 4.5 - Rec loss: 1727.72 - NELBO: 1732.22\n",
      "Topics: [['ballena', 'especie', 'marino', 'área', 'región', 'población', 'mamífero', 'marina', 'ave', 'cetáceo'], ['ruido', 'nivel', 'db', 'ambiente', 'sonido', 'población', 'impacto', 'generar', 'polución', 'alto'], ['proyecto', 'municipio', 'parque', 'municipal', 'empresa', 'sector', 'carretera', 'metropolitano', 'comunidad', 'vehículo']]\n",
      "Epoch 71 - Learning Rate: 0.005 - KL theta: 4.38 - Rec loss: 1727.1 - NELBO: 1731.48\n",
      "Epoch 72 - Learning Rate: 0.005 - KL theta: 4.03 - Rec loss: 1727.23 - NELBO: 1731.26\n",
      "Epoch 73 - Learning Rate: 0.005 - KL theta: 3.63 - Rec loss: 1726.96 - NELBO: 1730.59\n",
      "Epoch 74 - Learning Rate: 0.005 - KL theta: 3.4 - Rec loss: 1726.42 - NELBO: 1729.82\n",
      "Epoch 75 - Learning Rate: 0.005 - KL theta: 3.27 - Rec loss: 1727.91 - NELBO: 1731.18\n",
      "Epoch 76 - Learning Rate: 0.005 - KL theta: 3.64 - Rec loss: 1726.33 - NELBO: 1729.97\n",
      "Epoch 77 - Learning Rate: 0.005 - KL theta: 4.13 - Rec loss: 1725.74 - NELBO: 1729.87\n",
      "Epoch 78 - Learning Rate: 0.005 - KL theta: 4.5 - Rec loss: 1724.55 - NELBO: 1729.05\n",
      "Epoch 79 - Learning Rate: 0.005 - KL theta: 4.53 - Rec loss: 1724.59 - NELBO: 1729.12\n",
      "Epoch 80 - Learning Rate: 0.005 - KL theta: 4.31 - Rec loss: 1724.63 - NELBO: 1728.94\n",
      "Topics: [['ballena', 'especie', 'marino', 'área', 'región', 'mamífero', 'población', 'delfín', 'marina', 'ave'], ['ruido', 'nivel', 'db', 'ambiente', 'sonido', 'población', 'impacto', 'generar', 'lugar', 'alto'], ['proyecto', 'parque', 'municipio', 'empresa', 'municipal', 'sector', 'metropolitano', 'público', 'carretera', 'vehículo']]\n",
      "Epoch 81 - Learning Rate: 0.005 - KL theta: 4.14 - Rec loss: 1723.84 - NELBO: 1727.98\n",
      "Epoch 82 - Learning Rate: 0.005 - KL theta: 3.96 - Rec loss: 1724.26 - NELBO: 1728.22\n",
      "Epoch 83 - Learning Rate: 0.005 - KL theta: 3.95 - Rec loss: 1723.83 - NELBO: 1727.78\n",
      "Epoch 84 - Learning Rate: 0.005 - KL theta: 4.01 - Rec loss: 1723.3 - NELBO: 1727.31\n",
      "Epoch 85 - Learning Rate: 0.005 - KL theta: 3.93 - Rec loss: 1723.05 - NELBO: 1726.98\n",
      "Epoch 86 - Learning Rate: 0.005 - KL theta: 3.88 - Rec loss: 1722.81 - NELBO: 1726.69\n",
      "Epoch 87 - Learning Rate: 0.005 - KL theta: 3.91 - Rec loss: 1722.52 - NELBO: 1726.43\n",
      "Epoch 88 - Learning Rate: 0.005 - KL theta: 3.98 - Rec loss: 1722.78 - NELBO: 1726.76\n",
      "Epoch 89 - Learning Rate: 0.005 - KL theta: 4.13 - Rec loss: 1722.05 - NELBO: 1726.18\n",
      "Epoch 90 - Learning Rate: 0.005 - KL theta: 4.38 - Rec loss: 1721.38 - NELBO: 1725.76\n",
      "Topics: [['ballena', 'especie', 'marino', 'área', 'región', 'mamífero', 'delfín', 'población', 'humedal', 'marina'], ['ruido', 'nivel', 'ambiente', 'db', 'sonido', 'impacto', 'población', 'lugar', 'generar', 'alto'], ['proyecto', 'empresa', 'parque', 'público', 'municipio', 'sector', 'municipal', 'metropolitano', 'servicio', 'vehículo']]\n",
      "Epoch 91 - Learning Rate: 0.005 - KL theta: 4.39 - Rec loss: 1720.82 - NELBO: 1725.21\n",
      "Epoch 92 - Learning Rate: 0.005 - KL theta: 4.18 - Rec loss: 1720.92 - NELBO: 1725.1\n",
      "Epoch 93 - Learning Rate: 0.005 - KL theta: 3.98 - Rec loss: 1720.96 - NELBO: 1724.94\n",
      "Epoch 94 - Learning Rate: 0.005 - KL theta: 3.83 - Rec loss: 1720.42 - NELBO: 1724.25\n",
      "Epoch 95 - Learning Rate: 0.005 - KL theta: 3.65 - Rec loss: 1720.5 - NELBO: 1724.15\n",
      "Epoch 96 - Learning Rate: 0.005 - KL theta: 3.59 - Rec loss: 1720.91 - NELBO: 1724.5\n",
      "Epoch 97 - Learning Rate: 0.005 - KL theta: 3.61 - Rec loss: 1720.28 - NELBO: 1723.89\n",
      "Epoch 98 - Learning Rate: 0.005 - KL theta: 3.69 - Rec loss: 1720.43 - NELBO: 1724.12\n",
      "Epoch 99 - Learning Rate: 0.005 - KL theta: 4.05 - Rec loss: 1719.0 - NELBO: 1723.05\n",
      "Epoch 100 - Learning Rate: 0.005 - KL theta: 4.24 - Rec loss: 1719.2 - NELBO: 1723.44\n",
      "Topics: [['ballena', 'especie', 'marino', 'área', 'región', 'mamífero', 'delfín', 'población', 'agua', 'humedal'], ['ruido', 'nivel', 'ambiente', 'impacto', 'sonido', 'población', 'db', 'ambiental', 'lugar', 'salud'], ['proyecto', 'empresa', 'parque', 'público', 'sector', 'municipio', 'municipal', 'vehículo', 'servicio', 'transporte']]\n",
      "Epoch 101 - Learning Rate: 0.005 - KL theta: 4.13 - Rec loss: 1718.79 - NELBO: 1722.92\n",
      "Epoch 102 - Learning Rate: 0.005 - KL theta: 3.94 - Rec loss: 1718.57 - NELBO: 1722.51\n",
      "Epoch 103 - Learning Rate: 0.005 - KL theta: 3.63 - Rec loss: 1719.07 - NELBO: 1722.7\n",
      "Epoch 104 - Learning Rate: 0.005 - KL theta: 3.47 - Rec loss: 1719.11 - NELBO: 1722.58\n",
      "Epoch 105 - Learning Rate: 0.005 - KL theta: 3.46 - Rec loss: 1719.18 - NELBO: 1722.64\n",
      "Epoch 106 - Learning Rate: 0.005 - KL theta: 3.76 - Rec loss: 1718.28 - NELBO: 1722.04\n",
      "Epoch 107 - Learning Rate: 0.005 - KL theta: 4.1 - Rec loss: 1718.18 - NELBO: 1722.28\n",
      "Epoch 108 - Learning Rate: 0.005 - KL theta: 4.25 - Rec loss: 1717.49 - NELBO: 1721.74\n",
      "Epoch 109 - Learning Rate: 0.005 - KL theta: 4.15 - Rec loss: 1717.73 - NELBO: 1721.88\n",
      "Epoch 110 - Learning Rate: 0.005 - KL theta: 4.11 - Rec loss: 1717.55 - NELBO: 1721.66\n",
      "Topics: [['ballena', 'especie', 'marino', 'área', 'región', 'mamífero', 'agua', 'delfín', 'humedal', 'población'], ['ruido', 'nivel', 'ambiente', 'impacto', 'ambiental', 'población', 'sonido', 'db', 'salud', 'lugar'], ['proyecto', 'empresa', 'público', 'parque', 'sector', 'servicio', 'transporte', 'vehículo', 'municipio', 'municipal']]\n",
      "Epoch 111 - Learning Rate: 0.005 - KL theta: 4.24 - Rec loss: 1716.99 - NELBO: 1721.23\n",
      "Epoch 112 - Learning Rate: 0.005 - KL theta: 4.35 - Rec loss: 1716.51 - NELBO: 1720.86\n",
      "Epoch 113 - Learning Rate: 0.005 - KL theta: 4.2 - Rec loss: 1717.07 - NELBO: 1721.27\n",
      "Epoch 114 - Learning Rate: 0.005 - KL theta: 4.05 - Rec loss: 1716.34 - NELBO: 1720.39\n",
      "Epoch 115 - Learning Rate: 0.005 - KL theta: 3.8 - Rec loss: 1716.19 - NELBO: 1719.99\n",
      "Epoch 116 - Learning Rate: 0.005 - KL theta: 3.58 - Rec loss: 1716.58 - NELBO: 1720.16\n",
      "Epoch 117 - Learning Rate: 0.005 - KL theta: 3.51 - Rec loss: 1716.97 - NELBO: 1720.48\n",
      "Epoch 118 - Learning Rate: 0.005 - KL theta: 3.74 - Rec loss: 1716.35 - NELBO: 1720.09\n",
      "Epoch 119 - Learning Rate: 0.005 - KL theta: 4.09 - Rec loss: 1716.44 - NELBO: 1720.53\n",
      "Epoch 120 - Learning Rate: 0.005 - KL theta: 4.11 - Rec loss: 1715.52 - NELBO: 1719.63\n",
      "Topics: [['ballena', 'especie', 'marino', 'área', 'agua', 'región', 'mamífero', 'delfín', 'humedal', 'población'], ['ruido', 'nivel', 'ambiente', 'impacto', 'ambiental', 'salud', 'población', 'lugar', 'sonido', 'ciudad'], ['proyecto', 'público', 'empresa', 'parque', 'sector', 'transporte', 'servicio', 'vehículo', 'municipio', 'municipal']]\n",
      "Epoch 121 - Learning Rate: 0.005 - KL theta: 3.96 - Rec loss: 1715.92 - NELBO: 1719.88\n",
      "Epoch 122 - Learning Rate: 0.005 - KL theta: 3.96 - Rec loss: 1715.49 - NELBO: 1719.45\n",
      "Epoch 123 - Learning Rate: 0.005 - KL theta: 4.07 - Rec loss: 1715.36 - NELBO: 1719.43\n",
      "Epoch 124 - Learning Rate: 0.005 - KL theta: 4.19 - Rec loss: 1715.28 - NELBO: 1719.47\n",
      "Epoch 125 - Learning Rate: 0.005 - KL theta: 4.1 - Rec loss: 1714.88 - NELBO: 1718.98\n",
      "Epoch 126 - Learning Rate: 0.005 - KL theta: 3.94 - Rec loss: 1714.83 - NELBO: 1718.77\n",
      "Epoch 127 - Learning Rate: 0.005 - KL theta: 3.89 - Rec loss: 1715.04 - NELBO: 1718.93\n",
      "Epoch 128 - Learning Rate: 0.005 - KL theta: 3.96 - Rec loss: 1714.72 - NELBO: 1718.68\n",
      "Epoch 129 - Learning Rate: 0.005 - KL theta: 4.17 - Rec loss: 1714.31 - NELBO: 1718.48\n",
      "Epoch 130 - Learning Rate: 0.005 - KL theta: 3.98 - Rec loss: 1714.56 - NELBO: 1718.54\n",
      "Topics: [['ballena', 'especie', 'marino', 'agua', 'área', 'mamífero', 'región', 'delfín', 'humedal', 'ave'], ['ruido', 'nivel', 'ambiente', 'ambiental', 'impacto', 'salud', 'lugar', 'persona', 'ciudad', 'generar'], ['proyecto', 'público', 'empresa', 'parque', 'sector', 'transporte', 'servicio', 'vehículo', 'año', 'vecino']]\n",
      "Epoch 131 - Learning Rate: 0.005 - KL theta: 3.64 - Rec loss: 1714.89 - NELBO: 1718.53\n",
      "Epoch 132 - Learning Rate: 0.005 - KL theta: 3.62 - Rec loss: 1714.1 - NELBO: 1717.72\n",
      "Epoch 133 - Learning Rate: 0.005 - KL theta: 3.61 - Rec loss: 1714.03 - NELBO: 1717.64\n",
      "Epoch 134 - Learning Rate: 0.005 - KL theta: 3.66 - Rec loss: 1714.01 - NELBO: 1717.67\n"
     ]
    },
    {
     "name": "stdout",
     "output_type": "stream",
     "text": [
      "Epoch 135 - Learning Rate: 0.005 - KL theta: 3.69 - Rec loss: 1713.74 - NELBO: 1717.43\n",
      "Epoch 136 - Learning Rate: 0.005 - KL theta: 3.77 - Rec loss: 1713.68 - NELBO: 1717.45\n",
      "Epoch 137 - Learning Rate: 0.005 - KL theta: 3.88 - Rec loss: 1713.74 - NELBO: 1717.62\n",
      "Epoch 138 - Learning Rate: 0.005 - KL theta: 3.96 - Rec loss: 1713.32 - NELBO: 1717.28\n",
      "Epoch 139 - Learning Rate: 0.005 - KL theta: 4.0 - Rec loss: 1713.18 - NELBO: 1717.18\n",
      "Epoch 140 - Learning Rate: 0.005 - KL theta: 3.95 - Rec loss: 1713.26 - NELBO: 1717.21\n",
      "Topics: [['ballena', 'especie', 'agua', 'marino', 'área', 'región', 'mamífero', 'delfín', 'humedal', 'población'], ['ruido', 'nivel', 'ambiente', 'ambiental', 'impacto', 'persona', 'salud', 'ciudad', 'lugar', 'generar'], ['proyecto', 'público', 'empresa', 'parque', 'sector', 'transporte', 'servicio', 'vehículo', 'año', 'vecino']]\n",
      "Epoch 141 - Learning Rate: 0.005 - KL theta: 3.89 - Rec loss: 1713.35 - NELBO: 1717.24\n",
      "Epoch 142 - Learning Rate: 0.005 - KL theta: 3.92 - Rec loss: 1712.94 - NELBO: 1716.86\n",
      "Epoch 143 - Learning Rate: 0.005 - KL theta: 4.01 - Rec loss: 1713.19 - NELBO: 1717.2\n",
      "Epoch 144 - Learning Rate: 0.005 - KL theta: 3.99 - Rec loss: 1712.78 - NELBO: 1716.77\n",
      "Epoch 145 - Learning Rate: 0.005 - KL theta: 3.98 - Rec loss: 1712.59 - NELBO: 1716.57\n",
      "Epoch 146 - Learning Rate: 0.005 - KL theta: 3.9 - Rec loss: 1712.55 - NELBO: 1716.45\n",
      "Epoch 147 - Learning Rate: 0.005 - KL theta: 3.8 - Rec loss: 1712.51 - NELBO: 1716.31\n",
      "Epoch 148 - Learning Rate: 0.005 - KL theta: 3.8 - Rec loss: 1712.53 - NELBO: 1716.33\n",
      "Epoch 149 - Learning Rate: 0.005 - KL theta: 3.85 - Rec loss: 1712.42 - NELBO: 1716.27\n",
      "Epoch 150 - Learning Rate: 0.005 - KL theta: 3.97 - Rec loss: 1711.84 - NELBO: 1715.81\n",
      "Topics: [['ballena', 'especie', 'agua', 'marino', 'área', 'región', 'mamífero', 'delfín', 'humedal', 'población'], ['ruido', 'nivel', 'ambiente', 'ambiental', 'impacto', 'persona', 'ciudad', 'salud', 'lugar', 'generar'], ['proyecto', 'público', 'empresa', 'parque', 'transporte', 'servicio', 'sector', 'vehículo', 'año', 'vecino']]\n",
      "Epoch 151 - Learning Rate: 0.005 - KL theta: 3.97 - Rec loss: 1711.85 - NELBO: 1715.82\n",
      "Epoch 152 - Learning Rate: 0.005 - KL theta: 3.84 - Rec loss: 1711.73 - NELBO: 1715.57\n",
      "Epoch 153 - Learning Rate: 0.005 - KL theta: 3.62 - Rec loss: 1712.16 - NELBO: 1715.78\n",
      "Epoch 154 - Learning Rate: 0.005 - KL theta: 3.54 - Rec loss: 1712.3 - NELBO: 1715.84\n",
      "Epoch 155 - Learning Rate: 0.005 - KL theta: 3.5 - Rec loss: 1712.09 - NELBO: 1715.59\n",
      "Epoch 156 - Learning Rate: 0.005 - KL theta: 3.61 - Rec loss: 1712.07 - NELBO: 1715.68\n",
      "Epoch 157 - Learning Rate: 0.005 - KL theta: 3.77 - Rec loss: 1711.41 - NELBO: 1715.18\n",
      "Epoch 158 - Learning Rate: 0.005 - KL theta: 3.86 - Rec loss: 1711.84 - NELBO: 1715.7\n",
      "Epoch 159 - Learning Rate: 0.005 - KL theta: 4.0 - Rec loss: 1711.62 - NELBO: 1715.62\n",
      "Epoch 160 - Learning Rate: 0.005 - KL theta: 4.29 - Rec loss: 1711.14 - NELBO: 1715.43\n",
      "Topics: [['ballena', 'especie', 'agua', 'marino', 'área', 'región', 'mamífero', 'delfín', 'humedal', 'población'], ['ruido', 'nivel', 'ambiente', 'ambiental', 'persona', 'impacto', 'ciudad', 'salud', 'lugar', 'generar'], ['proyecto', 'público', 'empresa', 'parque', 'transporte', 'servicio', 'sector', 'vehículo', 'año', 'vecino']]\n",
      "Epoch 161 - Learning Rate: 0.005 - KL theta: 4.33 - Rec loss: 1710.9 - NELBO: 1715.23\n",
      "Epoch 162 - Learning Rate: 0.005 - KL theta: 4.06 - Rec loss: 1710.85 - NELBO: 1714.91\n",
      "Epoch 163 - Learning Rate: 0.005 - KL theta: 3.77 - Rec loss: 1711.38 - NELBO: 1715.15\n",
      "Epoch 164 - Learning Rate: 0.005 - KL theta: 3.57 - Rec loss: 1711.36 - NELBO: 1714.93\n",
      "Epoch 165 - Learning Rate: 0.005 - KL theta: 3.49 - Rec loss: 1711.28 - NELBO: 1714.77\n",
      "Epoch 166 - Learning Rate: 0.005 - KL theta: 3.58 - Rec loss: 1711.62 - NELBO: 1715.2\n",
      "Epoch 167 - Learning Rate: 0.005 - KL theta: 3.82 - Rec loss: 1711.09 - NELBO: 1714.91\n",
      "Epoch 168 - Learning Rate: 0.005 - KL theta: 3.91 - Rec loss: 1710.65 - NELBO: 1714.56\n",
      "Epoch 169 - Learning Rate: 0.005 - KL theta: 3.97 - Rec loss: 1710.77 - NELBO: 1714.74\n",
      "Epoch 170 - Learning Rate: 0.005 - KL theta: 4.08 - Rec loss: 1710.39 - NELBO: 1714.47\n",
      "Topics: [['ballena', 'especie', 'agua', 'marino', 'región', 'mamífero', 'área', 'delfín', 'humedal', 'chile'], ['ruido', 'nivel', 'ambiental', 'ambiente', 'persona', 'impacto', 'ciudad', 'salud', 'lugar', 'generar'], ['proyecto', 'público', 'empresa', 'parque', 'transporte', 'servicio', 'sector', 'año', 'vecino', 'vehículo']]\n",
      "Epoch 171 - Learning Rate: 0.005 - KL theta: 4.18 - Rec loss: 1710.66 - NELBO: 1714.84\n",
      "Epoch 172 - Learning Rate: 0.005 - KL theta: 4.34 - Rec loss: 1710.3 - NELBO: 1714.64\n",
      "Epoch 173 - Learning Rate: 0.005 - KL theta: 4.2 - Rec loss: 1710.51 - NELBO: 1714.71\n",
      "Epoch 174 - Learning Rate: 0.005 - KL theta: 4.0 - Rec loss: 1710.56 - NELBO: 1714.56\n",
      "Epoch 175 - Learning Rate: 0.005 - KL theta: 3.94 - Rec loss: 1710.05 - NELBO: 1713.99\n",
      "Epoch 176 - Learning Rate: 0.005 - KL theta: 3.88 - Rec loss: 1710.57 - NELBO: 1714.45\n",
      "Epoch 177 - Learning Rate: 0.005 - KL theta: 3.99 - Rec loss: 1710.65 - NELBO: 1714.64\n",
      "Epoch 178 - Learning Rate: 0.005 - KL theta: 4.19 - Rec loss: 1709.76 - NELBO: 1713.95\n",
      "Epoch 179 - Learning Rate: 0.005 - KL theta: 4.19 - Rec loss: 1710.09 - NELBO: 1714.28\n",
      "Epoch 180 - Learning Rate: 0.005 - KL theta: 4.01 - Rec loss: 1710.72 - NELBO: 1714.73\n",
      "Topics: [['ballena', 'especie', 'agua', 'marino', 'región', 'mamífero', 'área', 'humedal', 'delfín', 'chile'], ['ruido', 'nivel', 'ambiental', 'ambiente', 'persona', 'ciudad', 'impacto', 'salud', 'lugar', 'generar'], ['proyecto', 'público', 'empresa', 'parque', 'servicio', 'transporte', 'año', 'vecino', 'sector', 'vehículo']]\n",
      "Epoch 181 - Learning Rate: 0.005 - KL theta: 3.74 - Rec loss: 1709.93 - NELBO: 1713.67\n",
      "Epoch 182 - Learning Rate: 0.005 - KL theta: 3.54 - Rec loss: 1710.73 - NELBO: 1714.27\n",
      "Epoch 183 - Learning Rate: 0.005 - KL theta: 3.44 - Rec loss: 1711.11 - NELBO: 1714.55\n",
      "Epoch 184 - Learning Rate: 0.005 - KL theta: 3.49 - Rec loss: 1710.21 - NELBO: 1713.7\n",
      "Epoch 185 - Learning Rate: 0.005 - KL theta: 3.69 - Rec loss: 1710.37 - NELBO: 1714.06\n",
      "Epoch 186 - Learning Rate: 0.005 - KL theta: 3.88 - Rec loss: 1709.78 - NELBO: 1713.66\n",
      "Epoch 187 - Learning Rate: 0.005 - KL theta: 4.02 - Rec loss: 1710.28 - NELBO: 1714.3\n",
      "Epoch 188 - Learning Rate: 0.005 - KL theta: 4.05 - Rec loss: 1709.33 - NELBO: 1713.38\n",
      "Epoch 189 - Learning Rate: 0.005 - KL theta: 3.98 - Rec loss: 1709.92 - NELBO: 1713.9\n",
      "Epoch 190 - Learning Rate: 0.005 - KL theta: 4.1 - Rec loss: 1709.57 - NELBO: 1713.67\n",
      "Topics: [['ballena', 'especie', 'agua', 'marino', 'región', 'mamífero', 'área', 'chile', 'delfín', 'población'], ['ruido', 'nivel', 'ambiental', 'ambiente', 'persona', 'ciudad', 'impacto', 'salud', 'lugar', 'generar'], ['proyecto', 'público', 'empresa', 'parque', 'transporte', 'servicio', 'año', 'vecino', 'sector', 'vehículo']]\n",
      "Epoch 191 - Learning Rate: 0.005 - KL theta: 4.12 - Rec loss: 1708.93 - NELBO: 1713.05\n",
      "Epoch 192 - Learning Rate: 0.005 - KL theta: 4.07 - Rec loss: 1708.96 - NELBO: 1713.03\n",
      "Epoch 193 - Learning Rate: 0.005 - KL theta: 3.92 - Rec loss: 1709.14 - NELBO: 1713.06\n",
      "Epoch 194 - Learning Rate: 0.005 - KL theta: 3.83 - Rec loss: 1709.0 - NELBO: 1712.83\n",
      "Epoch 195 - Learning Rate: 0.005 - KL theta: 3.62 - Rec loss: 1709.04 - NELBO: 1712.66\n",
      "Epoch 196 - Learning Rate: 0.005 - KL theta: 3.39 - Rec loss: 1709.84 - NELBO: 1713.23\n",
      "Epoch 197 - Learning Rate: 0.005 - KL theta: 3.38 - Rec loss: 1709.9 - NELBO: 1713.28\n",
      "Epoch 198 - Learning Rate: 0.005 - KL theta: 3.56 - Rec loss: 1709.82 - NELBO: 1713.38\n",
      "Epoch 199 - Learning Rate: 0.005 - KL theta: 3.83 - Rec loss: 1709.07 - NELBO: 1712.9\n",
      "Epoch 200 - Learning Rate: 0.005 - KL theta: 4.01 - Rec loss: 1708.75 - NELBO: 1712.76\n",
      "Topics: [['ballena', 'especie', 'agua', 'marino', 'región', 'mamífero', 'área', 'delfín', 'chile', 'ave'], ['ruido', 'nivel', 'ambiental', 'ambiente', 'persona', 'ciudad', 'impacto', 'salud', 'lugar', 'generar'], ['proyecto', 'público', 'empresa', 'parque', 'año', 'transporte', 'servicio', 'vecino', 'sector', 'vehículo']]\n",
      "Epoch 201 - Learning Rate: 0.005 - KL theta: 4.16 - Rec loss: 1708.72 - NELBO: 1712.88\n",
      "Epoch 202 - Learning Rate: 0.005 - KL theta: 4.29 - Rec loss: 1708.51 - NELBO: 1712.8\n",
      "Epoch 203 - Learning Rate: 0.005 - KL theta: 4.35 - Rec loss: 1708.56 - NELBO: 1712.91\n",
      "Epoch 204 - Learning Rate: 0.005 - KL theta: 4.3 - Rec loss: 1708.36 - NELBO: 1712.66\n",
      "Epoch 205 - Learning Rate: 0.005 - KL theta: 3.98 - Rec loss: 1708.39 - NELBO: 1712.37\n",
      "Epoch 206 - Learning Rate: 0.005 - KL theta: 3.61 - Rec loss: 1708.87 - NELBO: 1712.48\n"
     ]
    },
    {
     "name": "stdout",
     "output_type": "stream",
     "text": [
      "Epoch 207 - Learning Rate: 0.005 - KL theta: 3.35 - Rec loss: 1709.68 - NELBO: 1713.03\n",
      "Epoch 208 - Learning Rate: 0.005 - KL theta: 3.47 - Rec loss: 1708.96 - NELBO: 1712.43\n",
      "Epoch 209 - Learning Rate: 0.005 - KL theta: 3.71 - Rec loss: 1709.06 - NELBO: 1712.77\n",
      "Epoch 210 - Learning Rate: 0.005 - KL theta: 3.89 - Rec loss: 1708.59 - NELBO: 1712.48\n",
      "Topics: [['ballena', 'especie', 'agua', 'marino', 'región', 'mamífero', 'área', 'población', 'chile', 'delfín'], ['ruido', 'nivel', 'ambiental', 'ambiente', 'persona', 'ciudad', 'impacto', 'salud', 'lugar', 'generar'], ['proyecto', 'público', 'empresa', 'parque', 'año', 'transporte', 'vecino', 'servicio', 'vehículo', 'sector']]\n",
      "Epoch 211 - Learning Rate: 0.005 - KL theta: 3.95 - Rec loss: 1708.75 - NELBO: 1712.7\n",
      "Epoch 212 - Learning Rate: 0.005 - KL theta: 3.98 - Rec loss: 1708.79 - NELBO: 1712.77\n",
      "Epoch 213 - Learning Rate: 0.005 - KL theta: 4.21 - Rec loss: 1708.26 - NELBO: 1712.47\n",
      "Epoch 214 - Learning Rate: 0.005 - KL theta: 4.34 - Rec loss: 1708.08 - NELBO: 1712.42\n",
      "Epoch 215 - Learning Rate: 0.005 - KL theta: 4.13 - Rec loss: 1708.02 - NELBO: 1712.15\n",
      "Epoch 216 - Learning Rate: 0.005 - KL theta: 3.71 - Rec loss: 1708.81 - NELBO: 1712.52\n",
      "Epoch 217 - Learning Rate: 0.005 - KL theta: 3.52 - Rec loss: 1708.31 - NELBO: 1711.83\n",
      "Epoch 218 - Learning Rate: 0.005 - KL theta: 3.43 - Rec loss: 1709.0 - NELBO: 1712.43\n",
      "Epoch 219 - Learning Rate: 0.005 - KL theta: 3.57 - Rec loss: 1708.8 - NELBO: 1712.37\n",
      "Epoch 220 - Learning Rate: 0.005 - KL theta: 3.86 - Rec loss: 1708.36 - NELBO: 1712.22\n",
      "Topics: [['ballena', 'especie', 'agua', 'marino', 'región', 'mamífero', 'área', 'chile', 'ave', 'delfín'], ['ruido', 'nivel', 'ambiental', 'ambiente', 'persona', 'ciudad', 'impacto', 'salud', 'lugar', 'generar'], ['proyecto', 'público', 'empresa', 'parque', 'año', 'vecino', 'transporte', 'servicio', 'sector', 'vehículo']]\n",
      "Epoch 221 - Learning Rate: 0.005 - KL theta: 3.96 - Rec loss: 1707.86 - NELBO: 1711.82\n",
      "Epoch 222 - Learning Rate: 0.005 - KL theta: 3.95 - Rec loss: 1708.17 - NELBO: 1712.12\n",
      "Epoch 223 - Learning Rate: 0.005 - KL theta: 4.01 - Rec loss: 1708.26 - NELBO: 1712.27\n",
      "Epoch 224 - Learning Rate: 0.005 - KL theta: 4.06 - Rec loss: 1708.01 - NELBO: 1712.07\n",
      "Epoch 225 - Learning Rate: 0.005 - KL theta: 4.06 - Rec loss: 1708.21 - NELBO: 1712.27\n",
      "Epoch 226 - Learning Rate: 0.005 - KL theta: 3.9 - Rec loss: 1707.83 - NELBO: 1711.73\n",
      "Epoch 227 - Learning Rate: 0.005 - KL theta: 3.61 - Rec loss: 1708.13 - NELBO: 1711.74\n",
      "Epoch 228 - Learning Rate: 0.005 - KL theta: 3.48 - Rec loss: 1708.04 - NELBO: 1711.52\n",
      "Epoch 229 - Learning Rate: 0.005 - KL theta: 3.47 - Rec loss: 1708.36 - NELBO: 1711.83\n",
      "Epoch 230 - Learning Rate: 0.005 - KL theta: 3.59 - Rec loss: 1708.18 - NELBO: 1711.77\n",
      "Topics: [['ballena', 'especie', 'agua', 'marino', 'región', 'mamífero', 'área', 'chile', 'población', 'ave'], ['ruido', 'nivel', 'ambiental', 'ambiente', 'persona', 'ciudad', 'impacto', 'salud', 'lugar', 'generar'], ['proyecto', 'público', 'empresa', 'parque', 'año', 'transporte', 'vecino', 'servicio', 'vehículo', 'sector']]\n",
      "Epoch 231 - Learning Rate: 0.005 - KL theta: 3.77 - Rec loss: 1708.07 - NELBO: 1711.84\n",
      "Epoch 232 - Learning Rate: 0.005 - KL theta: 3.94 - Rec loss: 1707.72 - NELBO: 1711.66\n",
      "Epoch 233 - Learning Rate: 0.005 - KL theta: 4.0 - Rec loss: 1707.98 - NELBO: 1711.98\n",
      "Epoch 234 - Learning Rate: 0.005 - KL theta: 4.17 - Rec loss: 1707.72 - NELBO: 1711.89\n",
      "Epoch 235 - Learning Rate: 0.005 - KL theta: 4.28 - Rec loss: 1707.47 - NELBO: 1711.75\n",
      "Epoch 236 - Learning Rate: 0.005 - KL theta: 4.25 - Rec loss: 1707.33 - NELBO: 1711.58\n",
      "Epoch 237 - Learning Rate: 0.005 - KL theta: 4.22 - Rec loss: 1707.3 - NELBO: 1711.52\n",
      "Epoch 238 - Learning Rate: 0.005 - KL theta: 4.1 - Rec loss: 1707.79 - NELBO: 1711.89\n",
      "Epoch 239 - Learning Rate: 0.005 - KL theta: 3.97 - Rec loss: 1707.45 - NELBO: 1711.42\n",
      "Epoch 240 - Learning Rate: 0.005 - KL theta: 3.84 - Rec loss: 1707.62 - NELBO: 1711.46\n",
      "Topics: [['ballena', 'especie', 'agua', 'marino', 'región', 'mamífero', 'área', 'chile', 'ave', 'delfín'], ['ruido', 'nivel', 'ambiental', 'ambiente', 'persona', 'ciudad', 'salud', 'impacto', 'lugar', 'generar'], ['proyecto', 'público', 'empresa', 'parque', 'año', 'vecino', 'transporte', 'servicio', 'vehículo', 'sector']]\n",
      "Epoch 241 - Learning Rate: 0.005 - KL theta: 3.74 - Rec loss: 1707.6 - NELBO: 1711.34\n",
      "Epoch 242 - Learning Rate: 0.005 - KL theta: 3.73 - Rec loss: 1707.81 - NELBO: 1711.54\n",
      "Epoch 243 - Learning Rate: 0.005 - KL theta: 3.87 - Rec loss: 1707.43 - NELBO: 1711.3\n",
      "Epoch 244 - Learning Rate: 0.005 - KL theta: 4.01 - Rec loss: 1707.4 - NELBO: 1711.41\n",
      "Epoch 245 - Learning Rate: 0.005 - KL theta: 4.09 - Rec loss: 1707.47 - NELBO: 1711.56\n",
      "Epoch 246 - Learning Rate: 0.005 - KL theta: 4.17 - Rec loss: 1707.0 - NELBO: 1711.17\n",
      "Epoch 247 - Learning Rate: 0.005 - KL theta: 4.01 - Rec loss: 1707.33 - NELBO: 1711.34\n",
      "Epoch 248 - Learning Rate: 0.005 - KL theta: 3.73 - Rec loss: 1707.27 - NELBO: 1711.0\n",
      "Epoch 249 - Learning Rate: 0.005 - KL theta: 3.51 - Rec loss: 1708.46 - NELBO: 1711.97\n",
      "Epoch 250 - Learning Rate: 0.005 - KL theta: 3.69 - Rec loss: 1707.29 - NELBO: 1710.98\n",
      "Topics: [['ballena', 'especie', 'agua', 'marino', 'región', 'mamífero', 'área', 'chile', 'ave', 'delfín'], ['ruido', 'nivel', 'ambiental', 'ambiente', 'persona', 'ciudad', 'salud', 'impacto', 'lugar', 'generar'], ['proyecto', 'público', 'empresa', 'parque', 'año', 'vecino', 'transporte', 'servicio', 'vehículo', 'sector']]\n",
      "Epoch 251 - Learning Rate: 0.005 - KL theta: 3.81 - Rec loss: 1707.15 - NELBO: 1710.96\n",
      "Epoch 252 - Learning Rate: 0.005 - KL theta: 3.7 - Rec loss: 1707.86 - NELBO: 1711.56\n",
      "Epoch 253 - Learning Rate: 0.005 - KL theta: 3.77 - Rec loss: 1707.4 - NELBO: 1711.17\n",
      "Epoch 254 - Learning Rate: 0.005 - KL theta: 3.91 - Rec loss: 1707.1 - NELBO: 1711.01\n",
      "Epoch 255 - Learning Rate: 0.005 - KL theta: 4.04 - Rec loss: 1706.97 - NELBO: 1711.01\n",
      "Epoch 256 - Learning Rate: 0.005 - KL theta: 4.09 - Rec loss: 1706.96 - NELBO: 1711.05\n",
      "Epoch 257 - Learning Rate: 0.005 - KL theta: 4.05 - Rec loss: 1707.25 - NELBO: 1711.3\n",
      "Epoch 258 - Learning Rate: 0.005 - KL theta: 4.01 - Rec loss: 1706.96 - NELBO: 1710.97\n",
      "Epoch 259 - Learning Rate: 0.005 - KL theta: 3.83 - Rec loss: 1707.28 - NELBO: 1711.11\n",
      "Epoch 260 - Learning Rate: 0.005 - KL theta: 3.67 - Rec loss: 1707.06 - NELBO: 1710.73\n",
      "Topics: [['ballena', 'especie', 'agua', 'marino', 'región', 'mamífero', 'área', 'chile', 'ave', 'delfín'], ['ruido', 'nivel', 'ambiental', 'persona', 'ambiente', 'ciudad', 'salud', 'impacto', 'lugar', 'generar'], ['proyecto', 'público', 'empresa', 'parque', 'año', 'vecino', 'transporte', 'servicio', 'vehículo', 'sector']]\n",
      "Epoch 261 - Learning Rate: 0.005 - KL theta: 3.57 - Rec loss: 1707.67 - NELBO: 1711.24\n",
      "Epoch 262 - Learning Rate: 0.005 - KL theta: 3.6 - Rec loss: 1707.39 - NELBO: 1710.99\n",
      "Epoch 263 - Learning Rate: 0.005 - KL theta: 3.79 - Rec loss: 1706.96 - NELBO: 1710.75\n",
      "Epoch 264 - Learning Rate: 0.005 - KL theta: 3.99 - Rec loss: 1707.07 - NELBO: 1711.06\n",
      "Epoch 265 - Learning Rate: 0.005 - KL theta: 4.14 - Rec loss: 1707.53 - NELBO: 1711.67\n",
      "Epoch 266 - Learning Rate: 0.005 - KL theta: 4.25 - Rec loss: 1706.82 - NELBO: 1711.07\n",
      "Epoch 267 - Learning Rate: 0.005 - KL theta: 4.31 - Rec loss: 1706.28 - NELBO: 1710.59\n",
      "Epoch 268 - Learning Rate: 0.005 - KL theta: 4.17 - Rec loss: 1706.53 - NELBO: 1710.7\n",
      "Epoch 269 - Learning Rate: 0.005 - KL theta: 3.94 - Rec loss: 1706.96 - NELBO: 1710.9\n",
      "Epoch 270 - Learning Rate: 0.005 - KL theta: 3.77 - Rec loss: 1707.03 - NELBO: 1710.8\n",
      "Topics: [['ballena', 'especie', 'agua', 'marino', 'región', 'mamífero', 'área', 'chile', 'ave', 'población'], ['ruido', 'nivel', 'ambiental', 'persona', 'ambiente', 'ciudad', 'salud', 'impacto', 'lugar', 'generar'], ['proyecto', 'público', 'empresa', 'parque', 'año', 'vecino', 'transporte', 'servicio', 'vehículo', 'sector']]\n",
      "Epoch 271 - Learning Rate: 0.005 - KL theta: 3.79 - Rec loss: 1706.8 - NELBO: 1710.59\n",
      "Epoch 272 - Learning Rate: 0.005 - KL theta: 3.86 - Rec loss: 1706.84 - NELBO: 1710.7\n",
      "Epoch 273 - Learning Rate: 0.005 - KL theta: 3.86 - Rec loss: 1707.11 - NELBO: 1710.97\n",
      "Epoch 274 - Learning Rate: 0.005 - KL theta: 3.71 - Rec loss: 1706.74 - NELBO: 1710.45\n",
      "Epoch 275 - Learning Rate: 0.005 - KL theta: 3.52 - Rec loss: 1707.32 - NELBO: 1710.84\n",
      "Epoch 276 - Learning Rate: 0.005 - KL theta: 3.47 - Rec loss: 1707.54 - NELBO: 1711.01\n",
      "Epoch 277 - Learning Rate: 0.005 - KL theta: 3.59 - Rec loss: 1707.05 - NELBO: 1710.64\n",
      "Epoch 278 - Learning Rate: 0.005 - KL theta: 3.81 - Rec loss: 1707.18 - NELBO: 1710.99\n",
      "Epoch 279 - Learning Rate: 0.005 - KL theta: 4.05 - Rec loss: 1706.89 - NELBO: 1710.94\n"
     ]
    },
    {
     "name": "stdout",
     "output_type": "stream",
     "text": [
      "Epoch 280 - Learning Rate: 0.005 - KL theta: 4.12 - Rec loss: 1706.27 - NELBO: 1710.39\n",
      "Topics: [['ballena', 'especie', 'agua', 'marino', 'región', 'mamífero', 'área', 'chile', 'ave', 'población'], ['ruido', 'nivel', 'ambiental', 'persona', 'ambiente', 'ciudad', 'salud', 'impacto', 'lugar', 'generar'], ['proyecto', 'público', 'empresa', 'parque', 'año', 'transporte', 'vecino', 'servicio', 'vehículo', 'sector']]\n",
      "Epoch 281 - Learning Rate: 0.005 - KL theta: 3.95 - Rec loss: 1706.9 - NELBO: 1710.85\n",
      "Epoch 282 - Learning Rate: 0.005 - KL theta: 3.92 - Rec loss: 1706.58 - NELBO: 1710.5\n",
      "Epoch 283 - Learning Rate: 0.005 - KL theta: 3.91 - Rec loss: 1706.44 - NELBO: 1710.35\n",
      "Epoch 284 - Learning Rate: 0.005 - KL theta: 3.94 - Rec loss: 1706.38 - NELBO: 1710.32\n",
      "Epoch 285 - Learning Rate: 0.005 - KL theta: 3.99 - Rec loss: 1706.61 - NELBO: 1710.6\n",
      "Epoch 286 - Learning Rate: 0.005 - KL theta: 3.92 - Rec loss: 1706.45 - NELBO: 1710.37\n",
      "Epoch 287 - Learning Rate: 0.005 - KL theta: 3.72 - Rec loss: 1706.87 - NELBO: 1710.59\n",
      "Epoch 288 - Learning Rate: 0.005 - KL theta: 3.69 - Rec loss: 1707.22 - NELBO: 1710.91\n",
      "Epoch 289 - Learning Rate: 0.005 - KL theta: 3.8 - Rec loss: 1706.51 - NELBO: 1710.31\n",
      "Epoch 290 - Learning Rate: 0.005 - KL theta: 3.96 - Rec loss: 1706.58 - NELBO: 1710.54\n",
      "Topics: [['ballena', 'especie', 'agua', 'marino', 'región', 'mamífero', 'área', 'ave', 'chile', 'delfín'], ['ruido', 'nivel', 'ambiental', 'persona', 'ciudad', 'ambiente', 'salud', 'impacto', 'lugar', 'generar'], ['proyecto', 'público', 'empresa', 'parque', 'año', 'vecino', 'transporte', 'servicio', 'vehículo', 'sector']]\n",
      "Epoch 291 - Learning Rate: 0.005 - KL theta: 4.03 - Rec loss: 1706.48 - NELBO: 1710.51\n",
      "Epoch 292 - Learning Rate: 0.005 - KL theta: 3.94 - Rec loss: 1706.9 - NELBO: 1710.84\n",
      "Epoch 293 - Learning Rate: 0.005 - KL theta: 3.85 - Rec loss: 1706.67 - NELBO: 1710.52\n",
      "Epoch 294 - Learning Rate: 0.005 - KL theta: 3.84 - Rec loss: 1706.5 - NELBO: 1710.34\n",
      "Epoch 295 - Learning Rate: 0.005 - KL theta: 3.87 - Rec loss: 1706.8 - NELBO: 1710.67\n",
      "Epoch 296 - Learning Rate: 0.005 - KL theta: 3.95 - Rec loss: 1706.1 - NELBO: 1710.05\n",
      "Epoch 297 - Learning Rate: 0.005 - KL theta: 3.97 - Rec loss: 1706.32 - NELBO: 1710.29\n",
      "Epoch 298 - Learning Rate: 0.005 - KL theta: 3.93 - Rec loss: 1706.46 - NELBO: 1710.39\n",
      "Epoch 299 - Learning Rate: 0.005 - KL theta: 3.78 - Rec loss: 1706.55 - NELBO: 1710.33\n"
     ]
    },
    {
     "data": {
      "text/plain": [
       "<embedded_topic_model.models.etm.ETM at 0x7fd8c20a6990>"
      ]
     },
     "execution_count": 57,
     "metadata": {},
     "output_type": "execute_result"
    }
   ],
   "source": [
    "from embedded_topic_model.models.etm import ETM\n",
    "# Training an ETM instance\n",
    "\n",
    "true_k=3\n",
    "etm_instance = ETM(\n",
    "    diccionario,\n",
    "    embeddings=model, # You can pass here the path to a word2vec file or\n",
    "                                   # a KeyedVectors instance\n",
    "    num_topics=true_k,\n",
    "    epochs=300,\n",
    "    debug_mode=True,\n",
    "    train_embeddings=False, # Optional. If True, ETM will learn word embeddings jointly with\n",
    "                            # topic embeddings. By default, is False. If 'embeddings' argument\n",
    "                            # is being passed, this argument must not be True\n",
    ")\n",
    "\n",
    "etm_instance.fit(td)"
   ]
  },
  {
   "cell_type": "code",
   "execution_count": 60,
   "metadata": {},
   "outputs": [],
   "source": [
    "## extrayendo resultados del análisis de tópicos\n",
    "topics = etm_instance.get_topics(20)\n",
    "dist = etm_instance.get_document_topic_dist()\n",
    "d_topic = etm_instance.get_topic_word_dist()\n",
    "\n",
    "##creando las entradas para visualización\n",
    "true_k=3\n",
    "nDoc = len(noticias)\n",
    "nVocab = len(diccionario)\n",
    "dist_doc = np.array(dist).reshape(nDoc,true_k)\n",
    "dist_topic= np.array(d_topic).reshape(true_k,nVocab)"
   ]
  },
  {
   "cell_type": "code",
   "execution_count": 61,
   "metadata": {},
   "outputs": [
    {
     "data": {
      "image/png": "[encoded data removed]",
      "text/plain": [
       "<Figure size 432x288 with 1 Axes>"
      ]
     },
     "metadata": {
      "needs_background": "light"
     },
     "output_type": "display_data"
    },
    {
     "data": {
      "image/png": "[encoded data removed]",
      "text/plain": [
       "<Figure size 432x288 with 1 Axes>"
      ]
     },
     "metadata": {
      "needs_background": "light"
     },
     "output_type": "display_data"
    },
    {
     "name": "stdout",
     "output_type": "stream",
     "text": [
      "[0.011962982, 0.01092345, 0.009252143, 0.007455112, 0.0069499193, 0.0062935185, 0.0059089973, 0.005692062, 0.0056336075, 0.005283099, 0.005253847, 0.005229361, 0.0050471644, 0.005009583, 0.004640441]\n"
     ]
    },
    {
     "data": {
      "image/png": "[encoded data removed]",
      "text/plain": [
       "<Figure size 432x288 with 1 Axes>"
      ]
     },
     "metadata": {
      "needs_background": "light"
     },
     "output_type": "display_data"
    },
    {
     "name": "stdout",
     "output_type": "stream",
     "text": [
      "[0.031449847, 0.011978708, 0.011803053, 0.008188019, 0.0080342665, 0.007870421, 0.00677031, 0.00657051, 0.0063015865, 0.0056341044, 0.005216094, 0.005030401, 0.004687439, 0.004663519, 0.004585781]\n"
     ]
    },
    {
     "data": {
      "image/png": "[encoded data removed]",
      "text/plain": [
       "<Figure size 432x288 with 1 Axes>"
      ]
     },
     "metadata": {
      "needs_background": "light"
     },
     "output_type": "display_data"
    },
    {
     "name": "stdout",
     "output_type": "stream",
     "text": [
      "[0.0068700826, 0.006510831, 0.0059335353, 0.0049640746, 0.004726857, 0.004474035, 0.0044597876, 0.0042204573, 0.0041997493, 0.004078981, 0.0035647706, 0.0031625126, 0.0029043108, 0.0028947846, 0.0026419864]\n"
     ]
    },
    {
     "data": {
      "image/png": "[encoded data removed]",
      "text/plain": [
       "<Figure size 432x288 with 1 Axes>"
      ]
     },
     "metadata": {
      "needs_background": "light"
     },
     "output_type": "display_data"
    }
   ],
   "source": [
    "#Generando algunos gráficos de los resultados\n",
    "from matplotlib.pylab import hist, show\n",
    "import matplotlib.pyplot as plt\n",
    "import numpy as np\n",
    "\n",
    "dist_sum = sum(dist_doc)/nDoc\n",
    "w=np.arange(0,true_k)\n",
    "plt.bar(w,height=dist_sum,alpha=0.5,tick_label=w)\n",
    "show()\n",
    "\n",
    "#distribución de tópicos en el documento 100\n",
    "plt.bar(w,height=dist_doc[51],alpha=0.5,tick_label=w)\n",
    "show()\n",
    "\n",
    "#frecuencia de palabras por tópico\n",
    "n_top_words=15\n",
    "numo =np.arange(0,n_top_words)\n",
    "\n",
    "for idx,topic in enumerate(dist_topic):\n",
    "    d =[]\n",
    "    s = []\n",
    "    for i in topic.argsort()[:-n_top_words - 1:-1]:\n",
    "        s.append(diccionario[i])\n",
    "        d.append(topic[i])\n",
    "    print(d)\n",
    "    \n",
    "    plt.barh(numo,width=d,alpha=0.5,tick_label=s)\n",
    "    show()\n",
    "\n"
   ]
  },
  {
   "cell_type": "code",
   "execution_count": 64,
   "metadata": {},
   "outputs": [
    {
     "name": "stderr",
     "output_type": "stream",
     "text": [
      "/home/eliana/anaconda3/envs/etmEnv/lib/python3.7/site-packages/pyLDAvis/_prepare.py:247: FutureWarning: In a future version of pandas all arguments of DataFrame.drop except for the argument 'labels' will be keyword-only\n",
      "  by='saliency', ascending=False).head(R).drop('saliency', 1)\n"
     ]
    },
    {
     "data": {
      "text/html": [
       "\n",
       "<link rel=\"stylesheet\" type=\"text/css\" href=\"https://cdn.jsdelivr.net/gh/bmabey/pyLDAvis@3.3.1/pyLDAvis/js/ldavis.v1.0.0.css\">\n",
       "\n",
       "\n",
       "<div id=\"ldavis_el28931405661903931685143595576\"></div>\n",
       "<script type=\"text/javascript\">\n",
       "\n",
       "var ldavis_el28931405661903931685143595576_data = {\"mdsDat\": {\"x\": [-0.08535509626489507, -0.07333361066939091, 0.15868870693428594], \"y\": [0.10796783149267826, -0.11356183531296613, 0.005594003820287971], \"topics\": [1, 2, 3], \"cluster\": [1, 1, 1], \"Freq\": [43.93141243482644, 28.20065195793949, 27.867935607234067]}, \"tinfo\": {\"Term\": [\"ruido\", \"ballena\", \"especie\", \"ambiental\", \"nivel\", \"agua\", \"marino\", \"persona\", \"mam\\u00edfero\", \"ambiente\", \"salud\", \"ave\", \"cet\\u00e1ceo\", \"humedal\", \"ciudad\", \"impacto\", \"delf\\u00edn\", \"mar\", \"p\\u00fablico\", \"proyecto\", \"regi\\u00f3n\", \"chilo\\u00e9\", \"chile\", \"db\", \"lugar\", \"efecto\", \"empresa\", \"generar\", \"parque\", \"sonido\", \"co2\", \"lipiga\", \"conaf\", \"//www.24horas.cl\", \"pe\\u00f1alol\\u00e9n\", \"convertir \\u00e9l\", \"30%\", \"triciclo\", \"100%\", \"v-629\", \"vallesp\\u00edn\", \"alumbrado\", \"intendente\", \"entregar \\u00e9l\", \"bus\", \"car\", \"adjudicar\", \"junta\", \"di\\u00e9sel\", \"24horas\", \"concejal\", \"scooter\", \"cargador\", \"irac\\u00ed\", \"15%\", \"hassler\", \"presidenta\", \"alcaldesa\", \"decreto\", \"75%\", \"vecino\", \"lollapalooza\", \"veh\\u00edculo\", \"concejo\", \"parque\", \"p\\u00fablico\", \"transportista\", \"proyecto\", \"alcalde\", \"municipal\", \"empresa\", \"transporte\", \"ministerio\", \"el\\u00e9ctrico\", \"presidente\", \"servicio\", \"autoridad\", \"plan\", \"comisi\\u00f3n\", \"constructor\", \"iniciativa\", \"ente\", \"sector\", \"emprendimiento\", \"cami\\u00f3n\", \"chofer\", \"metropolitano\", \"a\\u00f1o\", \"municipalidad\", \"red\", \"santiago\", \"regional\", \"presentar\", \"jornada\", \"camino\", \"pa\\u00eds\", \"mes\", \"comunidad\", \"ruta\", \"carretera\", \"sur\", \"chile\", \"zona\", \"hacer yo\", \"videodurationmiddle\", \"\\u0093la\", \"\\u0093el\", \"\\u0093los\", \"chilo\\u00e9\", \"ballena\", \"cet\\u00e1ceo\", \"alimentar \\u00e9l\", \"autoplay\", \"salm\\u00f3n\", \"tibur\\u00f3n\", \"mam\\u00edfero\", \"lagos\", \"alga\", \"marino\", \"jorobada\", \"hacer \\u00e9l\", \"varamiento\", \"ping\\u00fcino\", \"lantau\", \"mar\", \"lago\", \"delfines\", \"fauna\", \"pesca\", \"avistamiento\", \"canton\\u00e9s\", \"australis\", \"-que\", \"humedal\", \"especie\", \"borealis\", \"agua\", \"ave\", \"oc\\u00e9ano\", \"marina\", \"embarcaci\\u00f3n\", \"delf\\u00edn\", \"estuario\", \"oceanogr\\u00e1fico\", \"austral\", \"biodiversidad\", \"r\\u00edo\", \"pez\", \"acu\\u00e1tico\", \"regi\\u00f3n\", \"isla\", \"ecosistema\", \"tierra\", \"\\u00e1rea\", \"chile\", \"peligro\", \"poblaci\\u00f3n\", \"zona\", \"sur\", \"proteger\", \"centro\", \"norte\", \"llanquihue\", \"etc.\", \"corregir \\u00e9l\", \"ruido\", \"chait\\u00e9n\", \"db\", \"21%\", \"irritabilidad\", \"agudo\", \"s.a\", \"psicosom\\u00e1tico\", \"nervioso\", \"insomnio\", \"sonido\", \"silencio\", \"medici\\u00f3n\", \"arterial\", \"o\\u00eddo\", \"covid-19\", \"23:00\", \"80%\", \"depresivo\", \"dormir\", \"auditivo\", \"efecto\", \"bocina\", \"mental\", \"nocturno\", \"ambiental\", \"persona\", \"salud\", \"comportamiento\", \"estr\\u00e9s\", \"estudio\", \"nivel\", \"medir\", \"causar\", \"afectar\", \"radio\", \"impacto\", \"ambiente\", \"trabajo\", \"calle\", \"fuente\", \"da\\u00f1o\", \"cambio\", \"sue\\u00f1o\", \"ciudad\", \"generar\", \"calidad\", \"producir\", \"lugar\", \"alto\", \"escuchar\", \"humano\", \"problema\", \"tipo\", \"punto\", \"vida\", \"poblaci\\u00f3n\"], \"Freq\": [180.0, 69.0, 66.0, 74.0, 81.0, 56.0, 43.0, 51.0, 36.0, 55.0, 43.0, 34.0, 28.0, 31.0, 60.0, 45.0, 32.0, 29.0, 61.0, 65.0, 52.0, 23.0, 52.0, 23.0, 52.0, 29.0, 56.0, 41.0, 46.0, 24.0, 4.6220952807400355, 4.27681736126016, 0.21465272455677417, 0.2361081017229767, 4.116078663186601, 4.586598684770631, 5.393559980949687, 9.289944530851136, 7.516309134026745, 1.9738005483540917, 4.192496407563196, 17.51863324817083, 7.126186719782716, 2.1942298984133872, 31.900520872308103, 5.2338503018257, 8.030918098875887, 12.180381928868597, 5.940203704289693, 0.4958425215015916, 6.0636927498133435, 8.238878895862081, 2.5591966929959766, 5.506101994205955, 1.6807351180912682, 1.3168750853477593, 8.780893987267945, 19.608226686655033, 18.06923521752339, 3.210145329537044, 39.9098751511514, 12.280621032193228, 37.58283695739062, 13.369268387350694, 44.42265273009953, 58.26431035416993, 7.556604693085196, 61.479191619059804, 18.008468145563324, 28.300782874045492, 53.09819038693041, 40.03737244816427, 25.99017981361648, 18.73512272977403, 19.214621078426806, 37.76814891967858, 23.539073865117686, 22.308849545922826, 15.15284706067642, 13.601214623755242, 22.99520179950012, 18.678906156190813, 36.5021019271352, 13.76536697694701, 18.028659940329824, 17.668028776841524, 21.44740519935173, 42.29983273593052, 18.39914426628338, 22.548121584659334, 23.642683129213633, 18.36950351998803, 20.703340375014218, 21.80612990404204, 20.49175470185993, 25.904930893704044, 20.820894916416137, 23.391730644551938, 19.514685191861712, 19.415159708360374, 20.466468599157807, 19.645143229805676, 19.59464186549338, 2.457047567424072, 3.766834943181421, 8.6404850707451, 8.943822291006262, 1.6127873815321063, 23.431084266419838, 68.72102344285659, 28.777414142181726, 2.0691868757605643, 4.358636168463574, 20.028102249392234, 15.357418461688018, 36.15294531398969, 7.753443450971007, 6.8936946375808414, 42.82568739015616, 13.119464512755997, 3.4577575532741656, 17.57363553473297, 11.39782021567055, 1.1727251517542452, 28.993298287944235, 13.068266760351294, 4.9800002538214665, 13.327191311359064, 13.692154687993146, 4.972095357764885, 2.546888729044085, 3.921261456221129, 0.19942448014391084, 30.18058217777012, 62.749460125230456, 6.175194055288757, 53.14868382769247, 32.362104778718674, 14.32338676930814, 19.933359858281193, 10.233891563768616, 30.34861898179105, 15.603882962501105, 20.815130432776495, 9.20831547865911, 17.3514932765981, 22.262733874936153, 12.079067708860823, 10.56001157653903, 39.923621860774766, 13.165432682049794, 17.794983324231552, 17.00452983078411, 33.94407373210717, 32.69789483903176, 16.88432699361189, 30.03992110446889, 26.656886402662785, 25.19966775002121, 16.407574924908072, 21.224862250814223, 16.167709596235447, 3.2889283248202448, 1.5687224517192306, 1.1414374450198872, 178.53129649887364, 4.522226882527281, 22.917485822613227, 3.4826512639772513, 2.560772541169817, 10.467953236933148, 2.920971050844569, 10.015131649132043, 3.983151864375852, 3.7320607918174655, 23.573849328318676, 10.642229205596283, 16.242527152292872, 4.884351783576949, 6.30128500341397, 1.1998489027379562, 2.9902980104279275, 4.154962845104706, 6.807918665615281, 9.173995819975197, 8.616638918120284, 26.473391505501837, 3.921005751680943, 8.319695104856194, 7.9025259658665155, 67.00237418971027, 46.48091215101246, 38.433008069670564, 15.380850638156568, 13.056701408593051, 26.032096544925867, 67.99951401664688, 18.52438300442523, 17.207141033881083, 19.72836637921784, 11.90952245816484, 37.298804339913055, 44.67800543707526, 21.39509737901609, 21.30145427170031, 28.55606972399741, 23.00914900932549, 20.057885701930882, 11.472849515179322, 45.608108165874164, 31.983111388860983, 26.609178637092437, 20.6410476570989, 35.77220625204209, 29.610193727769765, 16.082825011757013, 15.423601327022185, 20.850467216474424, 21.693238000094922, 19.13109253333972, 17.55792930342441, 18.81594679978771], \"Total\": [180.0, 69.0, 66.0, 74.0, 81.0, 56.0, 43.0, 51.0, 36.0, 55.0, 43.0, 34.0, 28.0, 31.0, 60.0, 45.0, 32.0, 29.0, 61.0, 65.0, 52.0, 23.0, 52.0, 23.0, 52.0, 29.0, 56.0, 41.0, 46.0, 24.0, 4.628076399921404, 4.283878394594691, 0.21575239024618192, 0.23740956362660504, 4.142799721315253, 4.620286507527925, 5.442808339833261, 9.375347213015466, 7.595956102275803, 1.9959492022994239, 4.239932969560644, 17.735494298578214, 7.224972876277834, 2.2255936609597193, 32.40022174927345, 5.3212332500103, 8.168352663530914, 12.397767489390583, 6.0535354534385615, 0.5053250484784666, 6.1950052392634065, 8.417704474747953, 2.6151418785551432, 5.6301397005128955, 1.7237798082407374, 1.350923318875881, 9.015034912928087, 20.139355045009964, 18.56606317407017, 3.299489913307403, 41.225395946640226, 12.657176947225985, 39.205819499795886, 13.809088007243478, 46.473070238147564, 61.205759658684144, 7.786592222550131, 65.22347613711923, 18.807859969737926, 29.853257710517315, 56.91381712644017, 42.90988728826157, 27.504321892065153, 19.697389446321754, 20.223879519005557, 40.86456069538605, 25.012602824720553, 23.694660539459427, 15.950022500017548, 14.29635802595793, 24.863490910426442, 20.063433721910553, 41.101304915319574, 14.55918041925197, 19.50012165518722, 19.081326030730757, 24.38601929442913, 55.04452030524059, 20.43777695378993, 26.29004900318425, 28.77511545224002, 21.072188281284525, 25.279726096517525, 27.536373545743785, 25.003873290666213, 41.79093969491916, 26.66844541576495, 38.241906742090805, 23.910068066438935, 24.356667601942085, 46.65002455297749, 52.356871417046804, 48.20352115314496, 2.4575116237524295, 3.7692336895180776, 8.652122686715163, 8.96919912744447, 1.6195967158288, 23.551983488183104, 69.14053318728284, 28.984644232941065, 2.0853808241155702, 4.395712644157841, 20.21788457057592, 15.540728800804509, 36.59354986498091, 7.849404394852905, 7.023426459205292, 43.66716869983952, 13.409595456502757, 3.5419255771812255, 18.01301865013008, 11.696343360595309, 1.2054176080596355, 29.887221152518528, 13.484189669222742, 5.144032488723092, 13.78613814528108, 14.178981714349852, 5.149482506517359, 2.638792089504866, 4.064308864562744, 0.20671503810155983, 31.517281217173146, 66.12775548334314, 6.405988127178817, 56.371869790838566, 34.55716996663228, 15.052573876700286, 21.09693218623384, 10.7171603869272, 32.57341514384755, 16.49760602260193, 22.448835887646513, 9.624626345864204, 18.84628061476085, 24.596806150579976, 12.939079019077449, 11.188700475002308, 52.92049103469647, 14.517439715411113, 21.338026938902885, 20.695636658376753, 53.199355462405705, 52.356871417046804, 21.133133962808614, 53.83025333079853, 48.20352115314496, 46.65002455297749, 20.6536326427285, 42.51796030702469, 31.742407695192863, 3.2936302531757726, 1.5718967063713072, 1.1479134157951298, 180.17619626548827, 4.568877115329709, 23.204490001034944, 3.544142101559552, 2.629001258454608, 10.778123906502358, 3.029085961371612, 10.42034607440174, 4.1635520349745025, 3.9150568646697734, 24.780648730095105, 11.25355917802697, 17.176881834731788, 5.16552706230178, 6.739734807954411, 1.2865078586134062, 3.210216401543243, 4.465606373129621, 7.3259070313532835, 9.888235277995406, 9.35725758797233, 29.08131805870488, 4.31131341255044, 9.231840673220391, 8.775383520438377, 74.42113855355797, 51.99473532806861, 43.84362511657174, 17.223008609455327, 14.693605402523115, 29.96358279439893, 81.65209021026811, 21.137640379888076, 19.751438280373176, 22.900161364284763, 13.417248104760716, 45.300423277731426, 55.218437563640876, 25.138596055534883, 25.092929954951153, 34.48477946715911, 27.339055381201213, 23.84939342086706, 12.934057452192008, 60.83061011620019, 41.19361208796346, 35.74058228595038, 26.281321469783833, 52.0926114329666, 41.742002419244386, 19.60929801235402, 19.202295011155147, 30.430046062835448, 37.8015192321819, 29.574798500220393, 33.76759732491013, 53.83025333079853], \"Category\": [\"Default\", \"Default\", \"Default\", \"Default\", \"Default\", \"Default\", \"Default\", \"Default\", \"Default\", \"Default\", \"Default\", \"Default\", \"Default\", \"Default\", \"Default\", \"Default\", \"Default\", \"Default\", \"Default\", \"Default\", \"Default\", \"Default\", \"Default\", \"Default\", \"Default\", \"Default\", \"Default\", \"Default\", \"Default\", \"Default\", \"Topic1\", \"Topic1\", \"Topic1\", \"Topic1\", \"Topic1\", \"Topic1\", \"Topic1\", \"Topic1\", \"Topic1\", \"Topic1\", \"Topic1\", \"Topic1\", \"Topic1\", \"Topic1\", \"Topic1\", \"Topic1\", \"Topic1\", \"Topic1\", \"Topic1\", \"Topic1\", \"Topic1\", \"Topic1\", \"Topic1\", \"Topic1\", \"Topic1\", \"Topic1\", \"Topic1\", \"Topic1\", \"Topic1\", \"Topic1\", \"Topic1\", \"Topic1\", \"Topic1\", \"Topic1\", \"Topic1\", \"Topic1\", \"Topic1\", \"Topic1\", \"Topic1\", \"Topic1\", \"Topic1\", \"Topic1\", \"Topic1\", \"Topic1\", \"Topic1\", \"Topic1\", \"Topic1\", \"Topic1\", \"Topic1\", \"Topic1\", \"Topic1\", \"Topic1\", \"Topic1\", \"Topic1\", \"Topic1\", \"Topic1\", \"Topic1\", \"Topic1\", \"Topic1\", \"Topic1\", \"Topic1\", \"Topic1\", \"Topic1\", \"Topic1\", \"Topic1\", \"Topic1\", \"Topic1\", \"Topic1\", \"Topic1\", \"Topic1\", \"Topic1\", \"Topic1\", \"Topic1\", \"Topic2\", \"Topic2\", \"Topic2\", \"Topic2\", \"Topic2\", \"Topic2\", \"Topic2\", \"Topic2\", \"Topic2\", \"Topic2\", \"Topic2\", \"Topic2\", \"Topic2\", \"Topic2\", \"Topic2\", \"Topic2\", \"Topic2\", \"Topic2\", \"Topic2\", \"Topic2\", \"Topic2\", \"Topic2\", \"Topic2\", \"Topic2\", \"Topic2\", \"Topic2\", \"Topic2\", \"Topic2\", \"Topic2\", \"Topic2\", \"Topic2\", \"Topic2\", \"Topic2\", \"Topic2\", \"Topic2\", \"Topic2\", \"Topic2\", \"Topic2\", \"Topic2\", \"Topic2\", \"Topic2\", \"Topic2\", \"Topic2\", \"Topic2\", \"Topic2\", \"Topic2\", \"Topic2\", \"Topic2\", \"Topic2\", \"Topic2\", \"Topic2\", \"Topic2\", \"Topic2\", \"Topic2\", \"Topic2\", \"Topic2\", \"Topic2\", \"Topic2\", \"Topic2\", \"Topic3\", \"Topic3\", \"Topic3\", \"Topic3\", \"Topic3\", \"Topic3\", \"Topic3\", \"Topic3\", \"Topic3\", \"Topic3\", \"Topic3\", \"Topic3\", \"Topic3\", \"Topic3\", \"Topic3\", \"Topic3\", \"Topic3\", \"Topic3\", \"Topic3\", \"Topic3\", \"Topic3\", \"Topic3\", \"Topic3\", \"Topic3\", \"Topic3\", \"Topic3\", \"Topic3\", \"Topic3\", \"Topic3\", \"Topic3\", \"Topic3\", \"Topic3\", \"Topic3\", \"Topic3\", \"Topic3\", \"Topic3\", \"Topic3\", \"Topic3\", \"Topic3\", \"Topic3\", \"Topic3\", \"Topic3\", \"Topic3\", \"Topic3\", \"Topic3\", \"Topic3\", \"Topic3\", \"Topic3\", \"Topic3\", \"Topic3\", \"Topic3\", \"Topic3\", \"Topic3\", \"Topic3\", \"Topic3\", \"Topic3\", \"Topic3\", \"Topic3\", \"Topic3\", \"Topic3\"], \"logprob\": [30.0, 29.0, 28.0, 27.0, 26.0, 25.0, 24.0, 23.0, 22.0, 21.0, 20.0, 19.0, 18.0, 17.0, 16.0, 15.0, 14.0, 13.0, 12.0, 11.0, 10.0, 9.0, 8.0, 7.0, 6.0, 5.0, 4.0, 3.0, 2.0, 1.0, -7.5684, -7.6461, -10.638, -10.5427, -7.6844, -7.5761, -7.4141, -6.8703, -7.0822, -8.4193, -7.666, -6.236, -7.1355, -8.3134, -5.6367, -7.4441, -7.016, -6.5995, -7.3175, -9.8008, -7.297, -6.9904, -8.1596, -7.3934, -8.58, -8.824, -6.9267, -6.1233, -6.2051, -7.933, -5.4127, -6.5913, -5.4727, -6.5063, -5.3055, -5.0343, -7.0769, -4.9806, -6.2084, -5.7564, -5.1271, -5.4095, -5.8416, -6.1689, -6.1436, -5.4678, -5.9406, -5.9943, -6.3811, -6.4891, -5.964, -6.1719, -5.5019, -6.4771, -6.2073, -6.2275, -6.0337, -5.3545, -6.187, -5.9836, -5.9362, -6.1886, -6.069, -6.0171, -6.0793, -5.8448, -6.0633, -5.9469, -6.1281, -6.1332, -6.0805, -6.1214, -6.124, -7.757, -7.3298, -6.4995, -6.465, -8.178, -5.5019, -4.4259, -5.2964, -7.9288, -7.1838, -5.6589, -5.9244, -5.0682, -6.6079, -6.7254, -4.8989, -6.0819, -7.4154, -5.7896, -6.2226, -8.4967, -5.2889, -6.0858, -7.0506, -6.0662, -6.0392, -7.0522, -7.7211, -7.2896, -10.2683, -5.2488, -4.5168, -6.8355, -4.6829, -5.179, -5.9941, -5.6636, -6.3303, -5.2432, -5.9085, -5.6203, -6.4359, -5.8023, -5.5531, -6.1645, -6.2989, -4.969, -6.0784, -5.7771, -5.8225, -5.1313, -5.1687, -5.8296, -5.2535, -5.3729, -5.4292, -5.8583, -5.6008, -5.873, -7.4536, -8.1939, -8.5118, -3.4594, -7.1351, -5.5122, -7.3963, -7.7038, -6.2958, -7.5722, -6.34, -7.2621, -7.3272, -5.484, -6.2793, -5.8565, -7.0581, -6.8034, -8.4619, -7.5488, -7.2198, -6.726, -6.4278, -6.4904, -5.368, -7.2778, -6.5255, -6.5769, -4.4394, -4.8051, -4.9952, -5.911, -6.0748, -5.3848, -4.4246, -5.725, -5.7988, -5.6621, -6.1668, -5.0252, -4.8446, -5.581, -5.5853, -5.2923, -5.5082, -5.6455, -6.2041, -4.824, -5.1789, -5.3629, -5.6168, -5.067, -5.256, -5.8664, -5.9082, -5.6067, -5.5671, -5.6928, -5.7786, -5.7094], \"loglift\": [30.0, 29.0, 28.0, 27.0, 26.0, 25.0, 24.0, 23.0, 22.0, 21.0, 20.0, 19.0, 18.0, 17.0, 16.0, 15.0, 14.0, 13.0, 12.0, 11.0, 10.0, 9.0, 8.0, 7.0, 6.0, 5.0, 4.0, 3.0, 2.0, 1.0, 0.8212, 0.8209, 0.8174, 0.817, 0.8161, 0.8152, 0.8135, 0.8134, 0.812, 0.8114, 0.8113, 0.8102, 0.8088, 0.8083, 0.807, 0.806, 0.8056, 0.8049, 0.8036, 0.8036, 0.8011, 0.8011, 0.8009, 0.8003, 0.7973, 0.797, 0.7962, 0.7958, 0.7954, 0.7951, 0.7901, 0.7923, 0.7803, 0.7902, 0.7774, 0.7733, 0.7926, 0.7634, 0.7791, 0.7691, 0.7531, 0.7533, 0.7659, 0.7725, 0.7713, 0.7437, 0.7618, 0.7623, 0.7713, 0.7727, 0.7444, 0.751, 0.7039, 0.7665, 0.7441, 0.7456, 0.6941, 0.5592, 0.7175, 0.669, 0.6261, 0.6853, 0.6228, 0.5892, 0.6235, 0.3443, 0.575, 0.331, 0.6194, 0.5958, -0.0013, -0.1577, -0.0776, 1.2656, 1.2652, 1.2645, 1.263, 1.2616, 1.2607, 1.2597, 1.2586, 1.258, 1.2574, 1.2564, 1.254, 1.2537, 1.2535, 1.2472, 1.2464, 1.244, 1.2418, 1.2411, 1.24, 1.2383, 1.2355, 1.2345, 1.2334, 1.232, 1.2309, 1.2308, 1.2304, 1.23, 1.2299, 1.2225, 1.2134, 1.2291, 1.2069, 1.2002, 1.2162, 1.2091, 1.2197, 1.1951, 1.2101, 1.1903, 1.2216, 1.1832, 1.1661, 1.197, 1.208, 0.984, 1.1681, 1.0843, 1.0694, 0.8165, 0.7951, 1.0414, 0.6825, 0.6734, 0.65, 1.0357, 0.5711, 0.5912, 1.2763, 1.2757, 1.272, 1.2685, 1.2674, 1.2652, 1.2602, 1.2514, 1.2485, 1.2413, 1.238, 1.2334, 1.2298, 1.2278, 1.2218, 1.2218, 1.2217, 1.2104, 1.208, 1.2067, 1.2056, 1.2044, 1.2027, 1.1952, 1.1837, 1.1828, 1.1737, 1.1729, 1.1727, 1.1656, 1.146, 1.1646, 1.1596, 1.137, 1.0947, 1.1457, 1.1398, 1.1286, 1.1585, 1.0833, 1.0659, 1.1165, 1.1139, 1.089, 1.1053, 1.1046, 1.1578, 0.9897, 1.0246, 0.9827, 1.0361, 0.9018, 0.9343, 1.0794, 1.0586, 0.8996, 0.7223, 0.8421, 0.6237, 0.2266]}, \"token.table\": {\"Topic\": [1, 1, 3, 3, 1, 1, 3, 2, 1, 1, 2, 3, 1, 2, 3, 1, 2, 1, 2, 2, 1, 2, 3, 1, 1, 2, 3, 1, 2, 3, 3, 3, 2, 2, 2, 1, 2, 1, 2, 2, 1, 2, 3, 2, 1, 2, 3, 3, 2, 1, 1, 2, 3, 1, 3, 1, 2, 3, 1, 2, 3, 1, 2, 2, 1, 1, 1, 2, 3, 1, 2, 3, 1, 2, 3, 2, 3, 1, 2, 2, 1, 2, 1, 2, 3, 1, 1, 2, 2, 3, 1, 2, 3, 1, 1, 1, 1, 3, 3, 1, 2, 3, 3, 1, 2, 1, 2, 3, 1, 3, 1, 2, 3, 1, 2, 3, 1, 3, 2, 1, 1, 2, 3, 1, 2, 1, 1, 3, 1, 2, 3, 2, 3, 1, 2, 1, 2, 3, 3, 2, 1, 2, 3, 1, 2, 3, 2, 2, 1, 1, 2, 3, 1, 2, 1, 2, 3, 1, 3, 3, 1, 1, 3, 2, 3, 1, 3, 2, 1, 2, 2, 2, 1, 3, 1, 1, 2, 3, 2, 2, 1, 2, 2, 3, 2, 3, 1, 2, 3, 2, 3, 1, 2, 3, 1, 2, 3, 1, 2, 1, 3, 1, 2, 3, 3, 1, 2, 3, 2, 3, 1, 2, 3, 1, 2, 2, 3, 1, 2, 1, 2, 3, 1, 2, 3, 1, 2, 3, 2, 2, 1, 2, 1, 2, 3, 1, 2, 3, 1, 2, 3, 1, 1, 2, 1, 2, 3, 1, 2, 3, 1, 2, 3, 1, 2, 3, 3, 1, 2, 3, 1, 2, 3, 1, 2, 3, 1, 2, 3, 1, 2, 3, 1, 2, 3, 1, 2, 3, 1, 2, 3, 1, 2, 3, 2, 1, 2, 3, 1, 2, 3, 1, 1, 2, 3, 1, 2, 3, 3, 1, 2, 3, 1, 2, 3, 1, 2, 3, 2, 1, 2, 3, 1, 2, 3, 1, 2, 3, 1, 2, 3, 1, 1, 1, 1, 2, 1, 2, 3, 1, 2, 3, 1, 2, 3, 2, 1, 2, 3, 2, 2, 2, 1, 2, 3], \"Freq\": [1.05319197376656, 1.1602409950730126, 0.8464671884007954, 0.9345164390032441, 0.918643407559924, 0.9092314505646739, 0.895735016876709, 0.9831347281640168, 0.9793896431183052, 0.043667814566564864, 0.08733562913312973, 0.8733562913312972, 0.05321803252457582, 0.9401852412675061, 0.9278052550469453, 0.9570466830868699, 0.053169260171492774, 0.9930804613802917, 0.9966645255928339, 0.9590574425887985, 0.023956684922689965, 0.2635235341495896, 0.7187005476806989, 1.0149139176483506, 0.05374816991171611, 0.040311127433787085, 0.9002818460212448, 0.16298903766748624, 0.036219786148330275, 0.8149451883374312, 0.967955436046439, 0.9618202678922142, 0.9351012368254055, 0.984177170902669, 0.9099775903950941, 0.9595162953725163, 0.03997984564052151, 0.057875109620699854, 0.9260017539311977, 0.9709713536596797, 0.7630187304221331, 0.16350401366188566, 0.07266845051639363, 0.9979674269085809, 0.05306086757600205, 0.9020347487920348, 0.05306086757600205, 0.9277915143807008, 0.9366236528824768, 0.9876475614157665, 0.16787639193999923, 0.08393819596999962, 0.7554437637299966, 0.11955558818303966, 0.8368891172812777, 0.08385957515590721, 0.08385957515590721, 0.8385957515590721, 0.7998760738987536, 0.07998760738987536, 0.11998141108481304, 0.9230711642874202, 0.05128173134930112, 1.1368838082893107, 0.9396318043360197, 1.1471652932488272, 0.7800738717838819, 0.04105651956757273, 0.16422607827029093, 0.05062922435343308, 0.10125844870686616, 0.8606968140083624, 0.4233505057632338, 0.4939089233904394, 0.07055841762720563, 1.0005297897374736, 1.094360796709495, 0.38199379486773966, 0.6302897615317705, 0.9765631846481188, 0.9433306663808759, 0.052407259243382, 0.11507364444690626, 0.13151273651075002, 0.7561982349368126, 1.080362459030476, 0.9404375448362845, 0.06269583632241897, 0.11612372990988416, 0.8709279743241312, 0.6014344461199457, 0.1568959424660728, 0.23534391369910918, 0.9685221833183482, 0.9414090194211902, 0.9792703830290321, 1.082183971027208, 0.8711458427440069, 0.7772980112828821, 0.036577708558563314, 0.14631083423425326, 0.8412872968469562, 0.9911874813440923, 0.9695108667484904, 0.9720000818348553, 0.061399763923057946, 0.9209964588458692, 0.9555130811845588, 0.991156332716586, 0.9101725178432978, 0.09372937834067764, 0.8435644050660988, 0.04686468917033882, 0.034386336890967394, 0.034386336890967394, 0.8940447591651524, 0.9645948287603167, 0.05076814888212193, 0.9330829845747207, 0.9615925894762214, 0.9312325666411514, 0.0175704257856821, 0.0527112773570463, 0.9469964246075578, 0.049841917084608306, 0.8986366357359057, 0.1529886484518709, 0.8159394584099781, 0.04536672956873105, 0.952701320943352, 0.015122243189577018, 0.136113632101252, 0.8847386086581379, 0.0606148551874731, 0.9698376829995696, 0.033373846073805606, 0.10012153822141683, 0.8677199979189457, 1.272348235029362, 0.9429761883279713, 0.08699490170314095, 0.0579966011354273, 0.8409507164636959, 0.16992925954277655, 0.04855121701222187, 0.7768194721955499, 0.8138313490237556, 0.8469969045446442, 0.7402344648489092, 0.052077108461205925, 0.15623132538361778, 0.7811566269180888, 0.03172862510282517, 0.951858753084755, 0.02207484892291449, 0.1545239424604014, 0.8167694101478361, 0.925051115423016, 0.08043922742808834, 1.021696526580947, 0.9688617687387451, 1.0656929169010514, 1.1411177496976452, 0.8954747017960569, 0.06888266936892745, 0.798943258212753, 0.18157801323017114, 0.9694550474821274, 0.9679162002569436, 0.964092045491774, 1.0191856091967748, 0.8295880144058151, 0.9337333209661407, 0.9108490538995233, 0.9480787106029979, 0.05758974099158834, 0.24955554429688281, 0.6910768918990601, 0.9837799320598596, 0.9703143645241918, 0.04740025664264682, 0.9480051328529363, 0.9847215031405969, 0.02290050007303714, 0.058217784206793126, 0.93148454730869, 0.0473089702553306, 0.0946179405106612, 0.8988704348512814, 0.10832076022507489, 0.8665660818005991, 0.7874474748192832, 0.18748749400459125, 0.03749749880091825, 0.8611491587229799, 0.04100710279633238, 0.08201420559266476, 0.9453059814392609, 0.036357922363048495, 0.9379210896014069, 0.03349718177147881, 0.8807220100649022, 0.04892900055916123, 0.04892900055916123, 0.960718147965814, 0.024494167814316296, 0.14696500688589778, 0.832801705686754, 0.11395513343330717, 0.9116410674664573, 0.4725539456249764, 0.5040575419999748, 0.03150359637499842, 0.08909147939829656, 0.935460533682114, 0.9300734953821052, 0.8902427426252206, 0.9467848750798148, 0.04303567613999158, 0.6221444214895464, 0.26321494755326963, 0.11964315797875892, 0.04731905839237386, 0.8044239926703556, 0.1419571751771216, 0.09616358210983761, 0.019232716421967524, 0.884704955410506, 0.9873769698025131, 0.9274230401025556, 0.9655306239931104, 0.9404648667427743, 0.9284792227076958, 0.04220360103216799, 0.04220360103216799, 0.09288457123309304, 0.5573074273985583, 0.35296137068575356, 0.8307052030477858, 0.1186721718639694, 0.07911478124264627, 0.9983322401883851, 0.9394834449119712, 0.049446497100630066, 0.19717354313596872, 0.13144902875731249, 0.6901074009758905, 0.1141495112203228, 0.1141495112203228, 0.7990465785422596, 0.1936705309517682, 0.7746821238070728, 0.04841763273794205, 0.9352460741552593, 0.030663805710008502, 0.030663805710008502, 0.9596610255167678, 0.2705005750061284, 0.10143771562729816, 0.642438865639555, 0.9476232355163768, 0.016338331646834084, 0.03267666329366817, 0.07453093154364339, 0.07453093154364339, 0.8943711785237207, 0.8748557295277098, 0.11411161689491868, 0.03803720563163956, 0.8542064905516662, 0.04745591614175923, 0.09491183228351846, 0.17006644919638586, 0.7558508853172705, 0.07558508853172705, 0.005550122717245665, 0.005550122717245665, 0.993471966386974, 0.8364677149569786, 0.16729354299139573, 0.04182338574784893, 0.08131136976712082, 0.894425067438329, 0.9903977761798344, 0.9892231766476194, 0.09123333185531014, 0.04561666592765507, 0.8667166526254464, 0.8340539950164372, 0.13900899916940618, 0.034752249792351544, 0.9503778641788846, 0.9002147273968689, 0.09732051106993178, 0.024330127767482945, 0.9299011014277346, 0.04894216323303867, 0.024471081616519334, 0.9774685347083744, 0.04035406864815206, 0.04035406864815206, 0.9684976475556494, 0.07731525885796374, 0.07731525885796374, 0.8504678474376011, 0.42872431883261414, 0.5359053985407677, 0.021436215941630705, 0.965205698668616, 0.1449580918683998, 0.8214291872542655, 0.04831936395613327, 0.34390152205662133, 0.07936188970537415, 0.5819871911727438, 0.07955893780152654, 0.03977946890076327, 0.8353688469160286, 0.9321860887512142, 0.04660930443756071, 0.023304652218780354, 1.0274070827584674, 0.9599644467039701, 1.0020295094163265, 0.9434111408639777, 0.9992772643840023, 0.9702757021854609, 0.024256892554636523, 0.024256892554636523, 0.9692438644267553, 0.025506417484914612, 0.025506417484914612, 0.1480709436294875, 0.3257560759848725, 0.533055397066155, 1.061223667591549, 0.4149074491147444, 0.560125056304905, 0.04149074491147444, 1.0034340716621268, 1.0402071637078127, 1.234875312139995, 0.3195527436796365, 0.639105487359273, 0.03759444043289841], \"Term\": [\"100%\", \"15%\", \"21%\", \"23:00\", \"30%\", \"75%\", \"80%\", \"acu\\u00e1tico\", \"adjudicar\", \"afectar\", \"afectar\", \"afectar\", \"agua\", \"agua\", \"agudo\", \"alcalde\", \"alcalde\", \"alcaldesa\", \"alga\", \"alimentar \\u00e9l\", \"alto\", \"alto\", \"alto\", \"alumbrado\", \"ambiental\", \"ambiental\", \"ambiental\", \"ambiente\", \"ambiente\", \"ambiente\", \"arterial\", \"auditivo\", \"austral\", \"australis\", \"autoplay\", \"autoridad\", \"autoridad\", \"ave\", \"ave\", \"avistamiento\", \"a\\u00f1o\", \"a\\u00f1o\", \"a\\u00f1o\", \"ballena\", \"biodiversidad\", \"biodiversidad\", \"biodiversidad\", \"bocina\", \"borealis\", \"bus\", \"calidad\", \"calidad\", \"calidad\", \"calle\", \"calle\", \"cambio\", \"cambio\", \"cambio\", \"camino\", \"camino\", \"camino\", \"cami\\u00f3n\", \"cami\\u00f3n\", \"canton\\u00e9s\", \"car\", \"cargador\", \"carretera\", \"carretera\", \"carretera\", \"causar\", \"causar\", \"causar\", \"centro\", \"centro\", \"centro\", \"cet\\u00e1ceo\", \"chait\\u00e9n\", \"chile\", \"chile\", \"chilo\\u00e9\", \"chofer\", \"chofer\", \"ciudad\", \"ciudad\", \"ciudad\", \"co2\", \"comisi\\u00f3n\", \"comisi\\u00f3n\", \"comportamiento\", \"comportamiento\", \"comunidad\", \"comunidad\", \"comunidad\", \"concejal\", \"concejo\", \"constructor\", \"convertir \\u00e9l\", \"corregir \\u00e9l\", \"covid-19\", \"da\\u00f1o\", \"da\\u00f1o\", \"da\\u00f1o\", \"db\", \"decreto\", \"delfines\", \"delf\\u00edn\", \"delf\\u00edn\", \"depresivo\", \"di\\u00e9sel\", \"dormir\", \"ecosistema\", \"ecosistema\", \"ecosistema\", \"efecto\", \"efecto\", \"efecto\", \"el\\u00e9ctrico\", \"el\\u00e9ctrico\", \"embarcaci\\u00f3n\", \"emprendimiento\", \"empresa\", \"empresa\", \"empresa\", \"ente\", \"ente\", \"entregar \\u00e9l\", \"escuchar\", \"escuchar\", \"especie\", \"especie\", \"especie\", \"estr\\u00e9s\", \"estr\\u00e9s\", \"estuario\", \"estuario\", \"estudio\", \"estudio\", \"estudio\", \"etc.\", \"fauna\", \"fuente\", \"fuente\", \"fuente\", \"generar\", \"generar\", \"generar\", \"hacer yo\", \"hacer \\u00e9l\", \"hassler\", \"humano\", \"humano\", \"humano\", \"humedal\", \"humedal\", \"impacto\", \"impacto\", \"impacto\", \"iniciativa\", \"iniciativa\", \"insomnio\", \"intendente\", \"irac\\u00ed\", \"irritabilidad\", \"isla\", \"isla\", \"jornada\", \"jornada\", \"jorobada\", \"junta\", \"lago\", \"lagos\", \"lantau\", \"lipiga\", \"llanquihue\", \"lollapalooza\", \"lugar\", \"lugar\", \"lugar\", \"mam\\u00edfero\", \"mar\", \"marina\", \"marina\", \"marino\", \"marino\", \"medici\\u00f3n\", \"medici\\u00f3n\", \"medir\", \"medir\", \"medir\", \"mental\", \"mental\", \"mes\", \"mes\", \"mes\", \"metropolitano\", \"metropolitano\", \"metropolitano\", \"ministerio\", \"ministerio\", \"municipal\", \"municipal\", \"municipalidad\", \"municipalidad\", \"municipalidad\", \"nervioso\", \"nivel\", \"nivel\", \"nivel\", \"nocturno\", \"nocturno\", \"norte\", \"norte\", \"norte\", \"oceanogr\\u00e1fico\", \"oceanogr\\u00e1fico\", \"oc\\u00e9ano\", \"o\\u00eddo\", \"parque\", \"parque\", \"pa\\u00eds\", \"pa\\u00eds\", \"pa\\u00eds\", \"peligro\", \"peligro\", \"peligro\", \"persona\", \"persona\", \"persona\", \"pesca\", \"pez\", \"pe\\u00f1alol\\u00e9n\", \"ping\\u00fcino\", \"plan\", \"plan\", \"plan\", \"poblaci\\u00f3n\", \"poblaci\\u00f3n\", \"poblaci\\u00f3n\", \"presentar\", \"presentar\", \"presentar\", \"presidenta\", \"presidente\", \"presidente\", \"problema\", \"problema\", \"problema\", \"producir\", \"producir\", \"producir\", \"proteger\", \"proteger\", \"proteger\", \"proyecto\", \"proyecto\", \"proyecto\", \"psicosom\\u00e1tico\", \"punto\", \"punto\", \"punto\", \"p\\u00fablico\", \"p\\u00fablico\", \"p\\u00fablico\", \"radio\", \"radio\", \"radio\", \"red\", \"red\", \"red\", \"regional\", \"regional\", \"regional\", \"regi\\u00f3n\", \"regi\\u00f3n\", \"regi\\u00f3n\", \"ruido\", \"ruido\", \"ruido\", \"ruta\", \"ruta\", \"ruta\", \"r\\u00edo\", \"r\\u00edo\", \"s.a\", \"salm\\u00f3n\", \"salud\", \"salud\", \"salud\", \"santiago\", \"santiago\", \"santiago\", \"scooter\", \"sector\", \"sector\", \"sector\", \"servicio\", \"servicio\", \"servicio\", \"silencio\", \"sonido\", \"sonido\", \"sonido\", \"sue\\u00f1o\", \"sue\\u00f1o\", \"sue\\u00f1o\", \"sur\", \"sur\", \"sur\", \"tibur\\u00f3n\", \"tierra\", \"tierra\", \"tierra\", \"tipo\", \"tipo\", \"tipo\", \"trabajo\", \"trabajo\", \"trabajo\", \"transporte\", \"transporte\", \"transporte\", \"transportista\", \"triciclo\", \"v-629\", \"vallesp\\u00edn\", \"varamiento\", \"vecino\", \"vecino\", \"vecino\", \"veh\\u00edculo\", \"veh\\u00edculo\", \"veh\\u00edculo\", \"vida\", \"vida\", \"vida\", \"videodurationmiddle\", \"zona\", \"zona\", \"zona\", \"\\u0093el\", \"\\u0093la\", \"\\u0093los\", \"\\u00e1rea\", \"\\u00e1rea\", \"\\u00e1rea\"]}, \"R\": 30, \"lambda.step\": 0.01, \"plot.opts\": {\"xlab\": \"PC1\", \"ylab\": \"PC2\"}, \"topic.order\": [3, 1, 2]};\n",
       "\n",
       "function LDAvis_load_lib(url, callback){\n",
       "  var s = document.createElement('script');\n",
       "  s.src = url;\n",
       "  s.async = true;\n",
       "  s.onreadystatechange = s.onload = callback;\n",
       "  s.onerror = function(){console.warn(\"failed to load library \" + url);};\n",
       "  document.getElementsByTagName(\"head\")[0].appendChild(s);\n",
       "}\n",
       "\n",
       "if(typeof(LDAvis) !== \"undefined\"){\n",
       "   // already loaded: just create the visualization\n",
       "   !function(LDAvis){\n",
       "       new LDAvis(\"#\" + \"ldavis_el28931405661903931685143595576\", ldavis_el28931405661903931685143595576_data);\n",
       "   }(LDAvis);\n",
       "}else if(typeof define === \"function\" && define.amd){\n",
       "   // require.js is available: use it to load d3/LDAvis\n",
       "   require.config({paths: {d3: \"https://d3js.org/d3.v5\"}});\n",
       "   require([\"d3\"], function(d3){\n",
       "      window.d3 = d3;\n",
       "      LDAvis_load_lib(\"https://cdn.jsdelivr.net/gh/bmabey/pyLDAvis@3.3.1/pyLDAvis/js/ldavis.v3.0.0.js\", function(){\n",
       "        new LDAvis(\"#\" + \"ldavis_el28931405661903931685143595576\", ldavis_el28931405661903931685143595576_data);\n",
       "      });\n",
       "    });\n",
       "}else{\n",
       "    // require.js not available: dynamically load d3 & LDAvis\n",
       "    LDAvis_load_lib(\"https://d3js.org/d3.v5.js\", function(){\n",
       "         LDAvis_load_lib(\"https://cdn.jsdelivr.net/gh/bmabey/pyLDAvis@3.3.1/pyLDAvis/js/ldavis.v3.0.0.js\", function(){\n",
       "                 new LDAvis(\"#\" + \"ldavis_el28931405661903931685143595576\", ldavis_el28931405661903931685143595576_data);\n",
       "            })\n",
       "         });\n",
       "}\n",
       "</script>"
      ],
      "text/plain": [
       "<IPython.core.display.HTML object>"
      ]
     },
     "execution_count": 64,
     "metadata": {},
     "output_type": "execute_result"
    }
   ],
   "source": [
    "import pyLDAvis\n",
    "prepared = pyLDAvis.prepare(doc_lengths = doc_l,\n",
    "                        vocab = diccionario,\n",
    "                        term_frequency = term_f,\n",
    "                        topic_term_dists = dist_topic,\n",
    "                        doc_topic_dists = dist_doc)\n",
    "pyLDAvis.display(prepared)"
   ]
  },
  {
   "cell_type": "code",
   "execution_count": 96,
   "metadata": {},
   "outputs": [
    {
     "name": "stdout",
     "output_type": "stream",
     "text": [
      "Topics before training: [['ruido\\x94', 'naomi', '10:00', '1.0}.200', '.css({visibility:\"visible', '0.0}).animate({opacity', '\\x93son', 'entregar él', 'v-629', 'casin'], ['http://estaticos.24horas.cl/skins/2017/06/16/player/css/jw24horas.css?v=v24-05-2017', 'chaitén', 'alimentar él', 'lipiga', 'w620h350', 'amigabl', '.storyvideobody', 'irarrázabal', 'minvu', 'brennar'], ['70%', 'decir él', 'ee.uu', 'sustentabl', 'alternates', 'u.', '.css({visibility:\"visible', 'aysén', '\\x93es', 'macer']]\n",
      "Epoch 1 - Learning Rate: 0.005 - KL theta: 0.0 - Rec loss: 1824.51 - NELBO: 1824.51\n",
      "Epoch 2 - Learning Rate: 0.005 - KL theta: 0.04 - Rec loss: 1820.77 - NELBO: 1820.81\n",
      "Epoch 3 - Learning Rate: 0.005 - KL theta: 0.15 - Rec loss: 1817.62 - NELBO: 1817.77\n",
      "Epoch 4 - Learning Rate: 0.005 - KL theta: 0.2 - Rec loss: 1815.05 - NELBO: 1815.25\n",
      "Epoch 5 - Learning Rate: 0.005 - KL theta: 0.15 - Rec loss: 1812.18 - NELBO: 1812.33\n",
      "Epoch 6 - Learning Rate: 0.005 - KL theta: 0.11 - Rec loss: 1809.68 - NELBO: 1809.79\n",
      "Epoch 7 - Learning Rate: 0.005 - KL theta: 0.12 - Rec loss: 1807.45 - NELBO: 1807.57\n",
      "Epoch 8 - Learning Rate: 0.005 - KL theta: 0.2 - Rec loss: 1805.02 - NELBO: 1805.22\n",
      "Epoch 9 - Learning Rate: 0.005 - KL theta: 0.35 - Rec loss: 1802.68 - NELBO: 1803.03\n",
      "Epoch 10 - Learning Rate: 0.005 - KL theta: 0.59 - Rec loss: 1800.63 - NELBO: 1801.22\n",
      "Topics: [['población', 'municipio', 'comuna', 'brennar', '.css({visibility:\"visible', 'región', 'área', 'kilómetro', 'vial', 'vialidad'], ['20%', 'comuna', 'brennar', 'población', 'lipigas', 'municipio', 'municipal', 'comunal', 'localidad', 'municipalidad'], ['avenida', 'kilómetro', 'humedal', 'habitacional', 'carretera', 'parque', 'municipio', 'autopista', 'vialidad', 'hidroeléctrico']]\n",
      "Epoch 11 - Learning Rate: 0.005 - KL theta: 0.66 - Rec loss: 1798.29 - NELBO: 1798.95\n",
      "Epoch 12 - Learning Rate: 0.005 - KL theta: 0.88 - Rec loss: 1796.51 - NELBO: 1797.39\n",
      "Epoch 13 - Learning Rate: 0.005 - KL theta: 1.42 - Rec loss: 1793.9 - NELBO: 1795.32\n",
      "Epoch 14 - Learning Rate: 0.005 - KL theta: 1.07 - Rec loss: 1792.26 - NELBO: 1793.33\n",
      "Epoch 15 - Learning Rate: 0.005 - KL theta: 0.93 - Rec loss: 1791.0 - NELBO: 1791.93\n",
      "Epoch 16 - Learning Rate: 0.005 - KL theta: 1.18 - Rec loss: 1788.06 - NELBO: 1789.24\n",
      "Epoch 17 - Learning Rate: 0.005 - KL theta: 1.53 - Rec loss: 1786.18 - NELBO: 1787.71\n",
      "Epoch 18 - Learning Rate: 0.005 - KL theta: 1.72 - Rec loss: 1784.0 - NELBO: 1785.72\n",
      "Epoch 19 - Learning Rate: 0.005 - KL theta: 1.8 - Rec loss: 1781.93 - NELBO: 1783.73\n",
      "Epoch 20 - Learning Rate: 0.005 - KL theta: 1.98 - Rec loss: 1779.4 - NELBO: 1781.38\n",
      "Topics: [['población', 'municipio', 'ballena', 'polución', 'área', 'marino', 'nivel', 'comuna', 'región', 'jorobada'], ['población', 'comuna', 'ruido', 'municipio', 'lipigas', '20%', 'municipal', 'localidad', 'nacional', 'amigabl'], ['municipio', 'parque', 'carretera', 'kilómetro', 'habitacional', 'hidroeléctrico', 'avenida', 'vehicular', 'megaproyecto', 'autopista']]\n",
      "Epoch 21 - Learning Rate: 0.005 - KL theta: 1.82 - Rec loss: 1778.24 - NELBO: 1780.06\n",
      "Epoch 22 - Learning Rate: 0.005 - KL theta: 2.02 - Rec loss: 1776.1 - NELBO: 1778.12\n",
      "Epoch 23 - Learning Rate: 0.005 - KL theta: 2.16 - Rec loss: 1774.45 - NELBO: 1776.61\n",
      "Epoch 24 - Learning Rate: 0.005 - KL theta: 2.4 - Rec loss: 1772.18 - NELBO: 1774.58\n",
      "Epoch 25 - Learning Rate: 0.005 - KL theta: 2.5 - Rec loss: 1770.74 - NELBO: 1773.24\n",
      "Epoch 26 - Learning Rate: 0.005 - KL theta: 2.65 - Rec loss: 1768.82 - NELBO: 1771.47\n",
      "Epoch 27 - Learning Rate: 0.005 - KL theta: 2.93 - Rec loss: 1766.8 - NELBO: 1769.73\n",
      "Epoch 28 - Learning Rate: 0.005 - KL theta: 2.94 - Rec loss: 1765.39 - NELBO: 1768.33\n",
      "Epoch 29 - Learning Rate: 0.005 - KL theta: 2.51 - Rec loss: 1764.08 - NELBO: 1766.59\n",
      "Epoch 30 - Learning Rate: 0.005 - KL theta: 2.15 - Rec loss: 1763.27 - NELBO: 1765.42\n",
      "Topics: [['ballena', 'cetáceo', 'marino', 'población', 'jorobada', 'chiloé', 'polución', 'mamífero', 'pingüino', 'ave'], ['ruido', 'población', 'comuna', 'municipio', 'amigabl', 'nacional', 'ambiente', 'lipigas', 'impacto', 'municipal'], ['municipio', 'parque', 'carretera', 'proyecto', 'municipal', 'megaproyecto', 'metropolitano', 'kilómetro', 'hidroeléctrico', 'área']]\n",
      "Epoch 31 - Learning Rate: 0.005 - KL theta: 2.47 - Rec loss: 1761.47 - NELBO: 1763.94\n",
      "Epoch 32 - Learning Rate: 0.005 - KL theta: 2.79 - Rec loss: 1759.89 - NELBO: 1762.68\n",
      "Epoch 33 - Learning Rate: 0.005 - KL theta: 3.04 - Rec loss: 1758.85 - NELBO: 1761.89\n",
      "Epoch 34 - Learning Rate: 0.005 - KL theta: 3.38 - Rec loss: 1756.82 - NELBO: 1760.2\n",
      "Epoch 35 - Learning Rate: 0.005 - KL theta: 3.77 - Rec loss: 1755.6 - NELBO: 1759.37\n",
      "Epoch 36 - Learning Rate: 0.005 - KL theta: 3.71 - Rec loss: 1754.88 - NELBO: 1758.59\n",
      "Epoch 37 - Learning Rate: 0.005 - KL theta: 3.48 - Rec loss: 1753.3 - NELBO: 1756.78\n",
      "Epoch 38 - Learning Rate: 0.005 - KL theta: 3.31 - Rec loss: 1752.67 - NELBO: 1755.98\n",
      "Epoch 39 - Learning Rate: 0.005 - KL theta: 3.53 - Rec loss: 1751.09 - NELBO: 1754.62\n",
      "Epoch 40 - Learning Rate: 0.005 - KL theta: 3.86 - Rec loss: 1749.53 - NELBO: 1753.39\n",
      "Topics: [['ballena', 'marino', 'cetáceo', 'jorobada', 'chiloé', 'mamífero', 'especie', 'población', 'ave', 'orca'], ['ruido', 'población', 'ambiente', 'comuna', 'impacto', 'polución', 'nivel', 'escuchar', 'ambiental', 'miedo'], ['proyecto', 'municipio', 'municipal', 'parque', 'carretera', 'megaproyecto', 'metropolitano', 'sector', 'iveco', 'empresa']]\n",
      "Epoch 41 - Learning Rate: 0.005 - KL theta: 3.71 - Rec loss: 1748.23 - NELBO: 1751.94\n",
      "Epoch 42 - Learning Rate: 0.005 - KL theta: 3.3 - Rec loss: 1747.58 - NELBO: 1750.88\n",
      "Epoch 43 - Learning Rate: 0.005 - KL theta: 3.01 - Rec loss: 1747.3 - NELBO: 1750.31\n",
      "Epoch 44 - Learning Rate: 0.005 - KL theta: 3.16 - Rec loss: 1745.88 - NELBO: 1749.04\n",
      "Epoch 45 - Learning Rate: 0.005 - KL theta: 3.67 - Rec loss: 1744.54 - NELBO: 1748.21\n",
      "Epoch 46 - Learning Rate: 0.005 - KL theta: 4.03 - Rec loss: 1743.33 - NELBO: 1747.36\n",
      "Epoch 47 - Learning Rate: 0.005 - KL theta: 3.78 - Rec loss: 1742.76 - NELBO: 1746.54\n",
      "Epoch 48 - Learning Rate: 0.005 - KL theta: 3.64 - Rec loss: 1741.59 - NELBO: 1745.23\n",
      "Epoch 49 - Learning Rate: 0.005 - KL theta: 3.56 - Rec loss: 1741.33 - NELBO: 1744.89\n",
      "Epoch 50 - Learning Rate: 0.005 - KL theta: 3.68 - Rec loss: 1739.98 - NELBO: 1743.66\n",
      "Topics: [['ballena', 'marino', 'cetáceo', 'especie', 'jorobada', 'población', 'marina', 'mamífero', 'chiloé', 'ave'], ['ruido', 'db', 'ambiente', 'población', 'sonido', 'polución', 'impacto', 'nivel', 'ocde', 'escuchar'], ['proyecto', 'municipio', 'municipal', 'parque', 'carretera', 'empresa', 'megaproyecto', 'sector', 'metropolitano', 'iveco']]\n",
      "Epoch 51 - Learning Rate: 0.005 - KL theta: 4.02 - Rec loss: 1738.39 - NELBO: 1742.41\n",
      "Epoch 52 - Learning Rate: 0.005 - KL theta: 3.99 - Rec loss: 1738.07 - NELBO: 1742.06\n",
      "Epoch 53 - Learning Rate: 0.005 - KL theta: 3.72 - Rec loss: 1737.53 - NELBO: 1741.25\n",
      "Epoch 54 - Learning Rate: 0.005 - KL theta: 3.47 - Rec loss: 1737.25 - NELBO: 1740.72\n",
      "Epoch 55 - Learning Rate: 0.005 - KL theta: 3.44 - Rec loss: 1736.29 - NELBO: 1739.73\n",
      "Epoch 56 - Learning Rate: 0.005 - KL theta: 3.52 - Rec loss: 1736.07 - NELBO: 1739.59\n",
      "Epoch 57 - Learning Rate: 0.005 - KL theta: 3.76 - Rec loss: 1734.8 - NELBO: 1738.56\n",
      "Epoch 58 - Learning Rate: 0.005 - KL theta: 4.01 - Rec loss: 1734.71 - NELBO: 1738.72\n",
      "Epoch 59 - Learning Rate: 0.005 - KL theta: 4.27 - Rec loss: 1733.21 - NELBO: 1737.48\n",
      "Epoch 60 - Learning Rate: 0.005 - KL theta: 4.23 - Rec loss: 1732.75 - NELBO: 1736.98\n",
      "Topics: [['ballena', 'especie', 'marino', 'población', 'cetáceo', 'marina', 'región', 'mamífero', 'área', 'jorobada'], ['ruido', 'db', 'nivel', 'ambiente', 'sonido', 'población', 'impacto', 'polución', 'ocde', 'riesgo'], ['proyecto', 'municipio', 'parque', 'municipal', 'empresa', 'sector', 'carretera', 'metropolitano', 'comunidad', 'megaproyecto']]\n",
      "Epoch 61 - Learning Rate: 0.005 - KL theta: 3.95 - Rec loss: 1732.76 - NELBO: 1736.71\n",
      "Epoch 62 - Learning Rate: 0.005 - KL theta: 3.72 - Rec loss: 1731.65 - NELBO: 1735.37\n",
      "Epoch 63 - Learning Rate: 0.005 - KL theta: 3.53 - Rec loss: 1731.91 - NELBO: 1735.44\n",
      "Epoch 64 - Learning Rate: 0.005 - KL theta: 3.54 - Rec loss: 1731.5 - NELBO: 1735.04\n",
      "Epoch 65 - Learning Rate: 0.005 - KL theta: 3.65 - Rec loss: 1730.94 - NELBO: 1734.59\n",
      "Epoch 66 - Learning Rate: 0.005 - KL theta: 3.74 - Rec loss: 1729.79 - NELBO: 1733.53\n"
     ]
    },
    {
     "name": "stdout",
     "output_type": "stream",
     "text": [
      "Epoch 67 - Learning Rate: 0.005 - KL theta: 3.79 - Rec loss: 1729.77 - NELBO: 1733.56\n",
      "Epoch 68 - Learning Rate: 0.005 - KL theta: 4.07 - Rec loss: 1728.83 - NELBO: 1732.9\n",
      "Epoch 69 - Learning Rate: 0.005 - KL theta: 4.35 - Rec loss: 1728.14 - NELBO: 1732.49\n",
      "Epoch 70 - Learning Rate: 0.005 - KL theta: 4.5 - Rec loss: 1727.72 - NELBO: 1732.22\n",
      "Topics: [['ballena', 'especie', 'marino', 'área', 'región', 'población', 'mamífero', 'marina', 'ave', 'cetáceo'], ['ruido', 'nivel', 'db', 'ambiente', 'sonido', 'población', 'impacto', 'generar', 'polución', 'alto'], ['proyecto', 'municipio', 'parque', 'municipal', 'empresa', 'sector', 'carretera', 'metropolitano', 'comunidad', 'vehículo']]\n",
      "Epoch 71 - Learning Rate: 0.005 - KL theta: 4.38 - Rec loss: 1727.1 - NELBO: 1731.48\n",
      "Epoch 72 - Learning Rate: 0.005 - KL theta: 4.03 - Rec loss: 1727.23 - NELBO: 1731.26\n",
      "Epoch 73 - Learning Rate: 0.005 - KL theta: 3.63 - Rec loss: 1726.96 - NELBO: 1730.59\n",
      "Epoch 74 - Learning Rate: 0.005 - KL theta: 3.4 - Rec loss: 1726.42 - NELBO: 1729.82\n",
      "Epoch 75 - Learning Rate: 0.005 - KL theta: 3.27 - Rec loss: 1727.91 - NELBO: 1731.18\n",
      "Epoch 76 - Learning Rate: 0.005 - KL theta: 3.64 - Rec loss: 1726.33 - NELBO: 1729.97\n",
      "Epoch 77 - Learning Rate: 0.005 - KL theta: 4.13 - Rec loss: 1725.74 - NELBO: 1729.87\n",
      "Epoch 78 - Learning Rate: 0.005 - KL theta: 4.5 - Rec loss: 1724.55 - NELBO: 1729.05\n",
      "Epoch 79 - Learning Rate: 0.005 - KL theta: 4.53 - Rec loss: 1724.59 - NELBO: 1729.12\n",
      "Epoch 80 - Learning Rate: 0.005 - KL theta: 4.31 - Rec loss: 1724.63 - NELBO: 1728.94\n",
      "Topics: [['ballena', 'especie', 'marino', 'área', 'región', 'mamífero', 'población', 'delfín', 'marina', 'ave'], ['ruido', 'nivel', 'db', 'ambiente', 'sonido', 'población', 'impacto', 'generar', 'lugar', 'alto'], ['proyecto', 'parque', 'municipio', 'empresa', 'municipal', 'sector', 'metropolitano', 'público', 'carretera', 'vehículo']]\n",
      "Epoch 81 - Learning Rate: 0.005 - KL theta: 4.14 - Rec loss: 1723.84 - NELBO: 1727.98\n",
      "Epoch 82 - Learning Rate: 0.005 - KL theta: 3.96 - Rec loss: 1724.26 - NELBO: 1728.22\n",
      "Epoch 83 - Learning Rate: 0.005 - KL theta: 3.95 - Rec loss: 1723.83 - NELBO: 1727.78\n",
      "Epoch 84 - Learning Rate: 0.005 - KL theta: 4.01 - Rec loss: 1723.3 - NELBO: 1727.31\n",
      "Epoch 85 - Learning Rate: 0.005 - KL theta: 3.93 - Rec loss: 1723.05 - NELBO: 1726.98\n",
      "Epoch 86 - Learning Rate: 0.005 - KL theta: 3.88 - Rec loss: 1722.81 - NELBO: 1726.69\n",
      "Epoch 87 - Learning Rate: 0.005 - KL theta: 3.91 - Rec loss: 1722.52 - NELBO: 1726.43\n",
      "Epoch 88 - Learning Rate: 0.005 - KL theta: 3.98 - Rec loss: 1722.78 - NELBO: 1726.76\n",
      "Epoch 89 - Learning Rate: 0.005 - KL theta: 4.13 - Rec loss: 1722.05 - NELBO: 1726.18\n",
      "Epoch 90 - Learning Rate: 0.005 - KL theta: 4.38 - Rec loss: 1721.38 - NELBO: 1725.76\n",
      "Topics: [['ballena', 'especie', 'marino', 'área', 'región', 'mamífero', 'delfín', 'población', 'humedal', 'marina'], ['ruido', 'nivel', 'ambiente', 'db', 'sonido', 'impacto', 'población', 'lugar', 'generar', 'alto'], ['proyecto', 'empresa', 'parque', 'público', 'municipio', 'sector', 'municipal', 'metropolitano', 'servicio', 'vehículo']]\n",
      "Epoch 91 - Learning Rate: 0.005 - KL theta: 4.39 - Rec loss: 1720.82 - NELBO: 1725.21\n",
      "Epoch 92 - Learning Rate: 0.005 - KL theta: 4.18 - Rec loss: 1720.92 - NELBO: 1725.1\n",
      "Epoch 93 - Learning Rate: 0.005 - KL theta: 3.98 - Rec loss: 1720.96 - NELBO: 1724.94\n",
      "Epoch 94 - Learning Rate: 0.005 - KL theta: 3.83 - Rec loss: 1720.42 - NELBO: 1724.25\n",
      "Epoch 95 - Learning Rate: 0.005 - KL theta: 3.65 - Rec loss: 1720.5 - NELBO: 1724.15\n",
      "Epoch 96 - Learning Rate: 0.005 - KL theta: 3.59 - Rec loss: 1720.91 - NELBO: 1724.5\n",
      "Epoch 97 - Learning Rate: 0.005 - KL theta: 3.61 - Rec loss: 1720.28 - NELBO: 1723.89\n",
      "Epoch 98 - Learning Rate: 0.005 - KL theta: 3.69 - Rec loss: 1720.43 - NELBO: 1724.12\n",
      "Epoch 99 - Learning Rate: 0.005 - KL theta: 4.05 - Rec loss: 1719.0 - NELBO: 1723.05\n",
      "Epoch 100 - Learning Rate: 0.005 - KL theta: 4.24 - Rec loss: 1719.2 - NELBO: 1723.44\n",
      "Topics: [['ballena', 'especie', 'marino', 'área', 'región', 'mamífero', 'delfín', 'población', 'agua', 'humedal'], ['ruido', 'nivel', 'ambiente', 'impacto', 'sonido', 'población', 'db', 'ambiental', 'lugar', 'salud'], ['proyecto', 'empresa', 'parque', 'público', 'sector', 'municipio', 'municipal', 'vehículo', 'servicio', 'transporte']]\n",
      "Epoch 101 - Learning Rate: 0.005 - KL theta: 4.13 - Rec loss: 1718.79 - NELBO: 1722.92\n",
      "Epoch 102 - Learning Rate: 0.005 - KL theta: 3.94 - Rec loss: 1718.57 - NELBO: 1722.51\n",
      "Epoch 103 - Learning Rate: 0.005 - KL theta: 3.63 - Rec loss: 1719.07 - NELBO: 1722.7\n",
      "Epoch 104 - Learning Rate: 0.005 - KL theta: 3.47 - Rec loss: 1719.11 - NELBO: 1722.58\n",
      "Epoch 105 - Learning Rate: 0.005 - KL theta: 3.46 - Rec loss: 1719.18 - NELBO: 1722.64\n",
      "Epoch 106 - Learning Rate: 0.005 - KL theta: 3.76 - Rec loss: 1718.28 - NELBO: 1722.04\n",
      "Epoch 107 - Learning Rate: 0.005 - KL theta: 4.1 - Rec loss: 1718.18 - NELBO: 1722.28\n",
      "Epoch 108 - Learning Rate: 0.005 - KL theta: 4.25 - Rec loss: 1717.49 - NELBO: 1721.74\n",
      "Epoch 109 - Learning Rate: 0.005 - KL theta: 4.15 - Rec loss: 1717.73 - NELBO: 1721.88\n",
      "Epoch 110 - Learning Rate: 0.005 - KL theta: 4.11 - Rec loss: 1717.55 - NELBO: 1721.66\n",
      "Topics: [['ballena', 'especie', 'marino', 'área', 'región', 'mamífero', 'agua', 'delfín', 'humedal', 'población'], ['ruido', 'nivel', 'ambiente', 'impacto', 'ambiental', 'población', 'sonido', 'db', 'salud', 'lugar'], ['proyecto', 'empresa', 'público', 'parque', 'sector', 'servicio', 'transporte', 'vehículo', 'municipio', 'municipal']]\n",
      "Epoch 111 - Learning Rate: 0.005 - KL theta: 4.24 - Rec loss: 1716.99 - NELBO: 1721.23\n",
      "Epoch 112 - Learning Rate: 0.005 - KL theta: 4.35 - Rec loss: 1716.51 - NELBO: 1720.86\n",
      "Epoch 113 - Learning Rate: 0.005 - KL theta: 4.2 - Rec loss: 1717.07 - NELBO: 1721.27\n",
      "Epoch 114 - Learning Rate: 0.005 - KL theta: 4.05 - Rec loss: 1716.34 - NELBO: 1720.39\n",
      "Epoch 115 - Learning Rate: 0.005 - KL theta: 3.8 - Rec loss: 1716.19 - NELBO: 1719.99\n",
      "Epoch 116 - Learning Rate: 0.005 - KL theta: 3.58 - Rec loss: 1716.58 - NELBO: 1720.16\n",
      "Epoch 117 - Learning Rate: 0.005 - KL theta: 3.51 - Rec loss: 1716.97 - NELBO: 1720.48\n",
      "Epoch 118 - Learning Rate: 0.005 - KL theta: 3.74 - Rec loss: 1716.35 - NELBO: 1720.09\n",
      "Epoch 119 - Learning Rate: 0.005 - KL theta: 4.09 - Rec loss: 1716.44 - NELBO: 1720.53\n",
      "Epoch 120 - Learning Rate: 0.005 - KL theta: 4.11 - Rec loss: 1715.52 - NELBO: 1719.63\n",
      "Topics: [['ballena', 'especie', 'marino', 'área', 'agua', 'región', 'mamífero', 'delfín', 'humedal', 'población'], ['ruido', 'nivel', 'ambiente', 'impacto', 'ambiental', 'salud', 'población', 'lugar', 'sonido', 'ciudad'], ['proyecto', 'público', 'empresa', 'parque', 'sector', 'transporte', 'servicio', 'vehículo', 'municipio', 'municipal']]\n",
      "Epoch 121 - Learning Rate: 0.005 - KL theta: 3.96 - Rec loss: 1715.92 - NELBO: 1719.88\n",
      "Epoch 122 - Learning Rate: 0.005 - KL theta: 3.96 - Rec loss: 1715.49 - NELBO: 1719.45\n",
      "Epoch 123 - Learning Rate: 0.005 - KL theta: 4.07 - Rec loss: 1715.36 - NELBO: 1719.43\n",
      "Epoch 124 - Learning Rate: 0.005 - KL theta: 4.19 - Rec loss: 1715.28 - NELBO: 1719.47\n",
      "Epoch 125 - Learning Rate: 0.005 - KL theta: 4.1 - Rec loss: 1714.88 - NELBO: 1718.98\n",
      "Epoch 126 - Learning Rate: 0.005 - KL theta: 3.94 - Rec loss: 1714.83 - NELBO: 1718.77\n",
      "Epoch 127 - Learning Rate: 0.005 - KL theta: 3.89 - Rec loss: 1715.04 - NELBO: 1718.93\n",
      "Epoch 128 - Learning Rate: 0.005 - KL theta: 3.96 - Rec loss: 1714.72 - NELBO: 1718.68\n",
      "Epoch 129 - Learning Rate: 0.005 - KL theta: 4.17 - Rec loss: 1714.31 - NELBO: 1718.48\n",
      "Epoch 130 - Learning Rate: 0.005 - KL theta: 3.98 - Rec loss: 1714.56 - NELBO: 1718.54\n",
      "Topics: [['ballena', 'especie', 'marino', 'agua', 'área', 'mamífero', 'región', 'delfín', 'humedal', 'ave'], ['ruido', 'nivel', 'ambiente', 'ambiental', 'impacto', 'salud', 'lugar', 'persona', 'ciudad', 'generar'], ['proyecto', 'público', 'empresa', 'parque', 'sector', 'transporte', 'servicio', 'vehículo', 'año', 'vecino']]\n",
      "Epoch 131 - Learning Rate: 0.005 - KL theta: 3.64 - Rec loss: 1714.89 - NELBO: 1718.53\n",
      "Epoch 132 - Learning Rate: 0.005 - KL theta: 3.62 - Rec loss: 1714.1 - NELBO: 1717.72\n",
      "Epoch 133 - Learning Rate: 0.005 - KL theta: 3.61 - Rec loss: 1714.03 - NELBO: 1717.64\n",
      "Epoch 134 - Learning Rate: 0.005 - KL theta: 3.66 - Rec loss: 1714.01 - NELBO: 1717.67\n",
      "Epoch 135 - Learning Rate: 0.005 - KL theta: 3.69 - Rec loss: 1713.74 - NELBO: 1717.43\n"
     ]
    },
    {
     "name": "stdout",
     "output_type": "stream",
     "text": [
      "Epoch 136 - Learning Rate: 0.005 - KL theta: 3.77 - Rec loss: 1713.68 - NELBO: 1717.45\n",
      "Epoch 137 - Learning Rate: 0.005 - KL theta: 3.88 - Rec loss: 1713.74 - NELBO: 1717.62\n",
      "Epoch 138 - Learning Rate: 0.005 - KL theta: 3.96 - Rec loss: 1713.32 - NELBO: 1717.28\n",
      "Epoch 139 - Learning Rate: 0.005 - KL theta: 4.0 - Rec loss: 1713.18 - NELBO: 1717.18\n",
      "Epoch 140 - Learning Rate: 0.005 - KL theta: 3.95 - Rec loss: 1713.26 - NELBO: 1717.21\n",
      "Topics: [['ballena', 'especie', 'agua', 'marino', 'área', 'región', 'mamífero', 'delfín', 'humedal', 'población'], ['ruido', 'nivel', 'ambiente', 'ambiental', 'impacto', 'persona', 'salud', 'ciudad', 'lugar', 'generar'], ['proyecto', 'público', 'empresa', 'parque', 'sector', 'transporte', 'servicio', 'vehículo', 'año', 'vecino']]\n",
      "Epoch 141 - Learning Rate: 0.005 - KL theta: 3.89 - Rec loss: 1713.35 - NELBO: 1717.24\n",
      "Epoch 142 - Learning Rate: 0.005 - KL theta: 3.92 - Rec loss: 1712.94 - NELBO: 1716.86\n",
      "Epoch 143 - Learning Rate: 0.005 - KL theta: 4.01 - Rec loss: 1713.19 - NELBO: 1717.2\n",
      "Epoch 144 - Learning Rate: 0.005 - KL theta: 3.99 - Rec loss: 1712.78 - NELBO: 1716.77\n",
      "Epoch 145 - Learning Rate: 0.005 - KL theta: 3.98 - Rec loss: 1712.59 - NELBO: 1716.57\n",
      "Epoch 146 - Learning Rate: 0.005 - KL theta: 3.9 - Rec loss: 1712.55 - NELBO: 1716.45\n",
      "Epoch 147 - Learning Rate: 0.005 - KL theta: 3.8 - Rec loss: 1712.51 - NELBO: 1716.31\n",
      "Epoch 148 - Learning Rate: 0.005 - KL theta: 3.8 - Rec loss: 1712.53 - NELBO: 1716.33\n",
      "Epoch 149 - Learning Rate: 0.005 - KL theta: 3.85 - Rec loss: 1712.42 - NELBO: 1716.27\n",
      "Epoch 150 - Learning Rate: 0.005 - KL theta: 3.97 - Rec loss: 1711.84 - NELBO: 1715.81\n",
      "Topics: [['ballena', 'especie', 'agua', 'marino', 'área', 'región', 'mamífero', 'delfín', 'humedal', 'población'], ['ruido', 'nivel', 'ambiente', 'ambiental', 'impacto', 'persona', 'ciudad', 'salud', 'lugar', 'generar'], ['proyecto', 'público', 'empresa', 'parque', 'transporte', 'servicio', 'sector', 'vehículo', 'año', 'vecino']]\n",
      "Epoch 151 - Learning Rate: 0.005 - KL theta: 3.97 - Rec loss: 1711.85 - NELBO: 1715.82\n",
      "Epoch 152 - Learning Rate: 0.005 - KL theta: 3.84 - Rec loss: 1711.73 - NELBO: 1715.57\n",
      "Epoch 153 - Learning Rate: 0.005 - KL theta: 3.62 - Rec loss: 1712.16 - NELBO: 1715.78\n",
      "Epoch 154 - Learning Rate: 0.005 - KL theta: 3.54 - Rec loss: 1712.3 - NELBO: 1715.84\n",
      "Epoch 155 - Learning Rate: 0.005 - KL theta: 3.5 - Rec loss: 1712.09 - NELBO: 1715.59\n",
      "Epoch 156 - Learning Rate: 0.005 - KL theta: 3.61 - Rec loss: 1712.07 - NELBO: 1715.68\n",
      "Epoch 157 - Learning Rate: 0.005 - KL theta: 3.77 - Rec loss: 1711.41 - NELBO: 1715.18\n",
      "Epoch 158 - Learning Rate: 0.005 - KL theta: 3.86 - Rec loss: 1711.84 - NELBO: 1715.7\n",
      "Epoch 159 - Learning Rate: 0.005 - KL theta: 4.0 - Rec loss: 1711.62 - NELBO: 1715.62\n",
      "Epoch 160 - Learning Rate: 0.005 - KL theta: 4.29 - Rec loss: 1711.14 - NELBO: 1715.43\n",
      "Topics: [['ballena', 'especie', 'agua', 'marino', 'área', 'región', 'mamífero', 'delfín', 'humedal', 'población'], ['ruido', 'nivel', 'ambiente', 'ambiental', 'persona', 'impacto', 'ciudad', 'salud', 'lugar', 'generar'], ['proyecto', 'público', 'empresa', 'parque', 'transporte', 'servicio', 'sector', 'vehículo', 'año', 'vecino']]\n",
      "Epoch 161 - Learning Rate: 0.005 - KL theta: 4.33 - Rec loss: 1710.9 - NELBO: 1715.23\n",
      "Epoch 162 - Learning Rate: 0.005 - KL theta: 4.06 - Rec loss: 1710.85 - NELBO: 1714.91\n",
      "Epoch 163 - Learning Rate: 0.005 - KL theta: 3.77 - Rec loss: 1711.38 - NELBO: 1715.15\n",
      "Epoch 164 - Learning Rate: 0.005 - KL theta: 3.57 - Rec loss: 1711.36 - NELBO: 1714.93\n",
      "Epoch 165 - Learning Rate: 0.005 - KL theta: 3.49 - Rec loss: 1711.28 - NELBO: 1714.77\n",
      "Epoch 166 - Learning Rate: 0.005 - KL theta: 3.58 - Rec loss: 1711.62 - NELBO: 1715.2\n",
      "Epoch 167 - Learning Rate: 0.005 - KL theta: 3.82 - Rec loss: 1711.09 - NELBO: 1714.91\n",
      "Epoch 168 - Learning Rate: 0.005 - KL theta: 3.91 - Rec loss: 1710.65 - NELBO: 1714.56\n",
      "Epoch 169 - Learning Rate: 0.005 - KL theta: 3.97 - Rec loss: 1710.77 - NELBO: 1714.74\n",
      "Epoch 170 - Learning Rate: 0.005 - KL theta: 4.08 - Rec loss: 1710.39 - NELBO: 1714.47\n",
      "Topics: [['ballena', 'especie', 'agua', 'marino', 'región', 'mamífero', 'área', 'delfín', 'humedal', 'chile'], ['ruido', 'nivel', 'ambiental', 'ambiente', 'persona', 'impacto', 'ciudad', 'salud', 'lugar', 'generar'], ['proyecto', 'público', 'empresa', 'parque', 'transporte', 'servicio', 'sector', 'año', 'vecino', 'vehículo']]\n",
      "Epoch 171 - Learning Rate: 0.005 - KL theta: 4.18 - Rec loss: 1710.66 - NELBO: 1714.84\n",
      "Epoch 172 - Learning Rate: 0.005 - KL theta: 4.34 - Rec loss: 1710.3 - NELBO: 1714.64\n",
      "Epoch 173 - Learning Rate: 0.005 - KL theta: 4.2 - Rec loss: 1710.51 - NELBO: 1714.71\n",
      "Epoch 174 - Learning Rate: 0.005 - KL theta: 4.0 - Rec loss: 1710.56 - NELBO: 1714.56\n",
      "Epoch 175 - Learning Rate: 0.005 - KL theta: 3.94 - Rec loss: 1710.05 - NELBO: 1713.99\n",
      "Epoch 176 - Learning Rate: 0.005 - KL theta: 3.88 - Rec loss: 1710.57 - NELBO: 1714.45\n",
      "Epoch 177 - Learning Rate: 0.005 - KL theta: 3.99 - Rec loss: 1710.65 - NELBO: 1714.64\n",
      "Epoch 178 - Learning Rate: 0.005 - KL theta: 4.19 - Rec loss: 1709.76 - NELBO: 1713.95\n",
      "Epoch 179 - Learning Rate: 0.005 - KL theta: 4.19 - Rec loss: 1710.09 - NELBO: 1714.28\n",
      "Epoch 180 - Learning Rate: 0.005 - KL theta: 4.01 - Rec loss: 1710.72 - NELBO: 1714.73\n",
      "Topics: [['ballena', 'especie', 'agua', 'marino', 'región', 'mamífero', 'área', 'humedal', 'delfín', 'chile'], ['ruido', 'nivel', 'ambiental', 'ambiente', 'persona', 'ciudad', 'impacto', 'salud', 'lugar', 'generar'], ['proyecto', 'público', 'empresa', 'parque', 'servicio', 'transporte', 'año', 'vecino', 'sector', 'vehículo']]\n",
      "Epoch 181 - Learning Rate: 0.005 - KL theta: 3.74 - Rec loss: 1709.93 - NELBO: 1713.67\n",
      "Epoch 182 - Learning Rate: 0.005 - KL theta: 3.54 - Rec loss: 1710.73 - NELBO: 1714.27\n",
      "Epoch 183 - Learning Rate: 0.005 - KL theta: 3.44 - Rec loss: 1711.11 - NELBO: 1714.55\n",
      "Epoch 184 - Learning Rate: 0.005 - KL theta: 3.49 - Rec loss: 1710.21 - NELBO: 1713.7\n",
      "Epoch 185 - Learning Rate: 0.005 - KL theta: 3.69 - Rec loss: 1710.37 - NELBO: 1714.06\n",
      "Epoch 186 - Learning Rate: 0.005 - KL theta: 3.88 - Rec loss: 1709.78 - NELBO: 1713.66\n",
      "Epoch 187 - Learning Rate: 0.005 - KL theta: 4.02 - Rec loss: 1710.28 - NELBO: 1714.3\n",
      "Epoch 188 - Learning Rate: 0.005 - KL theta: 4.05 - Rec loss: 1709.33 - NELBO: 1713.38\n",
      "Epoch 189 - Learning Rate: 0.005 - KL theta: 3.98 - Rec loss: 1709.92 - NELBO: 1713.9\n",
      "Epoch 190 - Learning Rate: 0.005 - KL theta: 4.1 - Rec loss: 1709.57 - NELBO: 1713.67\n",
      "Topics: [['ballena', 'especie', 'agua', 'marino', 'región', 'mamífero', 'área', 'chile', 'delfín', 'población'], ['ruido', 'nivel', 'ambiental', 'ambiente', 'persona', 'ciudad', 'impacto', 'salud', 'lugar', 'generar'], ['proyecto', 'público', 'empresa', 'parque', 'transporte', 'servicio', 'año', 'vecino', 'sector', 'vehículo']]\n",
      "Epoch 191 - Learning Rate: 0.005 - KL theta: 4.12 - Rec loss: 1708.93 - NELBO: 1713.05\n",
      "Epoch 192 - Learning Rate: 0.005 - KL theta: 4.07 - Rec loss: 1708.96 - NELBO: 1713.03\n",
      "Epoch 193 - Learning Rate: 0.005 - KL theta: 3.92 - Rec loss: 1709.14 - NELBO: 1713.06\n",
      "Epoch 194 - Learning Rate: 0.005 - KL theta: 3.83 - Rec loss: 1709.0 - NELBO: 1712.83\n",
      "Epoch 195 - Learning Rate: 0.005 - KL theta: 3.62 - Rec loss: 1709.04 - NELBO: 1712.66\n",
      "Epoch 196 - Learning Rate: 0.005 - KL theta: 3.39 - Rec loss: 1709.84 - NELBO: 1713.23\n",
      "Epoch 197 - Learning Rate: 0.005 - KL theta: 3.38 - Rec loss: 1709.9 - NELBO: 1713.28\n",
      "Epoch 198 - Learning Rate: 0.005 - KL theta: 3.56 - Rec loss: 1709.82 - NELBO: 1713.38\n",
      "Epoch 199 - Learning Rate: 0.005 - KL theta: 3.83 - Rec loss: 1709.07 - NELBO: 1712.9\n",
      "Epoch 200 - Learning Rate: 0.005 - KL theta: 4.01 - Rec loss: 1708.75 - NELBO: 1712.76\n",
      "Topics: [['ballena', 'especie', 'agua', 'marino', 'región', 'mamífero', 'área', 'delfín', 'chile', 'ave'], ['ruido', 'nivel', 'ambiental', 'ambiente', 'persona', 'ciudad', 'impacto', 'salud', 'lugar', 'generar'], ['proyecto', 'público', 'empresa', 'parque', 'año', 'transporte', 'servicio', 'vecino', 'sector', 'vehículo']]\n",
      "Epoch 201 - Learning Rate: 0.005 - KL theta: 4.16 - Rec loss: 1708.72 - NELBO: 1712.88\n",
      "Epoch 202 - Learning Rate: 0.005 - KL theta: 4.29 - Rec loss: 1708.51 - NELBO: 1712.8\n",
      "Epoch 203 - Learning Rate: 0.005 - KL theta: 4.35 - Rec loss: 1708.56 - NELBO: 1712.91\n",
      "Epoch 204 - Learning Rate: 0.005 - KL theta: 4.3 - Rec loss: 1708.36 - NELBO: 1712.66\n"
     ]
    },
    {
     "name": "stdout",
     "output_type": "stream",
     "text": [
      "Epoch 205 - Learning Rate: 0.005 - KL theta: 3.98 - Rec loss: 1708.39 - NELBO: 1712.37\n",
      "Epoch 206 - Learning Rate: 0.005 - KL theta: 3.61 - Rec loss: 1708.87 - NELBO: 1712.48\n",
      "Epoch 207 - Learning Rate: 0.005 - KL theta: 3.35 - Rec loss: 1709.68 - NELBO: 1713.03\n",
      "Epoch 208 - Learning Rate: 0.005 - KL theta: 3.47 - Rec loss: 1708.96 - NELBO: 1712.43\n",
      "Epoch 209 - Learning Rate: 0.005 - KL theta: 3.71 - Rec loss: 1709.06 - NELBO: 1712.77\n",
      "Epoch 210 - Learning Rate: 0.005 - KL theta: 3.89 - Rec loss: 1708.59 - NELBO: 1712.48\n",
      "Topics: [['ballena', 'especie', 'agua', 'marino', 'región', 'mamífero', 'área', 'población', 'chile', 'delfín'], ['ruido', 'nivel', 'ambiental', 'ambiente', 'persona', 'ciudad', 'impacto', 'salud', 'lugar', 'generar'], ['proyecto', 'público', 'empresa', 'parque', 'año', 'transporte', 'vecino', 'servicio', 'vehículo', 'sector']]\n",
      "Epoch 211 - Learning Rate: 0.005 - KL theta: 3.95 - Rec loss: 1708.75 - NELBO: 1712.7\n",
      "Epoch 212 - Learning Rate: 0.005 - KL theta: 3.98 - Rec loss: 1708.79 - NELBO: 1712.77\n",
      "Epoch 213 - Learning Rate: 0.005 - KL theta: 4.21 - Rec loss: 1708.26 - NELBO: 1712.47\n",
      "Epoch 214 - Learning Rate: 0.005 - KL theta: 4.34 - Rec loss: 1708.08 - NELBO: 1712.42\n",
      "Epoch 215 - Learning Rate: 0.005 - KL theta: 4.13 - Rec loss: 1708.02 - NELBO: 1712.15\n",
      "Epoch 216 - Learning Rate: 0.005 - KL theta: 3.71 - Rec loss: 1708.81 - NELBO: 1712.52\n",
      "Epoch 217 - Learning Rate: 0.005 - KL theta: 3.52 - Rec loss: 1708.31 - NELBO: 1711.83\n",
      "Epoch 218 - Learning Rate: 0.005 - KL theta: 3.43 - Rec loss: 1709.0 - NELBO: 1712.43\n",
      "Epoch 219 - Learning Rate: 0.005 - KL theta: 3.57 - Rec loss: 1708.8 - NELBO: 1712.37\n",
      "Epoch 220 - Learning Rate: 0.005 - KL theta: 3.86 - Rec loss: 1708.36 - NELBO: 1712.22\n",
      "Topics: [['ballena', 'especie', 'agua', 'marino', 'región', 'mamífero', 'área', 'chile', 'ave', 'delfín'], ['ruido', 'nivel', 'ambiental', 'ambiente', 'persona', 'ciudad', 'impacto', 'salud', 'lugar', 'generar'], ['proyecto', 'público', 'empresa', 'parque', 'año', 'vecino', 'transporte', 'servicio', 'sector', 'vehículo']]\n",
      "Epoch 221 - Learning Rate: 0.005 - KL theta: 3.96 - Rec loss: 1707.86 - NELBO: 1711.82\n",
      "Epoch 222 - Learning Rate: 0.005 - KL theta: 3.95 - Rec loss: 1708.17 - NELBO: 1712.12\n",
      "Epoch 223 - Learning Rate: 0.005 - KL theta: 4.01 - Rec loss: 1708.26 - NELBO: 1712.27\n",
      "Epoch 224 - Learning Rate: 0.005 - KL theta: 4.06 - Rec loss: 1708.01 - NELBO: 1712.07\n",
      "Epoch 225 - Learning Rate: 0.005 - KL theta: 4.06 - Rec loss: 1708.21 - NELBO: 1712.27\n",
      "Epoch 226 - Learning Rate: 0.005 - KL theta: 3.9 - Rec loss: 1707.83 - NELBO: 1711.73\n",
      "Epoch 227 - Learning Rate: 0.005 - KL theta: 3.61 - Rec loss: 1708.13 - NELBO: 1711.74\n",
      "Epoch 228 - Learning Rate: 0.005 - KL theta: 3.48 - Rec loss: 1708.04 - NELBO: 1711.52\n",
      "Epoch 229 - Learning Rate: 0.005 - KL theta: 3.47 - Rec loss: 1708.36 - NELBO: 1711.83\n",
      "Epoch 230 - Learning Rate: 0.005 - KL theta: 3.59 - Rec loss: 1708.18 - NELBO: 1711.77\n",
      "Topics: [['ballena', 'especie', 'agua', 'marino', 'región', 'mamífero', 'área', 'chile', 'población', 'ave'], ['ruido', 'nivel', 'ambiental', 'ambiente', 'persona', 'ciudad', 'impacto', 'salud', 'lugar', 'generar'], ['proyecto', 'público', 'empresa', 'parque', 'año', 'transporte', 'vecino', 'servicio', 'vehículo', 'sector']]\n",
      "Epoch 231 - Learning Rate: 0.005 - KL theta: 3.77 - Rec loss: 1708.07 - NELBO: 1711.84\n",
      "Epoch 232 - Learning Rate: 0.005 - KL theta: 3.94 - Rec loss: 1707.72 - NELBO: 1711.66\n",
      "Epoch 233 - Learning Rate: 0.005 - KL theta: 4.0 - Rec loss: 1707.98 - NELBO: 1711.98\n",
      "Epoch 234 - Learning Rate: 0.005 - KL theta: 4.17 - Rec loss: 1707.72 - NELBO: 1711.89\n",
      "Epoch 235 - Learning Rate: 0.005 - KL theta: 4.28 - Rec loss: 1707.47 - NELBO: 1711.75\n",
      "Epoch 236 - Learning Rate: 0.005 - KL theta: 4.25 - Rec loss: 1707.33 - NELBO: 1711.58\n",
      "Epoch 237 - Learning Rate: 0.005 - KL theta: 4.22 - Rec loss: 1707.3 - NELBO: 1711.52\n",
      "Epoch 238 - Learning Rate: 0.005 - KL theta: 4.1 - Rec loss: 1707.79 - NELBO: 1711.89\n",
      "Epoch 239 - Learning Rate: 0.005 - KL theta: 3.97 - Rec loss: 1707.45 - NELBO: 1711.42\n",
      "Epoch 240 - Learning Rate: 0.005 - KL theta: 3.84 - Rec loss: 1707.62 - NELBO: 1711.46\n",
      "Topics: [['ballena', 'especie', 'agua', 'marino', 'región', 'mamífero', 'área', 'chile', 'ave', 'delfín'], ['ruido', 'nivel', 'ambiental', 'ambiente', 'persona', 'ciudad', 'salud', 'impacto', 'lugar', 'generar'], ['proyecto', 'público', 'empresa', 'parque', 'año', 'vecino', 'transporte', 'servicio', 'vehículo', 'sector']]\n",
      "Epoch 241 - Learning Rate: 0.005 - KL theta: 3.74 - Rec loss: 1707.6 - NELBO: 1711.34\n",
      "Epoch 242 - Learning Rate: 0.005 - KL theta: 3.73 - Rec loss: 1707.81 - NELBO: 1711.54\n",
      "Epoch 243 - Learning Rate: 0.005 - KL theta: 3.87 - Rec loss: 1707.43 - NELBO: 1711.3\n",
      "Epoch 244 - Learning Rate: 0.005 - KL theta: 4.01 - Rec loss: 1707.4 - NELBO: 1711.41\n",
      "Epoch 245 - Learning Rate: 0.005 - KL theta: 4.09 - Rec loss: 1707.47 - NELBO: 1711.56\n",
      "Epoch 246 - Learning Rate: 0.005 - KL theta: 4.17 - Rec loss: 1707.0 - NELBO: 1711.17\n",
      "Epoch 247 - Learning Rate: 0.005 - KL theta: 4.01 - Rec loss: 1707.33 - NELBO: 1711.34\n",
      "Epoch 248 - Learning Rate: 0.005 - KL theta: 3.73 - Rec loss: 1707.27 - NELBO: 1711.0\n",
      "Epoch 249 - Learning Rate: 0.005 - KL theta: 3.51 - Rec loss: 1708.46 - NELBO: 1711.97\n",
      "Epoch 250 - Learning Rate: 0.005 - KL theta: 3.69 - Rec loss: 1707.29 - NELBO: 1710.98\n",
      "Topics: [['ballena', 'especie', 'agua', 'marino', 'región', 'mamífero', 'área', 'chile', 'ave', 'delfín'], ['ruido', 'nivel', 'ambiental', 'ambiente', 'persona', 'ciudad', 'salud', 'impacto', 'lugar', 'generar'], ['proyecto', 'público', 'empresa', 'parque', 'año', 'vecino', 'transporte', 'servicio', 'vehículo', 'sector']]\n",
      "Epoch 251 - Learning Rate: 0.005 - KL theta: 3.81 - Rec loss: 1707.15 - NELBO: 1710.96\n",
      "Epoch 252 - Learning Rate: 0.005 - KL theta: 3.7 - Rec loss: 1707.86 - NELBO: 1711.56\n",
      "Epoch 253 - Learning Rate: 0.005 - KL theta: 3.77 - Rec loss: 1707.4 - NELBO: 1711.17\n",
      "Epoch 254 - Learning Rate: 0.005 - KL theta: 3.91 - Rec loss: 1707.1 - NELBO: 1711.01\n",
      "Epoch 255 - Learning Rate: 0.005 - KL theta: 4.04 - Rec loss: 1706.97 - NELBO: 1711.01\n",
      "Epoch 256 - Learning Rate: 0.005 - KL theta: 4.09 - Rec loss: 1706.96 - NELBO: 1711.05\n",
      "Epoch 257 - Learning Rate: 0.005 - KL theta: 4.05 - Rec loss: 1707.25 - NELBO: 1711.3\n",
      "Epoch 258 - Learning Rate: 0.005 - KL theta: 4.01 - Rec loss: 1706.96 - NELBO: 1710.97\n",
      "Epoch 259 - Learning Rate: 0.005 - KL theta: 3.83 - Rec loss: 1707.28 - NELBO: 1711.11\n",
      "Epoch 260 - Learning Rate: 0.005 - KL theta: 3.67 - Rec loss: 1707.06 - NELBO: 1710.73\n",
      "Topics: [['ballena', 'especie', 'agua', 'marino', 'región', 'mamífero', 'área', 'chile', 'ave', 'delfín'], ['ruido', 'nivel', 'ambiental', 'persona', 'ambiente', 'ciudad', 'salud', 'impacto', 'lugar', 'generar'], ['proyecto', 'público', 'empresa', 'parque', 'año', 'vecino', 'transporte', 'servicio', 'vehículo', 'sector']]\n",
      "Epoch 261 - Learning Rate: 0.005 - KL theta: 3.57 - Rec loss: 1707.67 - NELBO: 1711.24\n",
      "Epoch 262 - Learning Rate: 0.005 - KL theta: 3.6 - Rec loss: 1707.39 - NELBO: 1710.99\n",
      "Epoch 263 - Learning Rate: 0.005 - KL theta: 3.79 - Rec loss: 1706.96 - NELBO: 1710.75\n",
      "Epoch 264 - Learning Rate: 0.005 - KL theta: 3.99 - Rec loss: 1707.07 - NELBO: 1711.06\n",
      "Epoch 265 - Learning Rate: 0.005 - KL theta: 4.14 - Rec loss: 1707.53 - NELBO: 1711.67\n",
      "Epoch 266 - Learning Rate: 0.005 - KL theta: 4.25 - Rec loss: 1706.82 - NELBO: 1711.07\n",
      "Epoch 267 - Learning Rate: 0.005 - KL theta: 4.31 - Rec loss: 1706.28 - NELBO: 1710.59\n",
      "Epoch 268 - Learning Rate: 0.005 - KL theta: 4.17 - Rec loss: 1706.53 - NELBO: 1710.7\n",
      "Epoch 269 - Learning Rate: 0.005 - KL theta: 3.94 - Rec loss: 1706.96 - NELBO: 1710.9\n",
      "Epoch 270 - Learning Rate: 0.005 - KL theta: 3.77 - Rec loss: 1707.03 - NELBO: 1710.8\n",
      "Topics: [['ballena', 'especie', 'agua', 'marino', 'región', 'mamífero', 'área', 'chile', 'ave', 'población'], ['ruido', 'nivel', 'ambiental', 'persona', 'ambiente', 'ciudad', 'salud', 'impacto', 'lugar', 'generar'], ['proyecto', 'público', 'empresa', 'parque', 'año', 'vecino', 'transporte', 'servicio', 'vehículo', 'sector']]\n",
      "Epoch 271 - Learning Rate: 0.005 - KL theta: 3.79 - Rec loss: 1706.8 - NELBO: 1710.59\n",
      "Epoch 272 - Learning Rate: 0.005 - KL theta: 3.86 - Rec loss: 1706.84 - NELBO: 1710.7\n",
      "Epoch 273 - Learning Rate: 0.005 - KL theta: 3.86 - Rec loss: 1707.11 - NELBO: 1710.97\n",
      "Epoch 274 - Learning Rate: 0.005 - KL theta: 3.71 - Rec loss: 1706.74 - NELBO: 1710.45\n"
     ]
    },
    {
     "name": "stdout",
     "output_type": "stream",
     "text": [
      "Epoch 275 - Learning Rate: 0.005 - KL theta: 3.52 - Rec loss: 1707.32 - NELBO: 1710.84\n",
      "Epoch 276 - Learning Rate: 0.005 - KL theta: 3.47 - Rec loss: 1707.54 - NELBO: 1711.01\n",
      "Epoch 277 - Learning Rate: 0.005 - KL theta: 3.59 - Rec loss: 1707.05 - NELBO: 1710.64\n",
      "Epoch 278 - Learning Rate: 0.005 - KL theta: 3.81 - Rec loss: 1707.18 - NELBO: 1710.99\n",
      "Epoch 279 - Learning Rate: 0.005 - KL theta: 4.05 - Rec loss: 1706.89 - NELBO: 1710.94\n",
      "Epoch 280 - Learning Rate: 0.005 - KL theta: 4.12 - Rec loss: 1706.27 - NELBO: 1710.39\n",
      "Topics: [['ballena', 'especie', 'agua', 'marino', 'región', 'mamífero', 'área', 'chile', 'ave', 'población'], ['ruido', 'nivel', 'ambiental', 'persona', 'ambiente', 'ciudad', 'salud', 'impacto', 'lugar', 'generar'], ['proyecto', 'público', 'empresa', 'parque', 'año', 'transporte', 'vecino', 'servicio', 'vehículo', 'sector']]\n",
      "Epoch 281 - Learning Rate: 0.005 - KL theta: 3.95 - Rec loss: 1706.9 - NELBO: 1710.85\n",
      "Epoch 282 - Learning Rate: 0.005 - KL theta: 3.92 - Rec loss: 1706.58 - NELBO: 1710.5\n",
      "Epoch 283 - Learning Rate: 0.005 - KL theta: 3.91 - Rec loss: 1706.44 - NELBO: 1710.35\n",
      "Epoch 284 - Learning Rate: 0.005 - KL theta: 3.94 - Rec loss: 1706.38 - NELBO: 1710.32\n",
      "Epoch 285 - Learning Rate: 0.005 - KL theta: 3.99 - Rec loss: 1706.61 - NELBO: 1710.6\n",
      "Epoch 286 - Learning Rate: 0.005 - KL theta: 3.92 - Rec loss: 1706.45 - NELBO: 1710.37\n",
      "Epoch 287 - Learning Rate: 0.005 - KL theta: 3.72 - Rec loss: 1706.87 - NELBO: 1710.59\n",
      "Epoch 288 - Learning Rate: 0.005 - KL theta: 3.69 - Rec loss: 1707.22 - NELBO: 1710.91\n",
      "Epoch 289 - Learning Rate: 0.005 - KL theta: 3.8 - Rec loss: 1706.51 - NELBO: 1710.31\n",
      "Epoch 290 - Learning Rate: 0.005 - KL theta: 3.96 - Rec loss: 1706.58 - NELBO: 1710.54\n",
      "Topics: [['ballena', 'especie', 'agua', 'marino', 'región', 'mamífero', 'área', 'ave', 'chile', 'delfín'], ['ruido', 'nivel', 'ambiental', 'persona', 'ciudad', 'ambiente', 'salud', 'impacto', 'lugar', 'generar'], ['proyecto', 'público', 'empresa', 'parque', 'año', 'vecino', 'transporte', 'servicio', 'vehículo', 'sector']]\n",
      "Epoch 291 - Learning Rate: 0.005 - KL theta: 4.03 - Rec loss: 1706.48 - NELBO: 1710.51\n",
      "Epoch 292 - Learning Rate: 0.005 - KL theta: 3.94 - Rec loss: 1706.9 - NELBO: 1710.84\n",
      "Epoch 293 - Learning Rate: 0.005 - KL theta: 3.85 - Rec loss: 1706.67 - NELBO: 1710.52\n",
      "Epoch 294 - Learning Rate: 0.005 - KL theta: 3.84 - Rec loss: 1706.5 - NELBO: 1710.34\n",
      "Epoch 295 - Learning Rate: 0.005 - KL theta: 3.87 - Rec loss: 1706.8 - NELBO: 1710.67\n",
      "Epoch 296 - Learning Rate: 0.005 - KL theta: 3.95 - Rec loss: 1706.1 - NELBO: 1710.05\n",
      "Epoch 297 - Learning Rate: 0.005 - KL theta: 3.97 - Rec loss: 1706.32 - NELBO: 1710.29\n",
      "Epoch 298 - Learning Rate: 0.005 - KL theta: 3.93 - Rec loss: 1706.46 - NELBO: 1710.39\n",
      "Epoch 299 - Learning Rate: 0.005 - KL theta: 3.78 - Rec loss: 1706.55 - NELBO: 1710.33\n"
     ]
    },
    {
     "data": {
      "text/plain": [
       "<embedded_topic_model.models.etm.ETM at 0x7fd8fd639c90>"
      ]
     },
     "execution_count": 96,
     "metadata": {},
     "output_type": "execute_result"
    }
   ],
   "source": [
    "\n",
    "from embedded_topic_model.models.etm import ETM\n",
    "# Training an ETM instance\n",
    "\n",
    "true_k=3\n",
    "etm_instance = ETM(\n",
    "    diccionario,\n",
    "    embeddings=model, # You can pass here the path to a word2vec file or\n",
    "                                   # a KeyedVectors instance\n",
    "    num_topics=true_k,\n",
    "    epochs=300,\n",
    "    debug_mode=True,\n",
    "    train_embeddings=False, # Optional. If True, ETM will learn word embeddings jointly with\n",
    "                            # topic embeddings. By default, is False. If 'embeddings' argument\n",
    "                            # is being passed, this argument must not be True\n",
    ")\n",
    "\n",
    "etm_instance.fit(td)"
   ]
  },
  {
   "cell_type": "code",
   "execution_count": 97,
   "metadata": {},
   "outputs": [
    {
     "name": "stdout",
     "output_type": "stream",
     "text": [
      "0.159268236566679\n",
      "1.0\n"
     ]
    }
   ],
   "source": [
    "topic_coherence = etm_instance.get_topic_coherence()\n",
    "print(topic_coherence)\n",
    "topic_diversity = etm_instance.get_topic_diversity()\n",
    "print(topic_diversity)\n"
   ]
  },
  {
   "cell_type": "markdown",
   "metadata": {},
   "source": [
    "**Pregunta 2:** modifique parámetros de entrenamiento con ETM y compare resultados. Revise las definiciones de dievrsidad y coherencia en https://arxiv.org/abs/1907.04907 e interprete sus resultados. Además compare sus resultados con los obtenidos con LDA en la sesión anterior."
   ]
  },
  {
   "cell_type": "markdown",
   "metadata": {},
   "source": [
    "**Pregunta 3:** considere el conjunto de datos ya escogidos (en su versión ampliada). Defina un conjunto de entrenamiento y otro de test y compare los resultados de LDA y ETM."
   ]
  },
  {
   "cell_type": "code",
   "execution_count": null,
   "metadata": {},
   "outputs": [],
   "source": []
  }
 ],
 "metadata": {
  "kernelspec": {
   "display_name": "Python 3 (ipykernel)",
   "language": "python",
   "name": "python3"
  },
  "language_info": {
   "codemirror_mode": {
    "name": "ipython",
    "version": 3
   },
   "file_extension": ".py",
   "mimetype": "text/x-python",
   "name": "python",
   "nbconvert_exporter": "python",
   "pygments_lexer": "ipython3",
   "version": "3.7.12"
  }
 },
 "nbformat": 4,
 "nbformat_minor": 2
}
